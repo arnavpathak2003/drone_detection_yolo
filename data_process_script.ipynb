{
 "cells": [
  {
   "cell_type": "markdown",
   "metadata": {},
   "source": [
    "Dataset downloadded from : `https://www.kaggle.com/datasets/dasmehdixtr/drone-dataset-uav`"
   ]
  },
  {
   "cell_type": "markdown",
   "metadata": {},
   "source": [
    "(Uncomment the line below to download the data)"
   ]
  },
  {
   "cell_type": "code",
   "execution_count": 7,
   "metadata": {},
   "outputs": [
    {
     "name": "stdout",
     "output_type": "stream",
     "text": [
      "  % Total    % Received % Xferd  Average Speed   Time    Time     Time  Current\n",
      "                                 Dload  Upload   Total   Spent    Left  Speed\n",
      "  0     0    0     0    0     0      0      0 --:--:-- --:--:-- --:--:--     0\n",
      "100  715M  100  715M    0     0  15.0M      0  0:00:47  0:00:47 --:--:-- 16.1M\n"
     ]
    }
   ],
   "source": [
    "# !curl -L -o ./drone-dataset-uav.zip\\\n",
    "#   https://www.kaggle.com/api/v1/datasets/download/dasmehdixtr/drone-dataset-uav"
   ]
  },
  {
   "cell_type": "code",
   "execution_count": 32,
   "metadata": {},
   "outputs": [],
   "source": [
    "import zipfile\n",
    "from pathlib import Path\n",
    "import os\n",
    "from sklearn.model_selection import train_test_split\n",
    "import shutil\n",
    "import yaml"
   ]
  },
  {
   "cell_type": "code",
   "execution_count": 14,
   "metadata": {},
   "outputs": [],
   "source": [
    "ZIP_FILE_PATH = \"drone-dataset-uav.zip\"\n",
    "EXTRACTED_FOLDER_PATH = \"drone-dataset-uav-extracted\"\n",
    "\n",
    "with zipfile.ZipFile(ZIP_FILE_PATH, \"r\") as zip_ref:\n",
    "    zip_ref.extractall(EXTRACTED_FOLDER_PATH)\n"
   ]
  },
  {
   "cell_type": "code",
   "execution_count": 19,
   "metadata": {},
   "outputs": [],
   "source": [
    "RANDOM_SEED = 42"
   ]
  },
  {
   "cell_type": "code",
   "execution_count": 21,
   "metadata": {},
   "outputs": [],
   "source": [
    "image_ext = [\".jpg\"]\n",
    "label_ext = [\".txt\"]\n",
    "DATA_PATH = Path(\"drone-dataset-uav-extracted/drone_dataset_yolo/dataset_txt\")\n",
    "image_files = [f for f in DATA_PATH.iterdir() if f.suffix in image_ext]\n",
    "label_files = [f for f in DATA_PATH.iterdir() if f.suffix in label_ext]\n"
   ]
  },
  {
   "cell_type": "code",
   "execution_count": 22,
   "metadata": {},
   "outputs": [],
   "source": [
    "image_to_label = {\n",
    "    img: DATA_PATH / f\"{img.stem}.txt\"\n",
    "    for img in image_files\n",
    "    if (DATA_PATH / f\"{img.stem}.txt\").exists()\n",
    "}\n",
    "\n",
    "images = list(image_to_label.keys())\n",
    "labels = list(image_to_label.values())\n"
   ]
  },
  {
   "cell_type": "code",
   "execution_count": 23,
   "metadata": {},
   "outputs": [],
   "source": [
    "train_images, val_images, train_labels, val_labels = train_test_split(\n",
    "    images, labels, test_size=0.2, random_state=RANDOM_SEED\n",
    ")\n"
   ]
  },
  {
   "cell_type": "code",
   "execution_count": 24,
   "metadata": {},
   "outputs": [],
   "source": [
    "DATASET_PATH = Path(\"datasets\")\n",
    "\n",
    "if DATASET_PATH.exists() and DATASET_PATH.is_dir():\n",
    "    shutil.rmtree(DATASET_PATH)\n",
    "\n",
    "DATASET_PATH.mkdir(parents=True, exist_ok=True)\n"
   ]
  },
  {
   "cell_type": "code",
   "execution_count": 25,
   "metadata": {},
   "outputs": [],
   "source": [
    "for split in [\"train\", \"val\"]:\n",
    "    for folder in [\"images\", \"labels\"]:\n",
    "        (DATASET_PATH / split / folder).mkdir(parents=True, exist_ok=True)"
   ]
  },
  {
   "cell_type": "code",
   "execution_count": 26,
   "metadata": {},
   "outputs": [],
   "source": [
    "def move_files(file_list, split, folder_name):\n",
    "    for file in file_list:\n",
    "        destination = DATASET_PATH / split / folder_name / file.name\n",
    "        shutil.copy(file, destination)\n"
   ]
  },
  {
   "cell_type": "code",
   "execution_count": 27,
   "metadata": {},
   "outputs": [],
   "source": [
    "move_files(train_images, \"train\", \"images\")\n",
    "move_files(val_images, \"val\", \"images\")\n",
    "move_files(train_labels, \"train\", \"labels\")\n",
    "move_files(val_labels, \"val\", \"labels\")"
   ]
  },
  {
   "cell_type": "code",
   "execution_count": null,
   "metadata": {},
   "outputs": [],
   "source": [
    "shutil.rmtree(EXTRACTED_FOLDER_PATH)\n",
    "os.remove(ZIP_FILE_PATH)\n"
   ]
  },
  {
   "cell_type": "code",
   "execution_count": 38,
   "metadata": {},
   "outputs": [
    {
     "name": "stdout",
     "output_type": "stream",
     "text": [
      "Created 'dataset.yaml' for YOLO data configuration.\n"
     ]
    }
   ],
   "source": [
    "train_images_path = Path(\"./train/images\")\n",
    "val_images_path = Path(\"./val/images\")\n",
    "\n",
    "num_classes = 1\n",
    "class_names = [\"drone\"]\n",
    "\n",
    "data_dict = {\n",
    "    \"train\": str(train_images_path),\n",
    "    \"val\": str(val_images_path),\n",
    "    \"nc\": num_classes,\n",
    "    \"names\": class_names,\n",
    "}\n",
    "\n",
    "YAML_FILE_PATH = Path(\"dataset.yaml\")\n",
    "\n",
    "with open(YAML_FILE_PATH, \"w\") as yaml_file:\n",
    "    yaml.dump(data_dict, yaml_file, default_flow_style=False)\n",
    "\n",
    "print(f\"Created '{YAML_FILE_PATH}' for YOLO data configuration.\")\n"
   ]
  },
  {
   "cell_type": "code",
   "execution_count": null,
   "metadata": {},
   "outputs": [],
   "source": []
  }
 ],
 "metadata": {
  "kernelspec": {
   "display_name": "yolo",
   "language": "python",
   "name": "python3"
  },
  "language_info": {
   "codemirror_mode": {
    "name": "ipython",
    "version": 3
   },
   "file_extension": ".py",
   "mimetype": "text/x-python",
   "name": "python",
   "nbconvert_exporter": "python",
   "pygments_lexer": "ipython3",
   "version": "3.12.3"
  }
 },
 "nbformat": 4,
 "nbformat_minor": 2
}
