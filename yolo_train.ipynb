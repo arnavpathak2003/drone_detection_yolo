{
 "cells": [
  {
   "cell_type": "code",
   "execution_count": 1,
   "metadata": {},
   "outputs": [
    {
     "name": "stdout",
     "output_type": "stream",
     "text": [
      "New https://pypi.org/project/ultralytics/8.3.67 available 😃 Update with 'pip install -U ultralytics'\n",
      "Ultralytics 8.3.62 🚀 Python-3.12.3 torch-2.5.1 CUDA:0 (NVIDIA GeForce RTX 3060 Laptop GPU, 5830MiB)\n",
      "\u001b[34m\u001b[1mengine/trainer: \u001b[0mtask=detect, mode=train, model=yolov8n.pt, data=dataset.yaml, epochs=100, time=None, patience=10, batch=32, imgsz=640, save=True, save_period=1, cache=False, device=None, workers=8, project=None, name=train3, exist_ok=False, pretrained=True, optimizer=auto, verbose=True, seed=0, deterministic=True, single_cls=False, rect=False, cos_lr=False, close_mosaic=10, resume=False, amp=True, fraction=1.0, profile=False, freeze=None, multi_scale=False, overlap_mask=True, mask_ratio=4, dropout=0.0, val=True, split=val, save_json=False, save_hybrid=False, conf=None, iou=0.7, max_det=300, half=False, dnn=False, plots=True, source=None, vid_stride=1, stream_buffer=False, visualize=False, augment=False, agnostic_nms=False, classes=None, retina_masks=False, embed=None, show=False, save_frames=False, save_txt=False, save_conf=False, save_crop=False, show_labels=True, show_conf=True, show_boxes=True, line_width=None, format=torchscript, keras=False, optimize=False, int8=False, dynamic=False, simplify=True, opset=None, workspace=None, nms=False, lr0=0.01, lrf=0.01, momentum=0.937, weight_decay=0.0005, warmup_epochs=3.0, warmup_momentum=0.8, warmup_bias_lr=0.1, box=7.5, cls=0.5, dfl=1.5, pose=12.0, kobj=1.0, nbs=64, hsv_h=0.015, hsv_s=0.7, hsv_v=0.4, degrees=0.0, translate=0.1, scale=0.5, shear=0.0, perspective=0.0, flipud=0.0, fliplr=0.5, bgr=0.0, mosaic=1.0, mixup=0.0, copy_paste=0.0, copy_paste_mode=flip, auto_augment=randaugment, erasing=0.4, crop_fraction=1.0, cfg=None, tracker=botsort.yaml, save_dir=runs/detect/train3\n",
      "Overriding model.yaml nc=80 with nc=1\n",
      "\n",
      "                   from  n    params  module                                       arguments                     \n",
      "  0                  -1  1       464  ultralytics.nn.modules.conv.Conv             [3, 16, 3, 2]                 \n",
      "  1                  -1  1      4672  ultralytics.nn.modules.conv.Conv             [16, 32, 3, 2]                \n",
      "  2                  -1  1      7360  ultralytics.nn.modules.block.C2f             [32, 32, 1, True]             \n",
      "  3                  -1  1     18560  ultralytics.nn.modules.conv.Conv             [32, 64, 3, 2]                \n",
      "  4                  -1  2     49664  ultralytics.nn.modules.block.C2f             [64, 64, 2, True]             \n",
      "  5                  -1  1     73984  ultralytics.nn.modules.conv.Conv             [64, 128, 3, 2]               \n",
      "  6                  -1  2    197632  ultralytics.nn.modules.block.C2f             [128, 128, 2, True]           \n",
      "  7                  -1  1    295424  ultralytics.nn.modules.conv.Conv             [128, 256, 3, 2]              \n",
      "  8                  -1  1    460288  ultralytics.nn.modules.block.C2f             [256, 256, 1, True]           \n",
      "  9                  -1  1    164608  ultralytics.nn.modules.block.SPPF            [256, 256, 5]                 \n",
      " 10                  -1  1         0  torch.nn.modules.upsampling.Upsample         [None, 2, 'nearest']          \n",
      " 11             [-1, 6]  1         0  ultralytics.nn.modules.conv.Concat           [1]                           \n",
      " 12                  -1  1    148224  ultralytics.nn.modules.block.C2f             [384, 128, 1]                 \n",
      " 13                  -1  1         0  torch.nn.modules.upsampling.Upsample         [None, 2, 'nearest']          \n",
      " 14             [-1, 4]  1         0  ultralytics.nn.modules.conv.Concat           [1]                           \n",
      " 15                  -1  1     37248  ultralytics.nn.modules.block.C2f             [192, 64, 1]                  \n",
      " 16                  -1  1     36992  ultralytics.nn.modules.conv.Conv             [64, 64, 3, 2]                \n",
      " 17            [-1, 12]  1         0  ultralytics.nn.modules.conv.Concat           [1]                           \n",
      " 18                  -1  1    123648  ultralytics.nn.modules.block.C2f             [192, 128, 1]                 \n",
      " 19                  -1  1    147712  ultralytics.nn.modules.conv.Conv             [128, 128, 3, 2]              \n",
      " 20             [-1, 9]  1         0  ultralytics.nn.modules.conv.Concat           [1]                           \n",
      " 21                  -1  1    493056  ultralytics.nn.modules.block.C2f             [384, 256, 1]                 \n",
      " 22        [15, 18, 21]  1    751507  ultralytics.nn.modules.head.Detect           [1, [64, 128, 256]]           \n",
      "Model summary: 225 layers, 3,011,043 parameters, 3,011,027 gradients\n",
      "\n",
      "Transferred 319/355 items from pretrained weights\n",
      "Freezing layer 'model.22.dfl.conv.weight'\n",
      "\u001b[34m\u001b[1mAMP: \u001b[0mrunning Automatic Mixed Precision (AMP) checks...\n",
      "\u001b[34m\u001b[1mAMP: \u001b[0mchecks passed ✅\n"
     ]
    },
    {
     "name": "stderr",
     "output_type": "stream",
     "text": [
      "\u001b[34m\u001b[1mtrain: \u001b[0mScanning /home/arnav_pathak/bhumi_itech/selection_task/yolo/datasets/train/labels.cache... 1087 images, 0 backgrounds, 0 corrupt: 100%|██████████| 1087/1087 [00:00<?, ?it/s]"
     ]
    },
    {
     "name": "stdout",
     "output_type": "stream",
     "text": [
      "\u001b[34m\u001b[1mtrain: \u001b[0mWARNING ⚠️ /home/arnav_pathak/bhumi_itech/selection_task/yolo/datasets/train/images/pic_722.jpg: corrupt JPEG restored and saved\n"
     ]
    },
    {
     "name": "stderr",
     "output_type": "stream",
     "text": [
      "\n",
      "\u001b[34m\u001b[1mval: \u001b[0mScanning /home/arnav_pathak/bhumi_itech/selection_task/yolo/datasets/val/labels.cache... 272 images, 0 backgrounds, 0 corrupt: 100%|██████████| 272/272 [00:00<?, ?it/s]\n",
      "libpng warning: iCCP: known incorrect sRGB profile\n",
      "libpng warning: iCCP: known incorrect sRGB profile\n",
      "libpng warning: iCCP: known incorrect sRGB profile\n",
      "libpng warning: iCCP: known incorrect sRGB profile\n",
      "libpng warning: iCCP: known incorrect sRGB profile\n",
      "libpng warning: iCCP: known incorrect sRGB profile\n",
      "libpng warning: iCCP: known incorrect sRGB profile\n"
     ]
    },
    {
     "name": "stdout",
     "output_type": "stream",
     "text": [
      "Plotting labels to runs/detect/train3/labels.jpg... \n",
      "\u001b[34m\u001b[1moptimizer:\u001b[0m 'optimizer=auto' found, ignoring 'lr0=0.01' and 'momentum=0.937' and determining best 'optimizer', 'lr0' and 'momentum' automatically... \n",
      "\u001b[34m\u001b[1moptimizer:\u001b[0m AdamW(lr=0.002, momentum=0.9) with parameter groups 57 weight(decay=0.0), 64 weight(decay=0.0005), 63 bias(decay=0.0)\n",
      "Image sizes 640 train, 640 val\n",
      "Using 8 dataloader workers\n",
      "Logging results to \u001b[1mruns/detect/train3\u001b[0m\n",
      "Starting training for 100 epochs...\n",
      "\n",
      "      Epoch    GPU_mem   box_loss   cls_loss   dfl_loss  Instances       Size\n"
     ]
    },
    {
     "name": "stderr",
     "output_type": "stream",
     "text": [
      "      1/100      4.22G      1.906       2.95      2.004         86        640:  15%|█▍        | 5/34 [00:01<00:08,  3.51it/s]Corrupt JPEG data: 1 extraneous bytes before marker 0xd9\n",
      "      1/100      4.25G      1.848      2.916      1.955         81        640:  26%|██▋       | 9/34 [00:02<00:07,  3.37it/s]libpng warning: iCCP: known incorrect sRGB profile\n",
      "      1/100      4.25G      1.548      2.245      1.704         80        640: 100%|██████████| 34/34 [00:08<00:00,  4.17it/s]\n",
      "                 Class     Images  Instances      Box(P          R      mAP50  mAP50-95):  40%|████      | 2/5 [00:00<00:00,  5.97it/s]libpng warning: iCCP: known incorrect sRGB profile\n",
      "                 Class     Images  Instances      Box(P          R      mAP50  mAP50-95): 100%|██████████| 5/5 [00:00<00:00,  5.62it/s]"
     ]
    },
    {
     "name": "stdout",
     "output_type": "stream",
     "text": [
      "                   all        272        296      0.748      0.481      0.652      0.337\n"
     ]
    },
    {
     "name": "stderr",
     "output_type": "stream",
     "text": [
      "\n"
     ]
    },
    {
     "name": "stdout",
     "output_type": "stream",
     "text": [
      "\n",
      "      Epoch    GPU_mem   box_loss   cls_loss   dfl_loss  Instances       Size\n"
     ]
    },
    {
     "name": "stderr",
     "output_type": "stream",
     "text": [
      "      2/100      4.26G      1.426      1.802      1.576        126        640:  29%|██▉       | 10/34 [00:02<00:04,  4.87it/s]Corrupt JPEG data: 1 extraneous bytes before marker 0xd9\n",
      "      2/100      4.26G      1.422      1.739      1.575         88        640:  50%|█████     | 17/34 [00:03<00:03,  4.77it/s]libpng warning: iCCP: known incorrect sRGB profile\n",
      "      2/100      4.26G      1.437      1.706      1.591        101        640:  94%|█████████▍| 32/34 [00:06<00:00,  5.03it/s]libpng warning: iCCP: known incorrect sRGB profile\n",
      "      2/100      4.26G      1.437      1.701      1.592         75        640: 100%|██████████| 34/34 [00:07<00:00,  4.81it/s]\n",
      "                 Class     Images  Instances      Box(P          R      mAP50  mAP50-95):  60%|██████    | 3/5 [00:00<00:00,  5.39it/s]libpng warning: iCCP: known incorrect sRGB profile\n",
      "                 Class     Images  Instances      Box(P          R      mAP50  mAP50-95): 100%|██████████| 5/5 [00:00<00:00,  5.92it/s]\n"
     ]
    },
    {
     "name": "stdout",
     "output_type": "stream",
     "text": [
      "                   all        272        296      0.454      0.389      0.369      0.154\n",
      "\n",
      "      Epoch    GPU_mem   box_loss   cls_loss   dfl_loss  Instances       Size\n"
     ]
    },
    {
     "name": "stderr",
     "output_type": "stream",
     "text": [
      "      3/100      4.26G      1.464      1.635      1.596         90        640:  32%|███▏      | 11/34 [00:02<00:05,  4.11it/s]Corrupt JPEG data: 1 extraneous bytes before marker 0xd9\n",
      "      3/100      4.26G      1.461      1.649      1.595         73        640:  50%|█████     | 17/34 [00:03<00:03,  4.81it/s]libpng warning: iCCP: known incorrect sRGB profile\n",
      "      3/100      4.26G      1.473      1.619      1.612         83        640:  82%|████████▏ | 28/34 [00:05<00:01,  5.03it/s]libpng warning: iCCP: known incorrect sRGB profile\n",
      "      3/100      4.26G      1.476      1.609      1.609         89        640: 100%|██████████| 34/34 [00:07<00:00,  4.81it/s]\n",
      "                 Class     Images  Instances      Box(P          R      mAP50  mAP50-95):  40%|████      | 2/5 [00:00<00:00,  3.77it/s]libpng warning: iCCP: known incorrect sRGB profile\n",
      "                 Class     Images  Instances      Box(P          R      mAP50  mAP50-95): 100%|██████████| 5/5 [00:01<00:00,  3.52it/s]"
     ]
    },
    {
     "name": "stdout",
     "output_type": "stream",
     "text": [
      "                   all        272        296      0.527      0.381      0.393      0.148\n"
     ]
    },
    {
     "name": "stderr",
     "output_type": "stream",
     "text": [
      "\n"
     ]
    },
    {
     "name": "stdout",
     "output_type": "stream",
     "text": [
      "\n",
      "      Epoch    GPU_mem   box_loss   cls_loss   dfl_loss  Instances       Size\n"
     ]
    },
    {
     "name": "stderr",
     "output_type": "stream",
     "text": [
      "      4/100      4.26G      1.397      1.445      1.656         75        640:   3%|▎         | 1/34 [00:00<00:06,  4.91it/s]Corrupt JPEG data: 1 extraneous bytes before marker 0xd9\n",
      "      4/100      4.26G      1.515      1.519      1.672         89        640:  53%|█████▎    | 18/34 [00:03<00:03,  4.36it/s]libpng warning: iCCP: known incorrect sRGB profile\n",
      "      4/100      4.26G      1.519      1.501      1.656         72        640:  88%|████████▊ | 30/34 [00:06<00:00,  4.98it/s]libpng warning: iCCP: known incorrect sRGB profile\n",
      "      4/100      4.26G      1.519      1.498      1.656         76        640:  91%|█████████ | 31/34 [00:06<00:00,  4.96it/s]Corrupt JPEG data: 1 extraneous bytes before marker 0xd9\n",
      "      4/100      4.26G      1.526      1.497      1.659         81        640: 100%|██████████| 34/34 [00:07<00:00,  4.69it/s]\n",
      "                 Class     Images  Instances      Box(P          R      mAP50  mAP50-95):  40%|████      | 2/5 [00:00<00:00,  4.78it/s]libpng warning: iCCP: known incorrect sRGB profile\n",
      "                 Class     Images  Instances      Box(P          R      mAP50  mAP50-95): 100%|██████████| 5/5 [00:01<00:00,  3.93it/s]"
     ]
    },
    {
     "name": "stdout",
     "output_type": "stream",
     "text": [
      "                   all        272        296     0.0633      0.169      0.035    0.00926\n"
     ]
    },
    {
     "name": "stderr",
     "output_type": "stream",
     "text": [
      "\n"
     ]
    },
    {
     "name": "stdout",
     "output_type": "stream",
     "text": [
      "\n",
      "      Epoch    GPU_mem   box_loss   cls_loss   dfl_loss  Instances       Size\n"
     ]
    },
    {
     "name": "stderr",
     "output_type": "stream",
     "text": [
      "      5/100      4.26G      1.457      1.372      1.577         85        640:  79%|███████▉  | 27/34 [00:05<00:01,  4.98it/s]Corrupt JPEG data: 1 extraneous bytes before marker 0xd9\n",
      "      5/100      4.26G       1.47      1.375      1.591         77        640: 100%|██████████| 34/34 [00:06<00:00,  4.94it/s]\n",
      "                 Class     Images  Instances      Box(P          R      mAP50  mAP50-95):  40%|████      | 2/5 [00:00<00:00,  4.08it/s]libpng warning: iCCP: known incorrect sRGB profile\n",
      "                 Class     Images  Instances      Box(P          R      mAP50  mAP50-95): 100%|██████████| 5/5 [00:01<00:00,  4.38it/s]"
     ]
    },
    {
     "name": "stdout",
     "output_type": "stream",
     "text": [
      "                   all        272        296      0.428      0.486      0.364      0.157\n"
     ]
    },
    {
     "name": "stderr",
     "output_type": "stream",
     "text": [
      "\n"
     ]
    },
    {
     "name": "stdout",
     "output_type": "stream",
     "text": [
      "\n",
      "      Epoch    GPU_mem   box_loss   cls_loss   dfl_loss  Instances       Size\n"
     ]
    },
    {
     "name": "stderr",
     "output_type": "stream",
     "text": [
      "      6/100      4.26G      1.468      1.438      1.621         84        640:  18%|█▊        | 6/34 [00:01<00:05,  5.10it/s]libpng warning: iCCP: known incorrect sRGB profile\n",
      "      6/100      4.26G      1.465      1.351      1.607         99        640:  44%|████▍     | 15/34 [00:03<00:03,  4.83it/s]libpng warning: iCCP: known incorrect sRGB profile\n",
      "      6/100      4.26G      1.456      1.319      1.578         84        640:  76%|███████▋  | 26/34 [00:05<00:01,  4.83it/s]libpng warning: iCCP: known incorrect sRGB profile\n",
      "      6/100      4.26G      1.446      1.296      1.571         84        640: 100%|██████████| 34/34 [00:06<00:00,  4.90it/s]\n",
      "                 Class     Images  Instances      Box(P          R      mAP50  mAP50-95):  60%|██████    | 3/5 [00:00<00:00,  4.58it/s]libpng warning: iCCP: known incorrect sRGB profile\n",
      "                 Class     Images  Instances      Box(P          R      mAP50  mAP50-95): 100%|██████████| 5/5 [00:00<00:00,  5.16it/s]\n"
     ]
    },
    {
     "name": "stdout",
     "output_type": "stream",
     "text": [
      "                   all        272        296      0.764      0.676      0.738      0.383\n",
      "\n",
      "      Epoch    GPU_mem   box_loss   cls_loss   dfl_loss  Instances       Size\n"
     ]
    },
    {
     "name": "stderr",
     "output_type": "stream",
     "text": [
      "      7/100      4.26G      1.481      1.261      1.587         93        640:  29%|██▉       | 10/34 [00:02<00:05,  4.77it/s]libpng warning: iCCP: known incorrect sRGB profile\n",
      "      7/100      4.26G      1.445      1.251      1.558         91        640:  47%|████▋     | 16/34 [00:03<00:03,  4.65it/s]Corrupt JPEG data: 1 extraneous bytes before marker 0xd9\n",
      "      7/100      4.26G      1.445      1.247      1.557         90        640: 100%|██████████| 34/34 [00:06<00:00,  4.87it/s]\n",
      "                 Class     Images  Instances      Box(P          R      mAP50  mAP50-95):  60%|██████    | 3/5 [00:00<00:00,  5.48it/s]libpng warning: iCCP: known incorrect sRGB profile\n",
      "                 Class     Images  Instances      Box(P          R      mAP50  mAP50-95): 100%|██████████| 5/5 [00:01<00:00,  4.96it/s]"
     ]
    },
    {
     "name": "stdout",
     "output_type": "stream",
     "text": [
      "                   all        272        296      0.639      0.574      0.606      0.268\n"
     ]
    },
    {
     "name": "stderr",
     "output_type": "stream",
     "text": [
      "\n"
     ]
    },
    {
     "name": "stdout",
     "output_type": "stream",
     "text": [
      "\n",
      "      Epoch    GPU_mem   box_loss   cls_loss   dfl_loss  Instances       Size\n"
     ]
    },
    {
     "name": "stderr",
     "output_type": "stream",
     "text": [
      "      8/100      4.26G      1.401      1.223      1.529         79        640:  21%|██        | 7/34 [00:01<00:05,  4.69it/s]Corrupt JPEG data: 1 extraneous bytes before marker 0xd9\n",
      "      8/100      4.26G      1.412      1.187      1.549         89        640:  56%|█████▌    | 19/34 [00:03<00:02,  5.09it/s]libpng warning: iCCP: known incorrect sRGB profile\n",
      "      8/100      4.26G      1.409      1.168      1.542         90        640:  74%|███████▎  | 25/34 [00:04<00:01,  5.07it/s]libpng warning: iCCP: known incorrect sRGB profile\n",
      "      8/100      4.26G      1.422      1.169      1.546         98        640:  91%|█████████ | 31/34 [00:06<00:00,  5.12it/s]libpng warning: iCCP: known incorrect sRGB profile\n",
      "      8/100      4.26G      1.419      1.168      1.547         82        640: 100%|██████████| 34/34 [00:06<00:00,  5.05it/s]\n",
      "                 Class     Images  Instances      Box(P          R      mAP50  mAP50-95):  60%|██████    | 3/5 [00:00<00:00,  5.04it/s]libpng warning: iCCP: known incorrect sRGB profile\n",
      "                 Class     Images  Instances      Box(P          R      mAP50  mAP50-95): 100%|██████████| 5/5 [00:00<00:00,  5.85it/s]"
     ]
    },
    {
     "name": "stdout",
     "output_type": "stream",
     "text": [
      "                   all        272        296      0.766      0.676      0.759      0.409\n"
     ]
    },
    {
     "name": "stderr",
     "output_type": "stream",
     "text": [
      "\n"
     ]
    },
    {
     "name": "stdout",
     "output_type": "stream",
     "text": [
      "\n",
      "      Epoch    GPU_mem   box_loss   cls_loss   dfl_loss  Instances       Size\n"
     ]
    },
    {
     "name": "stderr",
     "output_type": "stream",
     "text": [
      "      9/100      4.26G      1.358      1.106      1.506         81        640:  26%|██▋       | 9/34 [00:01<00:05,  4.91it/s]Corrupt JPEG data: 1 extraneous bytes before marker 0xd9\n",
      "      9/100      4.26G      1.359      1.089      1.495         96        640:  94%|█████████▍| 32/34 [00:06<00:00,  5.14it/s]Corrupt JPEG data: 1 extraneous bytes before marker 0xd9\n",
      "      9/100      4.26G       1.36       1.09      1.498         86        640: 100%|██████████| 34/34 [00:06<00:00,  4.95it/s]\n",
      "                 Class     Images  Instances      Box(P          R      mAP50  mAP50-95):  60%|██████    | 3/5 [00:00<00:00,  5.48it/s]libpng warning: iCCP: known incorrect sRGB profile\n",
      "                 Class     Images  Instances      Box(P          R      mAP50  mAP50-95): 100%|██████████| 5/5 [00:00<00:00,  6.17it/s]"
     ]
    },
    {
     "name": "stdout",
     "output_type": "stream",
     "text": [
      "                   all        272        296      0.687      0.649       0.65      0.323\n"
     ]
    },
    {
     "name": "stderr",
     "output_type": "stream",
     "text": [
      "\n"
     ]
    },
    {
     "name": "stdout",
     "output_type": "stream",
     "text": [
      "\n",
      "      Epoch    GPU_mem   box_loss   cls_loss   dfl_loss  Instances       Size\n"
     ]
    },
    {
     "name": "stderr",
     "output_type": "stream",
     "text": [
      "     10/100      4.26G      1.386      1.042      1.494         86        640:   6%|▌         | 2/34 [00:00<00:06,  5.15it/s]libpng warning: iCCP: known incorrect sRGB profile\n",
      "     10/100      4.26G      1.429      1.125      1.539         92        640:  32%|███▏      | 11/34 [00:02<00:04,  4.70it/s]libpng warning: iCCP: known incorrect sRGB profile\n",
      "     10/100      4.26G      1.364      1.088        1.5         89        640:  68%|██████▊   | 23/34 [00:04<00:02,  5.13it/s]libpng warning: iCCP: known incorrect sRGB profile\n",
      "     10/100      4.26G      1.366      1.082        1.5         82        640:  85%|████████▌ | 29/34 [00:05<00:00,  5.10it/s]Corrupt JPEG data: 1 extraneous bytes before marker 0xd9\n",
      "     10/100      4.26G      1.371      1.087      1.497         65        640: 100%|██████████| 34/34 [00:06<00:00,  4.94it/s]\n",
      "                 Class     Images  Instances      Box(P          R      mAP50  mAP50-95):  60%|██████    | 3/5 [00:00<00:00,  5.47it/s]libpng warning: iCCP: known incorrect sRGB profile\n",
      "                 Class     Images  Instances      Box(P          R      mAP50  mAP50-95): 100%|██████████| 5/5 [00:00<00:00,  6.05it/s]"
     ]
    },
    {
     "name": "stdout",
     "output_type": "stream",
     "text": [
      "                   all        272        296      0.776      0.621      0.714      0.374\n"
     ]
    },
    {
     "name": "stderr",
     "output_type": "stream",
     "text": [
      "\n"
     ]
    },
    {
     "name": "stdout",
     "output_type": "stream",
     "text": [
      "\n",
      "      Epoch    GPU_mem   box_loss   cls_loss   dfl_loss  Instances       Size\n"
     ]
    },
    {
     "name": "stderr",
     "output_type": "stream",
     "text": [
      "     11/100       4.3G      1.311     0.9968      1.453         75        640:  32%|███▏      | 11/34 [00:02<00:04,  4.96it/s]libpng warning: iCCP: known incorrect sRGB profile\n",
      "     11/100       4.3G      1.325       1.03      1.479         90        640:  88%|████████▊ | 30/34 [00:06<00:00,  5.18it/s]libpng warning: iCCP: known incorrect sRGB profile\n",
      "     11/100       4.3G      1.329      1.036      1.484         85        640: 100%|██████████| 34/34 [00:06<00:00,  4.94it/s]\n",
      "                 Class     Images  Instances      Box(P          R      mAP50  mAP50-95):  60%|██████    | 3/5 [00:00<00:00,  5.55it/s]libpng warning: iCCP: known incorrect sRGB profile\n",
      "                 Class     Images  Instances      Box(P          R      mAP50  mAP50-95): 100%|██████████| 5/5 [00:00<00:00,  6.12it/s]"
     ]
    },
    {
     "name": "stdout",
     "output_type": "stream",
     "text": [
      "                   all        272        296      0.809      0.703      0.767      0.427\n"
     ]
    },
    {
     "name": "stderr",
     "output_type": "stream",
     "text": [
      "\n"
     ]
    },
    {
     "name": "stdout",
     "output_type": "stream",
     "text": [
      "\n",
      "      Epoch    GPU_mem   box_loss   cls_loss   dfl_loss  Instances       Size\n"
     ]
    },
    {
     "name": "stderr",
     "output_type": "stream",
     "text": [
      "     12/100      4.26G      1.359      1.043      1.465         85        640:  38%|███▊      | 13/34 [00:02<00:04,  5.01it/s]libpng warning: iCCP: known incorrect sRGB profile\n",
      "     12/100      4.26G      1.349      1.056      1.479         94        640:  82%|████████▏ | 28/34 [00:05<00:01,  5.16it/s]libpng warning: iCCP: known incorrect sRGB profile\n",
      "     12/100      4.26G      1.343      1.057       1.48         83        640:  97%|█████████▋| 33/34 [00:06<00:00,  5.07it/s]libpng warning: iCCP: known incorrect sRGB profile\n",
      "     12/100      4.26G      1.341      1.058      1.481         78        640: 100%|██████████| 34/34 [00:06<00:00,  4.96it/s]\n",
      "                 Class     Images  Instances      Box(P          R      mAP50  mAP50-95):  60%|██████    | 3/5 [00:00<00:00,  5.60it/s]libpng warning: iCCP: known incorrect sRGB profile\n",
      "                 Class     Images  Instances      Box(P          R      mAP50  mAP50-95): 100%|██████████| 5/5 [00:00<00:00,  6.12it/s]"
     ]
    },
    {
     "name": "stdout",
     "output_type": "stream",
     "text": [
      "                   all        272        296      0.838      0.787      0.847      0.478\n"
     ]
    },
    {
     "name": "stderr",
     "output_type": "stream",
     "text": [
      "\n"
     ]
    },
    {
     "name": "stdout",
     "output_type": "stream",
     "text": [
      "\n",
      "      Epoch    GPU_mem   box_loss   cls_loss   dfl_loss  Instances       Size\n"
     ]
    },
    {
     "name": "stderr",
     "output_type": "stream",
     "text": [
      "     13/100      4.33G      1.284      1.012      1.439         97        640:   6%|▌         | 2/34 [00:00<00:06,  5.19it/s]Corrupt JPEG data: 1 extraneous bytes before marker 0xd9\n",
      "     13/100      4.33G      1.282     0.9823      1.456        102        640: 100%|██████████| 34/34 [00:06<00:00,  5.06it/s]\n",
      "                 Class     Images  Instances      Box(P          R      mAP50  mAP50-95):  60%|██████    | 3/5 [00:00<00:00,  5.12it/s]libpng warning: iCCP: known incorrect sRGB profile\n",
      "                 Class     Images  Instances      Box(P          R      mAP50  mAP50-95): 100%|██████████| 5/5 [00:00<00:00,  5.70it/s]"
     ]
    },
    {
     "name": "stdout",
     "output_type": "stream",
     "text": [
      "                   all        272        296      0.866      0.804      0.856      0.489\n"
     ]
    },
    {
     "name": "stderr",
     "output_type": "stream",
     "text": [
      "\n"
     ]
    },
    {
     "name": "stdout",
     "output_type": "stream",
     "text": [
      "\n",
      "      Epoch    GPU_mem   box_loss   cls_loss   dfl_loss  Instances       Size\n"
     ]
    },
    {
     "name": "stderr",
     "output_type": "stream",
     "text": [
      "     14/100      4.26G      1.241       0.86      1.402         79        640:   3%|▎         | 1/34 [00:00<00:06,  4.92it/s]libpng warning: iCCP: known incorrect sRGB profile\n",
      "     14/100      4.26G      1.278     0.9399      1.457         83        640:   9%|▉         | 3/34 [00:00<00:06,  5.12it/s]Corrupt JPEG data: 1 extraneous bytes before marker 0xd9\n",
      "     14/100      4.26G       1.29     0.9689      1.458         79        640:  21%|██        | 7/34 [00:01<00:05,  5.10it/s]libpng warning: iCCP: known incorrect sRGB profile\n",
      "     14/100      4.26G      1.279     0.9609      1.445         75        640: 100%|██████████| 34/34 [00:06<00:00,  5.14it/s]\n",
      "                 Class     Images  Instances      Box(P          R      mAP50  mAP50-95):  60%|██████    | 3/5 [00:00<00:00,  5.72it/s]libpng warning: iCCP: known incorrect sRGB profile\n",
      "                 Class     Images  Instances      Box(P          R      mAP50  mAP50-95): 100%|██████████| 5/5 [00:00<00:00,  6.23it/s]"
     ]
    },
    {
     "name": "stdout",
     "output_type": "stream",
     "text": [
      "                   all        272        296      0.803      0.648      0.689      0.365\n"
     ]
    },
    {
     "name": "stderr",
     "output_type": "stream",
     "text": [
      "\n"
     ]
    },
    {
     "name": "stdout",
     "output_type": "stream",
     "text": [
      "\n",
      "      Epoch    GPU_mem   box_loss   cls_loss   dfl_loss  Instances       Size\n"
     ]
    },
    {
     "name": "stderr",
     "output_type": "stream",
     "text": [
      "     15/100      4.26G      1.329      1.018      1.429         86        640:  21%|██        | 7/34 [00:01<00:05,  4.74it/s]libpng warning: iCCP: known incorrect sRGB profile\n",
      "     15/100      4.26G      1.305     0.9875       1.43         81        640:  44%|████▍     | 15/34 [00:03<00:03,  4.89it/s]Corrupt JPEG data: 1 extraneous bytes before marker 0xd9\n",
      "     15/100      4.26G      1.302     0.9837      1.436         75        640:  53%|█████▎    | 18/34 [00:03<00:03,  5.10it/s]libpng warning: iCCP: known incorrect sRGB profile\n",
      "     15/100      4.26G      1.286     0.9741      1.426         81        640: 100%|██████████| 34/34 [00:06<00:00,  4.90it/s]\n",
      "                 Class     Images  Instances      Box(P          R      mAP50  mAP50-95):  20%|██        | 1/5 [00:00<00:00,  6.09it/s]libpng warning: iCCP: known incorrect sRGB profile\n",
      "                 Class     Images  Instances      Box(P          R      mAP50  mAP50-95):  40%|████      | 2/5 [00:00<00:00,  3.67it/s]libpng warning: iCCP: known incorrect sRGB profile\n",
      "                 Class     Images  Instances      Box(P          R      mAP50  mAP50-95): 100%|██████████| 5/5 [00:00<00:00,  5.10it/s]"
     ]
    },
    {
     "name": "stdout",
     "output_type": "stream",
     "text": [
      "                   all        272        296      0.675      0.595      0.627       0.34\n"
     ]
    },
    {
     "name": "stderr",
     "output_type": "stream",
     "text": [
      "\n"
     ]
    },
    {
     "name": "stdout",
     "output_type": "stream",
     "text": [
      "\n",
      "      Epoch    GPU_mem   box_loss   cls_loss   dfl_loss  Instances       Size\n"
     ]
    },
    {
     "name": "stderr",
     "output_type": "stream",
     "text": [
      "     16/100      4.26G      1.273     0.9373      1.426         86        640:  26%|██▋       | 9/34 [00:01<00:04,  5.05it/s]Corrupt JPEG data: 1 extraneous bytes before marker 0xd9\n",
      "     16/100      4.26G      1.277     0.9493      1.442         88        640:  53%|█████▎    | 18/34 [00:03<00:03,  5.20it/s]libpng warning: iCCP: known incorrect sRGB profile\n",
      "     16/100      4.26G       1.27     0.9267      1.427         81        640: 100%|██████████| 34/34 [00:06<00:00,  5.15it/s]\n",
      "                 Class     Images  Instances      Box(P          R      mAP50  mAP50-95):  60%|██████    | 3/5 [00:00<00:00,  5.63it/s]libpng warning: iCCP: known incorrect sRGB profile\n",
      "                 Class     Images  Instances      Box(P          R      mAP50  mAP50-95): 100%|██████████| 5/5 [00:00<00:00,  6.26it/s]"
     ]
    },
    {
     "name": "stdout",
     "output_type": "stream",
     "text": [
      "                   all        272        296      0.765      0.689      0.732      0.373\n"
     ]
    },
    {
     "name": "stderr",
     "output_type": "stream",
     "text": [
      "\n"
     ]
    },
    {
     "name": "stdout",
     "output_type": "stream",
     "text": [
      "\n",
      "      Epoch    GPU_mem   box_loss   cls_loss   dfl_loss  Instances       Size\n"
     ]
    },
    {
     "name": "stderr",
     "output_type": "stream",
     "text": [
      "     17/100      4.33G      1.295     0.9432      1.442         84        640:  38%|███▊      | 13/34 [00:02<00:04,  4.94it/s]libpng warning: iCCP: known incorrect sRGB profile\n",
      "     17/100      4.33G      1.282     0.9319      1.434         91        640:  59%|█████▉    | 20/34 [00:04<00:02,  5.15it/s]libpng warning: iCCP: known incorrect sRGB profile\n",
      "     17/100      4.33G      1.285     0.9326      1.436         84        640:  68%|██████▊   | 23/34 [00:04<00:02,  5.16it/s]libpng warning: iCCP: known incorrect sRGB profile\n",
      "     17/100      4.33G       1.26     0.9164      1.424         81        640: 100%|██████████| 34/34 [00:06<00:00,  5.01it/s]\n",
      "                 Class     Images  Instances      Box(P          R      mAP50  mAP50-95):  60%|██████    | 3/5 [00:00<00:00,  5.10it/s]libpng warning: iCCP: known incorrect sRGB profile\n",
      "                 Class     Images  Instances      Box(P          R      mAP50  mAP50-95): 100%|██████████| 5/5 [00:00<00:00,  5.28it/s]"
     ]
    },
    {
     "name": "stdout",
     "output_type": "stream",
     "text": [
      "                   all        272        296      0.908      0.821      0.908      0.574\n"
     ]
    },
    {
     "name": "stderr",
     "output_type": "stream",
     "text": [
      "\n"
     ]
    },
    {
     "name": "stdout",
     "output_type": "stream",
     "text": [
      "\n",
      "      Epoch    GPU_mem   box_loss   cls_loss   dfl_loss  Instances       Size\n"
     ]
    },
    {
     "name": "stderr",
     "output_type": "stream",
     "text": [
      "     18/100      4.26G      1.244     0.8575      1.404         80        640:  21%|██        | 7/34 [00:01<00:05,  4.98it/s]Corrupt JPEG data: 1 extraneous bytes before marker 0xd9\n",
      "     18/100      4.26G      1.244     0.8859      1.407         90        640: 100%|██████████| 34/34 [00:06<00:00,  4.97it/s]\n",
      "                 Class     Images  Instances      Box(P          R      mAP50  mAP50-95):  60%|██████    | 3/5 [00:00<00:00,  5.66it/s]libpng warning: iCCP: known incorrect sRGB profile\n",
      "                 Class     Images  Instances      Box(P          R      mAP50  mAP50-95): 100%|██████████| 5/5 [00:00<00:00,  6.32it/s]"
     ]
    },
    {
     "name": "stdout",
     "output_type": "stream",
     "text": [
      "                   all        272        296      0.901       0.83      0.869      0.531\n"
     ]
    },
    {
     "name": "stderr",
     "output_type": "stream",
     "text": [
      "\n"
     ]
    },
    {
     "name": "stdout",
     "output_type": "stream",
     "text": [
      "\n",
      "      Epoch    GPU_mem   box_loss   cls_loss   dfl_loss  Instances       Size\n"
     ]
    },
    {
     "name": "stderr",
     "output_type": "stream",
     "text": [
      "     19/100      4.26G       1.23     0.9039      1.407         75        640:   9%|▉         | 3/34 [00:00<00:06,  5.04it/s]libpng warning: iCCP: known incorrect sRGB profile\n",
      "     19/100      4.26G      1.258     0.9096      1.434         86        640:  53%|█████▎    | 18/34 [00:03<00:03,  4.57it/s]libpng warning: iCCP: known incorrect sRGB profile\n",
      "     19/100      4.26G      1.248     0.9068      1.428         84        640:  85%|████████▌ | 29/34 [00:05<00:01,  4.85it/s]libpng warning: iCCP: known incorrect sRGB profile\n",
      "     19/100      4.26G      1.237     0.9012      1.423         75        640: 100%|██████████| 34/34 [00:06<00:00,  4.86it/s]\n",
      "                 Class     Images  Instances      Box(P          R      mAP50  mAP50-95):  60%|██████    | 3/5 [00:00<00:00,  5.49it/s]libpng warning: iCCP: known incorrect sRGB profile\n",
      "                 Class     Images  Instances      Box(P          R      mAP50  mAP50-95): 100%|██████████| 5/5 [00:00<00:00,  6.04it/s]"
     ]
    },
    {
     "name": "stdout",
     "output_type": "stream",
     "text": [
      "                   all        272        296      0.861       0.78      0.851      0.515\n"
     ]
    },
    {
     "name": "stderr",
     "output_type": "stream",
     "text": [
      "\n"
     ]
    },
    {
     "name": "stdout",
     "output_type": "stream",
     "text": [
      "\n",
      "      Epoch    GPU_mem   box_loss   cls_loss   dfl_loss  Instances       Size\n"
     ]
    },
    {
     "name": "stderr",
     "output_type": "stream",
     "text": [
      "     20/100      4.29G      1.222     0.8576      1.405        103        640:  50%|█████     | 17/34 [00:03<00:03,  4.77it/s]libpng warning: iCCP: known incorrect sRGB profile\n",
      "     20/100      4.29G      1.219     0.8554        1.4         83        640:  59%|█████▉    | 20/34 [00:04<00:02,  4.79it/s]Corrupt JPEG data: 1 extraneous bytes before marker 0xd9\n",
      "     20/100      4.29G      1.227     0.8602      1.403         92        640:  71%|███████   | 24/34 [00:05<00:01,  5.05it/s]Corrupt JPEG data: 1 extraneous bytes before marker 0xd9\n",
      "     20/100      4.29G      1.227     0.8591      1.403         85        640:  85%|████████▌ | 29/34 [00:06<00:00,  5.04it/s]libpng warning: iCCP: known incorrect sRGB profile\n",
      "     20/100      4.29G      1.226      0.867        1.4         79        640: 100%|██████████| 34/34 [00:07<00:00,  4.71it/s]\n",
      "                 Class     Images  Instances      Box(P          R      mAP50  mAP50-95):  60%|██████    | 3/5 [00:00<00:00,  4.99it/s]libpng warning: iCCP: known incorrect sRGB profile\n",
      "                 Class     Images  Instances      Box(P          R      mAP50  mAP50-95): 100%|██████████| 5/5 [00:00<00:00,  5.67it/s]"
     ]
    },
    {
     "name": "stdout",
     "output_type": "stream",
     "text": [
      "                   all        272        296      0.774      0.777      0.816      0.443\n"
     ]
    },
    {
     "name": "stderr",
     "output_type": "stream",
     "text": [
      "\n"
     ]
    },
    {
     "name": "stdout",
     "output_type": "stream",
     "text": [
      "\n",
      "      Epoch    GPU_mem   box_loss   cls_loss   dfl_loss  Instances       Size\n"
     ]
    },
    {
     "name": "stderr",
     "output_type": "stream",
     "text": [
      "     21/100      4.29G       1.19     0.8455       1.35         76        640:   6%|▌         | 2/34 [00:00<00:09,  3.27it/s]libpng warning: iCCP: known incorrect sRGB profile\n",
      "     21/100       4.3G      1.203     0.8407      1.379         98        640:  94%|█████████▍| 32/34 [00:06<00:00,  5.16it/s]libpng warning: iCCP: known incorrect sRGB profile\n",
      "     21/100       4.3G      1.206     0.8411      1.381         88        640:  97%|█████████▋| 33/34 [00:07<00:00,  5.08it/s]libpng warning: iCCP: known incorrect sRGB profile\n",
      "     21/100       4.3G      1.206       0.84      1.381         92        640: 100%|██████████| 34/34 [00:07<00:00,  4.70it/s]\n",
      "                 Class     Images  Instances      Box(P          R      mAP50  mAP50-95):  60%|██████    | 3/5 [00:00<00:00,  5.53it/s]libpng warning: iCCP: known incorrect sRGB profile\n",
      "                 Class     Images  Instances      Box(P          R      mAP50  mAP50-95): 100%|██████████| 5/5 [00:00<00:00,  6.29it/s]"
     ]
    },
    {
     "name": "stdout",
     "output_type": "stream",
     "text": [
      "                   all        272        296      0.849      0.811      0.848      0.507\n"
     ]
    },
    {
     "name": "stderr",
     "output_type": "stream",
     "text": [
      "\n"
     ]
    },
    {
     "name": "stdout",
     "output_type": "stream",
     "text": [
      "\n",
      "      Epoch    GPU_mem   box_loss   cls_loss   dfl_loss  Instances       Size\n"
     ]
    },
    {
     "name": "stderr",
     "output_type": "stream",
     "text": [
      "     22/100      4.26G      1.248     0.8709      1.418         90        640:  41%|████      | 14/34 [00:03<00:03,  5.04it/s]Corrupt JPEG data: 1 extraneous bytes before marker 0xd9\n",
      "     22/100      4.26G       1.22     0.8475      1.395         73        640:  68%|██████▊   | 23/34 [00:04<00:02,  5.10it/s]libpng warning: iCCP: known incorrect sRGB profile\n",
      "     22/100      4.26G      1.222     0.8576       1.39        101        640: 100%|██████████| 34/34 [00:06<00:00,  4.92it/s]\n",
      "                 Class     Images  Instances      Box(P          R      mAP50  mAP50-95):  60%|██████    | 3/5 [00:00<00:00,  5.92it/s]libpng warning: iCCP: known incorrect sRGB profile\n",
      "                 Class     Images  Instances      Box(P          R      mAP50  mAP50-95): 100%|██████████| 5/5 [00:00<00:00,  6.53it/s]"
     ]
    },
    {
     "name": "stdout",
     "output_type": "stream",
     "text": [
      "                   all        272        296       0.93      0.855      0.928        0.6\n"
     ]
    },
    {
     "name": "stderr",
     "output_type": "stream",
     "text": [
      "\n"
     ]
    },
    {
     "name": "stdout",
     "output_type": "stream",
     "text": [
      "\n",
      "      Epoch    GPU_mem   box_loss   cls_loss   dfl_loss  Instances       Size\n"
     ]
    },
    {
     "name": "stderr",
     "output_type": "stream",
     "text": [
      "     23/100      4.26G      1.213     0.8208      1.396         82        640:  18%|█▊        | 6/34 [00:01<00:06,  4.40it/s]Corrupt JPEG data: 1 extraneous bytes before marker 0xd9\n",
      "     23/100      4.26G      1.187      0.818      1.384         84        640:  74%|███████▎  | 25/34 [00:05<00:01,  4.91it/s]libpng warning: iCCP: known incorrect sRGB profile\n",
      "     23/100      4.26G      1.181     0.8113      1.375         75        640: 100%|██████████| 34/34 [00:07<00:00,  4.59it/s]\n",
      "                 Class     Images  Instances      Box(P          R      mAP50  mAP50-95):  20%|██        | 1/5 [00:00<00:00,  4.88it/s]libpng warning: iCCP: known incorrect sRGB profile\n",
      "                 Class     Images  Instances      Box(P          R      mAP50  mAP50-95): 100%|██████████| 5/5 [00:01<00:00,  3.91it/s]"
     ]
    },
    {
     "name": "stdout",
     "output_type": "stream",
     "text": [
      "                   all        272        296      0.884      0.882       0.92      0.592\n"
     ]
    },
    {
     "name": "stderr",
     "output_type": "stream",
     "text": [
      "\n"
     ]
    },
    {
     "name": "stdout",
     "output_type": "stream",
     "text": [
      "\n",
      "      Epoch    GPU_mem   box_loss   cls_loss   dfl_loss  Instances       Size\n"
     ]
    },
    {
     "name": "stderr",
     "output_type": "stream",
     "text": [
      "     24/100       4.3G      1.212      0.804      1.371         89        640:  41%|████      | 14/34 [00:02<00:03,  5.12it/s]libpng warning: iCCP: known incorrect sRGB profile\n",
      "     24/100       4.3G      1.188     0.8201      1.358         98        640: 100%|██████████| 34/34 [00:06<00:00,  4.88it/s]\n",
      "                 Class     Images  Instances      Box(P          R      mAP50  mAP50-95):  60%|██████    | 3/5 [00:00<00:00,  5.50it/s]libpng warning: iCCP: known incorrect sRGB profile\n",
      "                 Class     Images  Instances      Box(P          R      mAP50  mAP50-95): 100%|██████████| 5/5 [00:00<00:00,  6.22it/s]"
     ]
    },
    {
     "name": "stdout",
     "output_type": "stream",
     "text": [
      "                   all        272        296      0.911      0.818      0.893      0.554\n"
     ]
    },
    {
     "name": "stderr",
     "output_type": "stream",
     "text": [
      "\n"
     ]
    },
    {
     "name": "stdout",
     "output_type": "stream",
     "text": [
      "\n",
      "      Epoch    GPU_mem   box_loss   cls_loss   dfl_loss  Instances       Size\n"
     ]
    },
    {
     "name": "stderr",
     "output_type": "stream",
     "text": [
      "     25/100      4.26G      1.225     0.8562      1.408         77        640:  38%|███▊      | 13/34 [00:02<00:04,  4.82it/s]Corrupt JPEG data: 1 extraneous bytes before marker 0xd9\n",
      "     25/100      4.26G      1.215     0.8492      1.401         87        640:  41%|████      | 14/34 [00:03<00:04,  4.90it/s]libpng warning: iCCP: known incorrect sRGB profile\n",
      "     25/100      4.26G      1.189      0.826      1.383         93        640:  71%|███████   | 24/34 [00:05<00:01,  5.17it/s]Corrupt JPEG data: 1 extraneous bytes before marker 0xd9\n",
      "     25/100      4.26G       1.19     0.8209      1.376         77        640: 100%|██████████| 34/34 [00:07<00:00,  4.85it/s]\n",
      "                 Class     Images  Instances      Box(P          R      mAP50  mAP50-95):  60%|██████    | 3/5 [00:00<00:00,  5.75it/s]libpng warning: iCCP: known incorrect sRGB profile\n",
      "                 Class     Images  Instances      Box(P          R      mAP50  mAP50-95): 100%|██████████| 5/5 [00:00<00:00,  6.40it/s]"
     ]
    },
    {
     "name": "stdout",
     "output_type": "stream",
     "text": [
      "                   all        272        296      0.903      0.878      0.926      0.597\n"
     ]
    },
    {
     "name": "stderr",
     "output_type": "stream",
     "text": [
      "\n"
     ]
    },
    {
     "name": "stdout",
     "output_type": "stream",
     "text": [
      "\n",
      "      Epoch    GPU_mem   box_loss   cls_loss   dfl_loss  Instances       Size\n"
     ]
    },
    {
     "name": "stderr",
     "output_type": "stream",
     "text": [
      "     26/100      4.29G      1.208     0.8113      1.392        103        640:  44%|████▍     | 15/34 [00:03<00:04,  4.73it/s]libpng warning: iCCP: known incorrect sRGB profile\n",
      "     26/100      4.29G      1.193     0.7973      1.375         98        640:  85%|████████▌ | 29/34 [00:06<00:00,  5.10it/s]libpng warning: iCCP: known incorrect sRGB profile\n",
      "     26/100      4.29G      1.196     0.7988      1.378         79        640: 100%|██████████| 34/34 [00:07<00:00,  4.80it/s]\n",
      "                 Class     Images  Instances      Box(P          R      mAP50  mAP50-95):  60%|██████    | 3/5 [00:00<00:00,  5.55it/s]libpng warning: iCCP: known incorrect sRGB profile\n",
      "                 Class     Images  Instances      Box(P          R      mAP50  mAP50-95): 100%|██████████| 5/5 [00:00<00:00,  6.16it/s]"
     ]
    },
    {
     "name": "stdout",
     "output_type": "stream",
     "text": [
      "                   all        272        296      0.946      0.881      0.919      0.591\n"
     ]
    },
    {
     "name": "stderr",
     "output_type": "stream",
     "text": [
      "\n"
     ]
    },
    {
     "name": "stdout",
     "output_type": "stream",
     "text": [
      "\n",
      "      Epoch    GPU_mem   box_loss   cls_loss   dfl_loss  Instances       Size\n"
     ]
    },
    {
     "name": "stderr",
     "output_type": "stream",
     "text": [
      "     27/100      4.35G      1.228       0.82      1.388         85        640:  38%|███▊      | 13/34 [00:02<00:04,  4.79it/s]libpng warning: iCCP: known incorrect sRGB profile\n",
      "     27/100      4.35G       1.19     0.8029      1.371         82        640:  68%|██████▊   | 23/34 [00:05<00:02,  4.27it/s]Corrupt JPEG data: 1 extraneous bytes before marker 0xd9\n",
      "libpng warning: iCCP: known incorrect sRGB profile\n",
      "     27/100      4.35G      1.173     0.7915      1.365         85        640: 100%|██████████| 34/34 [00:07<00:00,  4.53it/s]\n",
      "                 Class     Images  Instances      Box(P          R      mAP50  mAP50-95):  60%|██████    | 3/5 [00:00<00:00,  5.39it/s]libpng warning: iCCP: known incorrect sRGB profile\n",
      "                 Class     Images  Instances      Box(P          R      mAP50  mAP50-95): 100%|██████████| 5/5 [00:00<00:00,  6.19it/s]"
     ]
    },
    {
     "name": "stdout",
     "output_type": "stream",
     "text": [
      "                   all        272        296      0.915      0.922      0.939      0.631\n"
     ]
    },
    {
     "name": "stderr",
     "output_type": "stream",
     "text": [
      "\n"
     ]
    },
    {
     "name": "stdout",
     "output_type": "stream",
     "text": [
      "\n",
      "      Epoch    GPU_mem   box_loss   cls_loss   dfl_loss  Instances       Size\n"
     ]
    },
    {
     "name": "stderr",
     "output_type": "stream",
     "text": [
      "     28/100      4.26G      1.154     0.7807      1.338         89        640:   3%|▎         | 1/34 [00:00<00:07,  4.53it/s]libpng warning: iCCP: known incorrect sRGB profile\n",
      "     28/100      4.26G      1.165     0.7801      1.357         74        640:  79%|███████▉  | 27/34 [00:05<00:01,  4.53it/s]Corrupt JPEG data: 1 extraneous bytes before marker 0xd9\n",
      "     28/100      4.26G      1.171     0.7813      1.358         73        640: 100%|██████████| 34/34 [00:07<00:00,  4.72it/s]\n",
      "                 Class     Images  Instances      Box(P          R      mAP50  mAP50-95):  40%|████      | 2/5 [00:00<00:00,  4.23it/s]libpng warning: iCCP: known incorrect sRGB profile\n",
      "                 Class     Images  Instances      Box(P          R      mAP50  mAP50-95): 100%|██████████| 5/5 [00:01<00:00,  4.64it/s]"
     ]
    },
    {
     "name": "stdout",
     "output_type": "stream",
     "text": [
      "                   all        272        296      0.946      0.892      0.943      0.623\n"
     ]
    },
    {
     "name": "stderr",
     "output_type": "stream",
     "text": [
      "\n"
     ]
    },
    {
     "name": "stdout",
     "output_type": "stream",
     "text": [
      "\n",
      "      Epoch    GPU_mem   box_loss   cls_loss   dfl_loss  Instances       Size\n"
     ]
    },
    {
     "name": "stderr",
     "output_type": "stream",
     "text": [
      "     29/100      4.26G     0.9768     0.6839      1.224         87        640:   3%|▎         | 1/34 [00:00<00:08,  3.84it/s]libpng warning: iCCP: known incorrect sRGB profile\n",
      "     29/100      4.26G      1.133     0.7518       1.33         86        640:  24%|██▎       | 8/34 [00:01<00:05,  4.79it/s]libpng warning: iCCP: known incorrect sRGB profile\n",
      "     29/100      4.26G      1.136     0.7532      1.335         87        640:  82%|████████▏ | 28/34 [00:06<00:01,  5.14it/s]libpng warning: iCCP: known incorrect sRGB profile\n",
      "     29/100      4.26G      1.132     0.7545      1.333         82        640: 100%|██████████| 34/34 [00:07<00:00,  4.57it/s]\n",
      "                 Class     Images  Instances      Box(P          R      mAP50  mAP50-95):  40%|████      | 2/5 [00:00<00:00,  4.38it/s]libpng warning: iCCP: known incorrect sRGB profile\n",
      "                 Class     Images  Instances      Box(P          R      mAP50  mAP50-95): 100%|██████████| 5/5 [00:00<00:00,  5.33it/s]"
     ]
    },
    {
     "name": "stdout",
     "output_type": "stream",
     "text": [
      "                   all        272        296       0.94      0.878      0.935      0.605\n"
     ]
    },
    {
     "name": "stderr",
     "output_type": "stream",
     "text": [
      "\n"
     ]
    },
    {
     "name": "stdout",
     "output_type": "stream",
     "text": [
      "\n",
      "      Epoch    GPU_mem   box_loss   cls_loss   dfl_loss  Instances       Size\n"
     ]
    },
    {
     "name": "stderr",
     "output_type": "stream",
     "text": [
      "  0%|          | 0/34 [00:00<?, ?it/s]libpng warning: iCCP: known incorrect sRGB profile\n",
      "     30/100      4.26G      1.167     0.7796      1.361         79        640:  29%|██▉       | 10/34 [00:02<00:05,  4.45it/s]Corrupt JPEG data: 1 extraneous bytes before marker 0xd9\n",
      "     30/100      4.26G      1.147     0.7553      1.342         90        640: 100%|██████████| 34/34 [00:07<00:00,  4.56it/s]\n",
      "                 Class     Images  Instances      Box(P          R      mAP50  mAP50-95):  40%|████      | 2/5 [00:00<00:00,  3.84it/s]libpng warning: iCCP: known incorrect sRGB profile\n",
      "                 Class     Images  Instances      Box(P          R      mAP50  mAP50-95): 100%|██████████| 5/5 [00:00<00:00,  5.09it/s]"
     ]
    },
    {
     "name": "stdout",
     "output_type": "stream",
     "text": [
      "                   all        272        296      0.884      0.902       0.92      0.619\n"
     ]
    },
    {
     "name": "stderr",
     "output_type": "stream",
     "text": [
      "\n"
     ]
    },
    {
     "name": "stdout",
     "output_type": "stream",
     "text": [
      "\n",
      "      Epoch    GPU_mem   box_loss   cls_loss   dfl_loss  Instances       Size\n"
     ]
    },
    {
     "name": "stderr",
     "output_type": "stream",
     "text": [
      "     31/100      4.26G      1.162     0.7525      1.339         84        640:  24%|██▎       | 8/34 [00:02<00:07,  3.71it/s]Corrupt JPEG data: 1 extraneous bytes before marker 0xd9\n",
      "     31/100      4.26G      1.161     0.7381       1.35         79        640:  53%|█████▎    | 18/34 [00:04<00:03,  4.70it/s]libpng warning: iCCP: known incorrect sRGB profile\n",
      "     31/100      4.26G      1.156       0.74      1.347         96        640: 100%|██████████| 34/34 [00:07<00:00,  4.43it/s]\n",
      "                 Class     Images  Instances      Box(P          R      mAP50  mAP50-95):  20%|██        | 1/5 [00:00<00:00,  6.39it/s]libpng warning: iCCP: known incorrect sRGB profile\n",
      "                 Class     Images  Instances      Box(P          R      mAP50  mAP50-95):  60%|██████    | 3/5 [00:00<00:00,  5.88it/s]libpng warning: iCCP: known incorrect sRGB profile\n",
      "                 Class     Images  Instances      Box(P          R      mAP50  mAP50-95): 100%|██████████| 5/5 [00:00<00:00,  6.51it/s]"
     ]
    },
    {
     "name": "stdout",
     "output_type": "stream",
     "text": [
      "                   all        272        296      0.935      0.875      0.925      0.623\n"
     ]
    },
    {
     "name": "stderr",
     "output_type": "stream",
     "text": [
      "\n"
     ]
    },
    {
     "name": "stdout",
     "output_type": "stream",
     "text": [
      "\n",
      "      Epoch    GPU_mem   box_loss   cls_loss   dfl_loss  Instances       Size\n"
     ]
    },
    {
     "name": "stderr",
     "output_type": "stream",
     "text": [
      "     32/100      4.37G      1.138     0.7044      1.326         90        640:  35%|███▌      | 12/34 [00:02<00:04,  5.13it/s]libpng warning: iCCP: known incorrect sRGB profile\n",
      "     32/100      4.37G      1.151     0.7148      1.328         86        640:  74%|███████▎  | 25/34 [00:05<00:01,  4.99it/s]libpng warning: iCCP: known incorrect sRGB profile\n",
      "     32/100      4.37G      1.149     0.7193      1.329         87        640: 100%|██████████| 34/34 [00:06<00:00,  4.89it/s]\n",
      "                 Class     Images  Instances      Box(P          R      mAP50  mAP50-95):  60%|██████    | 3/5 [00:00<00:00,  5.74it/s]libpng warning: iCCP: known incorrect sRGB profile\n",
      "                 Class     Images  Instances      Box(P          R      mAP50  mAP50-95): 100%|██████████| 5/5 [00:00<00:00,  6.43it/s]"
     ]
    },
    {
     "name": "stdout",
     "output_type": "stream",
     "text": [
      "                   all        272        296       0.89      0.855      0.906       0.56\n"
     ]
    },
    {
     "name": "stderr",
     "output_type": "stream",
     "text": [
      "\n"
     ]
    },
    {
     "name": "stdout",
     "output_type": "stream",
     "text": [
      "\n",
      "      Epoch    GPU_mem   box_loss   cls_loss   dfl_loss  Instances       Size\n"
     ]
    },
    {
     "name": "stderr",
     "output_type": "stream",
     "text": [
      "     33/100      4.26G      1.081     0.7175      1.279         96        640:   9%|▉         | 3/34 [00:00<00:06,  4.74it/s]libpng warning: iCCP: known incorrect sRGB profile\n",
      "     33/100      4.26G      1.107     0.7284      1.318         81        640:  29%|██▉       | 10/34 [00:02<00:05,  4.35it/s]Corrupt JPEG data: 1 extraneous bytes before marker 0xd9\n",
      "     33/100      4.26G      1.112     0.7418      1.322         82        640: 100%|██████████| 34/34 [00:07<00:00,  4.62it/s]\n",
      "                 Class     Images  Instances      Box(P          R      mAP50  mAP50-95):  40%|████      | 2/5 [00:00<00:00,  3.80it/s]libpng warning: iCCP: known incorrect sRGB profile\n",
      "                 Class     Images  Instances      Box(P          R      mAP50  mAP50-95): 100%|██████████| 5/5 [00:01<00:00,  4.88it/s]"
     ]
    },
    {
     "name": "stdout",
     "output_type": "stream",
     "text": [
      "                   all        272        296      0.951       0.91      0.948      0.643\n"
     ]
    },
    {
     "name": "stderr",
     "output_type": "stream",
     "text": [
      "\n"
     ]
    },
    {
     "name": "stdout",
     "output_type": "stream",
     "text": [
      "\n",
      "      Epoch    GPU_mem   box_loss   cls_loss   dfl_loss  Instances       Size\n"
     ]
    },
    {
     "name": "stderr",
     "output_type": "stream",
     "text": [
      "     34/100      4.34G       1.13     0.7226      1.314         89        640:   6%|▌         | 2/34 [00:00<00:06,  5.11it/s]libpng warning: iCCP: known incorrect sRGB profile\n",
      "     34/100      4.34G      1.185     0.8014      1.383         88        640:  29%|██▉       | 10/34 [00:01<00:04,  5.09it/s]libpng warning: iCCP: known incorrect sRGB profile\n",
      "     34/100      4.34G      1.126     0.7336      1.331         87        640:  88%|████████▊ | 30/34 [00:06<00:00,  4.01it/s]Corrupt JPEG data: 1 extraneous bytes before marker 0xd9\n",
      "     34/100      4.34G      1.128     0.7309       1.33         87        640: 100%|██████████| 34/34 [00:06<00:00,  4.90it/s]\n",
      "                 Class     Images  Instances      Box(P          R      mAP50  mAP50-95):  60%|██████    | 3/5 [00:00<00:00,  5.72it/s]libpng warning: iCCP: known incorrect sRGB profile\n",
      "                 Class     Images  Instances      Box(P          R      mAP50  mAP50-95): 100%|██████████| 5/5 [00:00<00:00,  6.41it/s]"
     ]
    },
    {
     "name": "stdout",
     "output_type": "stream",
     "text": [
      "                   all        272        296      0.947      0.905      0.949      0.625\n"
     ]
    },
    {
     "name": "stderr",
     "output_type": "stream",
     "text": [
      "\n"
     ]
    },
    {
     "name": "stdout",
     "output_type": "stream",
     "text": [
      "\n",
      "      Epoch    GPU_mem   box_loss   cls_loss   dfl_loss  Instances       Size\n"
     ]
    },
    {
     "name": "stderr",
     "output_type": "stream",
     "text": [
      "     35/100      4.26G      1.101      0.718      1.306         94        640: 100%|██████████| 34/34 [00:06<00:00,  5.12it/s]\n",
      "                 Class     Images  Instances      Box(P          R      mAP50  mAP50-95):  60%|██████    | 3/5 [00:00<00:00,  5.73it/s]libpng warning: iCCP: known incorrect sRGB profile\n",
      "                 Class     Images  Instances      Box(P          R      mAP50  mAP50-95): 100%|██████████| 5/5 [00:00<00:00,  6.27it/s]"
     ]
    },
    {
     "name": "stdout",
     "output_type": "stream",
     "text": [
      "                   all        272        296      0.959      0.882      0.947       0.63\n"
     ]
    },
    {
     "name": "stderr",
     "output_type": "stream",
     "text": [
      "\n"
     ]
    },
    {
     "name": "stdout",
     "output_type": "stream",
     "text": [
      "\n",
      "      Epoch    GPU_mem   box_loss   cls_loss   dfl_loss  Instances       Size\n"
     ]
    },
    {
     "name": "stderr",
     "output_type": "stream",
     "text": [
      "     36/100      4.26G      1.104      0.685      1.331         87        640:   6%|▌         | 2/34 [00:00<00:08,  3.79it/s]libpng warning: iCCP: known incorrect sRGB profile\n",
      "     36/100      4.26G      1.087     0.6993      1.304         92        640:  94%|█████████▍| 32/34 [00:06<00:00,  5.09it/s]Corrupt JPEG data: 1 extraneous bytes before marker 0xd9\n",
      "     36/100      4.26G      1.085     0.6993      1.303         94        640: 100%|██████████| 34/34 [00:06<00:00,  4.95it/s]\n",
      "                 Class     Images  Instances      Box(P          R      mAP50  mAP50-95):  60%|██████    | 3/5 [00:00<00:00,  5.67it/s]libpng warning: iCCP: known incorrect sRGB profile\n",
      "                 Class     Images  Instances      Box(P          R      mAP50  mAP50-95): 100%|██████████| 5/5 [00:01<00:00,  4.95it/s]"
     ]
    },
    {
     "name": "stdout",
     "output_type": "stream",
     "text": [
      "                   all        272        296      0.935      0.889      0.943       0.64\n"
     ]
    },
    {
     "name": "stderr",
     "output_type": "stream",
     "text": [
      "\n"
     ]
    },
    {
     "name": "stdout",
     "output_type": "stream",
     "text": [
      "\n",
      "      Epoch    GPU_mem   box_loss   cls_loss   dfl_loss  Instances       Size\n"
     ]
    },
    {
     "name": "stderr",
     "output_type": "stream",
     "text": [
      "     37/100      4.26G      1.083     0.6965      1.311         94        640:  41%|████      | 14/34 [00:02<00:03,  5.13it/s]libpng warning: iCCP: known incorrect sRGB profile\n",
      "     37/100      4.26G      1.089     0.6972      1.308         81        640: 100%|██████████| 34/34 [00:07<00:00,  4.80it/s]\n",
      "                 Class     Images  Instances      Box(P          R      mAP50  mAP50-95):  40%|████      | 2/5 [00:00<00:00,  4.14it/s]libpng warning: iCCP: known incorrect sRGB profile\n",
      "                 Class     Images  Instances      Box(P          R      mAP50  mAP50-95): 100%|██████████| 5/5 [00:01<00:00,  4.88it/s]"
     ]
    },
    {
     "name": "stdout",
     "output_type": "stream",
     "text": [
      "                   all        272        296      0.959      0.875       0.94      0.639\n"
     ]
    },
    {
     "name": "stderr",
     "output_type": "stream",
     "text": [
      "\n"
     ]
    },
    {
     "name": "stdout",
     "output_type": "stream",
     "text": [
      "\n",
      "      Epoch    GPU_mem   box_loss   cls_loss   dfl_loss  Instances       Size\n"
     ]
    },
    {
     "name": "stderr",
     "output_type": "stream",
     "text": [
      "     38/100      4.26G      1.091     0.7105      1.287         90        640:  44%|████▍     | 15/34 [00:03<00:03,  4.80it/s]libpng warning: iCCP: known incorrect sRGB profile\n",
      "     38/100      4.26G      1.086     0.7081      1.286         79        640:  47%|████▋     | 16/34 [00:03<00:03,  4.96it/s]Corrupt JPEG data: 1 extraneous bytes before marker 0xd9\n",
      "     38/100      4.26G      1.087     0.7092      1.291         77        640:  53%|█████▎    | 18/34 [00:03<00:03,  5.03it/s]libpng warning: iCCP: known incorrect sRGB profile\n",
      "     38/100      4.26G      1.086      0.695      1.293         90        640: 100%|██████████| 34/34 [00:06<00:00,  4.90it/s]\n",
      "                 Class     Images  Instances      Box(P          R      mAP50  mAP50-95):  60%|██████    | 3/5 [00:00<00:00,  5.83it/s]libpng warning: iCCP: known incorrect sRGB profile\n",
      "                 Class     Images  Instances      Box(P          R      mAP50  mAP50-95): 100%|██████████| 5/5 [00:00<00:00,  6.40it/s]"
     ]
    },
    {
     "name": "stdout",
     "output_type": "stream",
     "text": [
      "                   all        272        296       0.96      0.861      0.921      0.616\n"
     ]
    },
    {
     "name": "stderr",
     "output_type": "stream",
     "text": [
      "\n"
     ]
    },
    {
     "name": "stdout",
     "output_type": "stream",
     "text": [
      "\n",
      "      Epoch    GPU_mem   box_loss   cls_loss   dfl_loss  Instances       Size\n"
     ]
    },
    {
     "name": "stderr",
     "output_type": "stream",
     "text": [
      "     39/100       4.3G        1.1     0.7145      1.315         80        640:  47%|████▋     | 16/34 [00:03<00:03,  4.62it/s]libpng warning: iCCP: known incorrect sRGB profile\n",
      "     39/100       4.3G      1.099     0.7114      1.314         77        640:  50%|█████     | 17/34 [00:03<00:03,  4.71it/s]Corrupt JPEG data: 1 extraneous bytes before marker 0xd9\n",
      "     39/100       4.3G      1.097     0.6966       1.31         75        640:  68%|██████▊   | 23/34 [00:04<00:02,  5.10it/s]libpng warning: iCCP: known incorrect sRGB profile\n",
      "     39/100       4.3G      1.098     0.6996      1.307         76        640: 100%|██████████| 34/34 [00:06<00:00,  4.97it/s]\n",
      "                 Class     Images  Instances      Box(P          R      mAP50  mAP50-95):  40%|████      | 2/5 [00:00<00:00,  4.24it/s]libpng warning: iCCP: known incorrect sRGB profile\n",
      "                 Class     Images  Instances      Box(P          R      mAP50  mAP50-95): 100%|██████████| 5/5 [00:00<00:00,  5.35it/s]"
     ]
    },
    {
     "name": "stdout",
     "output_type": "stream",
     "text": [
      "                   all        272        296      0.948      0.889      0.932      0.636\n"
     ]
    },
    {
     "name": "stderr",
     "output_type": "stream",
     "text": [
      "\n"
     ]
    },
    {
     "name": "stdout",
     "output_type": "stream",
     "text": [
      "\n",
      "      Epoch    GPU_mem   box_loss   cls_loss   dfl_loss  Instances       Size\n"
     ]
    },
    {
     "name": "stderr",
     "output_type": "stream",
     "text": [
      "     40/100      4.26G      1.062     0.6994      1.272        111        640:  44%|████▍     | 15/34 [00:03<00:04,  4.65it/s]Corrupt JPEG data: 1 extraneous bytes before marker 0xd9\n",
      "     40/100      4.26G      1.069     0.6844      1.278        106        640:  85%|████████▌ | 29/34 [00:06<00:00,  5.08it/s]libpng warning: iCCP: known incorrect sRGB profile\n",
      "     40/100      4.26G       1.07     0.6843       1.28         87        640: 100%|██████████| 34/34 [00:06<00:00,  4.88it/s]\n",
      "                 Class     Images  Instances      Box(P          R      mAP50  mAP50-95):   0%|          | 0/5 [00:00<?, ?it/s]libpng warning: iCCP: known incorrect sRGB profile\n",
      "                 Class     Images  Instances      Box(P          R      mAP50  mAP50-95):  60%|██████    | 3/5 [00:00<00:00,  5.61it/s]libpng warning: iCCP: known incorrect sRGB profile\n",
      "                 Class     Images  Instances      Box(P          R      mAP50  mAP50-95): 100%|██████████| 5/5 [00:00<00:00,  6.30it/s]"
     ]
    },
    {
     "name": "stdout",
     "output_type": "stream",
     "text": [
      "                   all        272        296      0.932      0.892      0.942      0.634\n"
     ]
    },
    {
     "name": "stderr",
     "output_type": "stream",
     "text": [
      "\n"
     ]
    },
    {
     "name": "stdout",
     "output_type": "stream",
     "text": [
      "\n",
      "      Epoch    GPU_mem   box_loss   cls_loss   dfl_loss  Instances       Size\n"
     ]
    },
    {
     "name": "stderr",
     "output_type": "stream",
     "text": [
      "     41/100       4.3G      1.125     0.6852      1.325         84        640:  29%|██▉       | 10/34 [00:02<00:04,  5.18it/s]Corrupt JPEG data: 1 extraneous bytes before marker 0xd9\n",
      "     41/100       4.3G      1.102     0.6792      1.308         95        640:  82%|████████▏ | 28/34 [00:05<00:01,  5.21it/s]libpng warning: iCCP: known incorrect sRGB profile\n",
      "     41/100       4.3G      1.099     0.6788      1.305         83        640: 100%|██████████| 34/34 [00:06<00:00,  5.05it/s]\n",
      "                 Class     Images  Instances      Box(P          R      mAP50  mAP50-95):  40%|████      | 2/5 [00:00<00:00,  4.09it/s]libpng warning: iCCP: known incorrect sRGB profile\n",
      "                 Class     Images  Instances      Box(P          R      mAP50  mAP50-95): 100%|██████████| 5/5 [00:01<00:00,  4.56it/s]"
     ]
    },
    {
     "name": "stdout",
     "output_type": "stream",
     "text": [
      "                   all        272        296      0.953      0.891       0.94      0.638\n"
     ]
    },
    {
     "name": "stderr",
     "output_type": "stream",
     "text": [
      "\n"
     ]
    },
    {
     "name": "stdout",
     "output_type": "stream",
     "text": [
      "\n",
      "      Epoch    GPU_mem   box_loss   cls_loss   dfl_loss  Instances       Size\n"
     ]
    },
    {
     "name": "stderr",
     "output_type": "stream",
     "text": [
      "     42/100      4.33G      1.096      0.689       1.31         94        640:  44%|████▍     | 15/34 [00:02<00:03,  5.14it/s]Corrupt JPEG data: 1 extraneous bytes before marker 0xd9\n",
      "     42/100      4.33G      1.075     0.6785        1.3         75        640:  71%|███████   | 24/34 [00:04<00:01,  5.23it/s]libpng warning: iCCP: known incorrect sRGB profile\n",
      "     42/100      4.33G       1.06     0.6685      1.289         99        640:  85%|████████▌ | 29/34 [00:05<00:00,  5.13it/s]Corrupt JPEG data: 1 extraneous bytes before marker 0xd9\n",
      "     42/100      4.33G      1.059     0.6699      1.288         95        640:  91%|█████████ | 31/34 [00:06<00:00,  5.11it/s]libpng warning: iCCP: known incorrect sRGB profile\n",
      "     42/100      4.33G      1.057     0.6674      1.287         77        640: 100%|██████████| 34/34 [00:06<00:00,  5.15it/s]\n",
      "                 Class     Images  Instances      Box(P          R      mAP50  mAP50-95):  60%|██████    | 3/5 [00:00<00:00,  5.90it/s]libpng warning: iCCP: known incorrect sRGB profile\n",
      "                 Class     Images  Instances      Box(P          R      mAP50  mAP50-95): 100%|██████████| 5/5 [00:00<00:00,  6.44it/s]"
     ]
    },
    {
     "name": "stdout",
     "output_type": "stream",
     "text": [
      "                   all        272        296      0.932      0.877      0.932      0.624\n"
     ]
    },
    {
     "name": "stderr",
     "output_type": "stream",
     "text": [
      "\n"
     ]
    },
    {
     "name": "stdout",
     "output_type": "stream",
     "text": [
      "\n",
      "      Epoch    GPU_mem   box_loss   cls_loss   dfl_loss  Instances       Size\n"
     ]
    },
    {
     "name": "stderr",
     "output_type": "stream",
     "text": [
      "     43/100       4.3G       1.07     0.6809      1.279         88        640:  68%|██████▊   | 23/34 [00:04<00:02,  4.70it/s]libpng warning: iCCP: known incorrect sRGB profile\n",
      "     43/100       4.3G      1.071     0.6808      1.284         81        640: 100%|██████████| 34/34 [00:06<00:00,  4.98it/s]\n",
      "                 Class     Images  Instances      Box(P          R      mAP50  mAP50-95):  60%|██████    | 3/5 [00:00<00:00,  5.73it/s]libpng warning: iCCP: known incorrect sRGB profile\n",
      "                 Class     Images  Instances      Box(P          R      mAP50  mAP50-95): 100%|██████████| 5/5 [00:00<00:00,  6.37it/s]"
     ]
    },
    {
     "name": "stdout",
     "output_type": "stream",
     "text": [
      "                   all        272        296      0.939      0.855      0.927      0.638\n",
      "\u001b[34m\u001b[1mEarlyStopping: \u001b[0mTraining stopped early as no improvement observed in last 10 epochs. Best results observed at epoch 33, best model saved as best.pt.\n",
      "To update EarlyStopping(patience=10) pass a new patience value, i.e. `patience=300` or use `patience=0` to disable EarlyStopping.\n"
     ]
    },
    {
     "name": "stderr",
     "output_type": "stream",
     "text": [
      "\n"
     ]
    },
    {
     "name": "stdout",
     "output_type": "stream",
     "text": [
      "\n",
      "43 epochs completed in 0.101 hours.\n",
      "Optimizer stripped from runs/detect/train3/weights/last.pt, 6.2MB\n",
      "Optimizer stripped from runs/detect/train3/weights/best.pt, 6.2MB\n",
      "\n",
      "Validating runs/detect/train3/weights/best.pt...\n",
      "Ultralytics 8.3.62 🚀 Python-3.12.3 torch-2.5.1 CUDA:0 (NVIDIA GeForce RTX 3060 Laptop GPU, 5830MiB)\n",
      "Model summary (fused): 168 layers, 3,005,843 parameters, 0 gradients\n"
     ]
    },
    {
     "name": "stderr",
     "output_type": "stream",
     "text": [
      "                 Class     Images  Instances      Box(P          R      mAP50  mAP50-95):  40%|████      | 2/5 [00:00<00:00,  4.52it/s]libpng warning: iCCP: known incorrect sRGB profile\n",
      "                 Class     Images  Instances      Box(P          R      mAP50  mAP50-95): 100%|██████████| 5/5 [00:01<00:00,  3.79it/s]\n"
     ]
    },
    {
     "name": "stdout",
     "output_type": "stream",
     "text": [
      "                   all        272        296      0.951      0.911      0.948      0.643\n",
      "Speed: 0.2ms preprocess, 1.5ms inference, 0.0ms loss, 0.9ms postprocess per image\n",
      "Results saved to \u001b[1mruns/detect/train3\u001b[0m\n"
     ]
    },
    {
     "data": {
      "text/plain": [
       "ultralytics.utils.metrics.DetMetrics object with attributes:\n",
       "\n",
       "ap_class_index: array([0])\n",
       "box: ultralytics.utils.metrics.Metric object\n",
       "confusion_matrix: <ultralytics.utils.metrics.ConfusionMatrix object at 0x7f4e00773aa0>\n",
       "curves: ['Precision-Recall(B)', 'F1-Confidence(B)', 'Precision-Confidence(B)', 'Recall-Confidence(B)']\n",
       "curves_results: [[array([          0,    0.001001,    0.002002,    0.003003,    0.004004,    0.005005,    0.006006,    0.007007,    0.008008,    0.009009,     0.01001,    0.011011,    0.012012,    0.013013,    0.014014,    0.015015,    0.016016,    0.017017,    0.018018,    0.019019,     0.02002,    0.021021,    0.022022,    0.023023,\n",
       "          0.024024,    0.025025,    0.026026,    0.027027,    0.028028,    0.029029,     0.03003,    0.031031,    0.032032,    0.033033,    0.034034,    0.035035,    0.036036,    0.037037,    0.038038,    0.039039,     0.04004,    0.041041,    0.042042,    0.043043,    0.044044,    0.045045,    0.046046,    0.047047,\n",
       "          0.048048,    0.049049,     0.05005,    0.051051,    0.052052,    0.053053,    0.054054,    0.055055,    0.056056,    0.057057,    0.058058,    0.059059,     0.06006,    0.061061,    0.062062,    0.063063,    0.064064,    0.065065,    0.066066,    0.067067,    0.068068,    0.069069,     0.07007,    0.071071,\n",
       "          0.072072,    0.073073,    0.074074,    0.075075,    0.076076,    0.077077,    0.078078,    0.079079,     0.08008,    0.081081,    0.082082,    0.083083,    0.084084,    0.085085,    0.086086,    0.087087,    0.088088,    0.089089,     0.09009,    0.091091,    0.092092,    0.093093,    0.094094,    0.095095,\n",
       "          0.096096,    0.097097,    0.098098,    0.099099,      0.1001,      0.1011,      0.1021,      0.1031,      0.1041,     0.10511,     0.10611,     0.10711,     0.10811,     0.10911,     0.11011,     0.11111,     0.11211,     0.11311,     0.11411,     0.11512,     0.11612,     0.11712,     0.11812,     0.11912,\n",
       "           0.12012,     0.12112,     0.12212,     0.12312,     0.12412,     0.12513,     0.12613,     0.12713,     0.12813,     0.12913,     0.13013,     0.13113,     0.13213,     0.13313,     0.13413,     0.13514,     0.13614,     0.13714,     0.13814,     0.13914,     0.14014,     0.14114,     0.14214,     0.14314,\n",
       "           0.14414,     0.14515,     0.14615,     0.14715,     0.14815,     0.14915,     0.15015,     0.15115,     0.15215,     0.15315,     0.15415,     0.15516,     0.15616,     0.15716,     0.15816,     0.15916,     0.16016,     0.16116,     0.16216,     0.16316,     0.16416,     0.16517,     0.16617,     0.16717,\n",
       "           0.16817,     0.16917,     0.17017,     0.17117,     0.17217,     0.17317,     0.17417,     0.17518,     0.17618,     0.17718,     0.17818,     0.17918,     0.18018,     0.18118,     0.18218,     0.18318,     0.18418,     0.18519,     0.18619,     0.18719,     0.18819,     0.18919,     0.19019,     0.19119,\n",
       "           0.19219,     0.19319,     0.19419,      0.1952,      0.1962,      0.1972,      0.1982,      0.1992,      0.2002,      0.2012,      0.2022,      0.2032,      0.2042,     0.20521,     0.20621,     0.20721,     0.20821,     0.20921,     0.21021,     0.21121,     0.21221,     0.21321,     0.21421,     0.21522,\n",
       "           0.21622,     0.21722,     0.21822,     0.21922,     0.22022,     0.22122,     0.22222,     0.22322,     0.22422,     0.22523,     0.22623,     0.22723,     0.22823,     0.22923,     0.23023,     0.23123,     0.23223,     0.23323,     0.23423,     0.23524,     0.23624,     0.23724,     0.23824,     0.23924,\n",
       "           0.24024,     0.24124,     0.24224,     0.24324,     0.24424,     0.24525,     0.24625,     0.24725,     0.24825,     0.24925,     0.25025,     0.25125,     0.25225,     0.25325,     0.25425,     0.25526,     0.25626,     0.25726,     0.25826,     0.25926,     0.26026,     0.26126,     0.26226,     0.26326,\n",
       "           0.26426,     0.26527,     0.26627,     0.26727,     0.26827,     0.26927,     0.27027,     0.27127,     0.27227,     0.27327,     0.27427,     0.27528,     0.27628,     0.27728,     0.27828,     0.27928,     0.28028,     0.28128,     0.28228,     0.28328,     0.28428,     0.28529,     0.28629,     0.28729,\n",
       "           0.28829,     0.28929,     0.29029,     0.29129,     0.29229,     0.29329,     0.29429,      0.2953,      0.2963,      0.2973,      0.2983,      0.2993,      0.3003,      0.3013,      0.3023,      0.3033,      0.3043,     0.30531,     0.30631,     0.30731,     0.30831,     0.30931,     0.31031,     0.31131,\n",
       "           0.31231,     0.31331,     0.31431,     0.31532,     0.31632,     0.31732,     0.31832,     0.31932,     0.32032,     0.32132,     0.32232,     0.32332,     0.32432,     0.32533,     0.32633,     0.32733,     0.32833,     0.32933,     0.33033,     0.33133,     0.33233,     0.33333,     0.33433,     0.33534,\n",
       "           0.33634,     0.33734,     0.33834,     0.33934,     0.34034,     0.34134,     0.34234,     0.34334,     0.34434,     0.34535,     0.34635,     0.34735,     0.34835,     0.34935,     0.35035,     0.35135,     0.35235,     0.35335,     0.35435,     0.35536,     0.35636,     0.35736,     0.35836,     0.35936,\n",
       "           0.36036,     0.36136,     0.36236,     0.36336,     0.36436,     0.36537,     0.36637,     0.36737,     0.36837,     0.36937,     0.37037,     0.37137,     0.37237,     0.37337,     0.37437,     0.37538,     0.37638,     0.37738,     0.37838,     0.37938,     0.38038,     0.38138,     0.38238,     0.38338,\n",
       "           0.38438,     0.38539,     0.38639,     0.38739,     0.38839,     0.38939,     0.39039,     0.39139,     0.39239,     0.39339,     0.39439,      0.3954,      0.3964,      0.3974,      0.3984,      0.3994,      0.4004,      0.4014,      0.4024,      0.4034,      0.4044,     0.40541,     0.40641,     0.40741,\n",
       "           0.40841,     0.40941,     0.41041,     0.41141,     0.41241,     0.41341,     0.41441,     0.41542,     0.41642,     0.41742,     0.41842,     0.41942,     0.42042,     0.42142,     0.42242,     0.42342,     0.42442,     0.42543,     0.42643,     0.42743,     0.42843,     0.42943,     0.43043,     0.43143,\n",
       "           0.43243,     0.43343,     0.43443,     0.43544,     0.43644,     0.43744,     0.43844,     0.43944,     0.44044,     0.44144,     0.44244,     0.44344,     0.44444,     0.44545,     0.44645,     0.44745,     0.44845,     0.44945,     0.45045,     0.45145,     0.45245,     0.45345,     0.45445,     0.45546,\n",
       "           0.45646,     0.45746,     0.45846,     0.45946,     0.46046,     0.46146,     0.46246,     0.46346,     0.46446,     0.46547,     0.46647,     0.46747,     0.46847,     0.46947,     0.47047,     0.47147,     0.47247,     0.47347,     0.47447,     0.47548,     0.47648,     0.47748,     0.47848,     0.47948,\n",
       "           0.48048,     0.48148,     0.48248,     0.48348,     0.48448,     0.48549,     0.48649,     0.48749,     0.48849,     0.48949,     0.49049,     0.49149,     0.49249,     0.49349,     0.49449,      0.4955,      0.4965,      0.4975,      0.4985,      0.4995,      0.5005,      0.5015,      0.5025,      0.5035,\n",
       "            0.5045,     0.50551,     0.50651,     0.50751,     0.50851,     0.50951,     0.51051,     0.51151,     0.51251,     0.51351,     0.51451,     0.51552,     0.51652,     0.51752,     0.51852,     0.51952,     0.52052,     0.52152,     0.52252,     0.52352,     0.52452,     0.52553,     0.52653,     0.52753,\n",
       "           0.52853,     0.52953,     0.53053,     0.53153,     0.53253,     0.53353,     0.53453,     0.53554,     0.53654,     0.53754,     0.53854,     0.53954,     0.54054,     0.54154,     0.54254,     0.54354,     0.54454,     0.54555,     0.54655,     0.54755,     0.54855,     0.54955,     0.55055,     0.55155,\n",
       "           0.55255,     0.55355,     0.55455,     0.55556,     0.55656,     0.55756,     0.55856,     0.55956,     0.56056,     0.56156,     0.56256,     0.56356,     0.56456,     0.56557,     0.56657,     0.56757,     0.56857,     0.56957,     0.57057,     0.57157,     0.57257,     0.57357,     0.57457,     0.57558,\n",
       "           0.57658,     0.57758,     0.57858,     0.57958,     0.58058,     0.58158,     0.58258,     0.58358,     0.58458,     0.58559,     0.58659,     0.58759,     0.58859,     0.58959,     0.59059,     0.59159,     0.59259,     0.59359,     0.59459,      0.5956,      0.5966,      0.5976,      0.5986,      0.5996,\n",
       "            0.6006,      0.6016,      0.6026,      0.6036,      0.6046,     0.60561,     0.60661,     0.60761,     0.60861,     0.60961,     0.61061,     0.61161,     0.61261,     0.61361,     0.61461,     0.61562,     0.61662,     0.61762,     0.61862,     0.61962,     0.62062,     0.62162,     0.62262,     0.62362,\n",
       "           0.62462,     0.62563,     0.62663,     0.62763,     0.62863,     0.62963,     0.63063,     0.63163,     0.63263,     0.63363,     0.63463,     0.63564,     0.63664,     0.63764,     0.63864,     0.63964,     0.64064,     0.64164,     0.64264,     0.64364,     0.64464,     0.64565,     0.64665,     0.64765,\n",
       "           0.64865,     0.64965,     0.65065,     0.65165,     0.65265,     0.65365,     0.65465,     0.65566,     0.65666,     0.65766,     0.65866,     0.65966,     0.66066,     0.66166,     0.66266,     0.66366,     0.66466,     0.66567,     0.66667,     0.66767,     0.66867,     0.66967,     0.67067,     0.67167,\n",
       "           0.67267,     0.67367,     0.67467,     0.67568,     0.67668,     0.67768,     0.67868,     0.67968,     0.68068,     0.68168,     0.68268,     0.68368,     0.68468,     0.68569,     0.68669,     0.68769,     0.68869,     0.68969,     0.69069,     0.69169,     0.69269,     0.69369,     0.69469,      0.6957,\n",
       "            0.6967,      0.6977,      0.6987,      0.6997,      0.7007,      0.7017,      0.7027,      0.7037,      0.7047,     0.70571,     0.70671,     0.70771,     0.70871,     0.70971,     0.71071,     0.71171,     0.71271,     0.71371,     0.71471,     0.71572,     0.71672,     0.71772,     0.71872,     0.71972,\n",
       "           0.72072,     0.72172,     0.72272,     0.72372,     0.72472,     0.72573,     0.72673,     0.72773,     0.72873,     0.72973,     0.73073,     0.73173,     0.73273,     0.73373,     0.73473,     0.73574,     0.73674,     0.73774,     0.73874,     0.73974,     0.74074,     0.74174,     0.74274,     0.74374,\n",
       "           0.74474,     0.74575,     0.74675,     0.74775,     0.74875,     0.74975,     0.75075,     0.75175,     0.75275,     0.75375,     0.75475,     0.75576,     0.75676,     0.75776,     0.75876,     0.75976,     0.76076,     0.76176,     0.76276,     0.76376,     0.76476,     0.76577,     0.76677,     0.76777,\n",
       "           0.76877,     0.76977,     0.77077,     0.77177,     0.77277,     0.77377,     0.77477,     0.77578,     0.77678,     0.77778,     0.77878,     0.77978,     0.78078,     0.78178,     0.78278,     0.78378,     0.78478,     0.78579,     0.78679,     0.78779,     0.78879,     0.78979,     0.79079,     0.79179,\n",
       "           0.79279,     0.79379,     0.79479,      0.7958,      0.7968,      0.7978,      0.7988,      0.7998,      0.8008,      0.8018,      0.8028,      0.8038,      0.8048,     0.80581,     0.80681,     0.80781,     0.80881,     0.80981,     0.81081,     0.81181,     0.81281,     0.81381,     0.81481,     0.81582,\n",
       "           0.81682,     0.81782,     0.81882,     0.81982,     0.82082,     0.82182,     0.82282,     0.82382,     0.82482,     0.82583,     0.82683,     0.82783,     0.82883,     0.82983,     0.83083,     0.83183,     0.83283,     0.83383,     0.83483,     0.83584,     0.83684,     0.83784,     0.83884,     0.83984,\n",
       "           0.84084,     0.84184,     0.84284,     0.84384,     0.84484,     0.84585,     0.84685,     0.84785,     0.84885,     0.84985,     0.85085,     0.85185,     0.85285,     0.85385,     0.85485,     0.85586,     0.85686,     0.85786,     0.85886,     0.85986,     0.86086,     0.86186,     0.86286,     0.86386,\n",
       "           0.86486,     0.86587,     0.86687,     0.86787,     0.86887,     0.86987,     0.87087,     0.87187,     0.87287,     0.87387,     0.87487,     0.87588,     0.87688,     0.87788,     0.87888,     0.87988,     0.88088,     0.88188,     0.88288,     0.88388,     0.88488,     0.88589,     0.88689,     0.88789,\n",
       "           0.88889,     0.88989,     0.89089,     0.89189,     0.89289,     0.89389,     0.89489,      0.8959,      0.8969,      0.8979,      0.8989,      0.8999,      0.9009,      0.9019,      0.9029,      0.9039,      0.9049,     0.90591,     0.90691,     0.90791,     0.90891,     0.90991,     0.91091,     0.91191,\n",
       "           0.91291,     0.91391,     0.91491,     0.91592,     0.91692,     0.91792,     0.91892,     0.91992,     0.92092,     0.92192,     0.92292,     0.92392,     0.92492,     0.92593,     0.92693,     0.92793,     0.92893,     0.92993,     0.93093,     0.93193,     0.93293,     0.93393,     0.93493,     0.93594,\n",
       "           0.93694,     0.93794,     0.93894,     0.93994,     0.94094,     0.94194,     0.94294,     0.94394,     0.94494,     0.94595,     0.94695,     0.94795,     0.94895,     0.94995,     0.95095,     0.95195,     0.95295,     0.95395,     0.95495,     0.95596,     0.95696,     0.95796,     0.95896,     0.95996,\n",
       "           0.96096,     0.96196,     0.96296,     0.96396,     0.96496,     0.96597,     0.96697,     0.96797,     0.96897,     0.96997,     0.97097,     0.97197,     0.97297,     0.97397,     0.97497,     0.97598,     0.97698,     0.97798,     0.97898,     0.97998,     0.98098,     0.98198,     0.98298,     0.98398,\n",
       "           0.98498,     0.98599,     0.98699,     0.98799,     0.98899,     0.98999,     0.99099,     0.99199,     0.99299,     0.99399,     0.99499,       0.996,       0.997,       0.998,       0.999,           1]), array([[          1,           1,           1,           1,           1,           1,           1,           1,           1,           1,           1,           1,           1,           1,           1,           1,           1,           1,           1,           1,           1,           1,           1,\n",
       "                  1,           1,           1,           1,           1,           1,           1,           1,           1,           1,           1,           1,           1,           1,           1,           1,           1,           1,           1,           1,           1,           1,           1,\n",
       "                  1,           1,           1,           1,           1,           1,           1,           1,           1,           1,           1,           1,           1,           1,           1,           1,           1,           1,           1,           1,           1,           1,           1,\n",
       "                  1,           1,           1,           1,           1,           1,           1,           1,           1,           1,           1,           1,           1,           1,           1,           1,           1,           1,           1,           1,           1,           1,           1,\n",
       "                  1,           1,           1,           1,           1,           1,           1,           1,           1,           1,           1,           1,           1,           1,           1,           1,           1,           1,           1,           1,           1,           1,           1,\n",
       "                  1,           1,           1,           1,           1,           1,           1,           1,           1,           1,           1,           1,           1,           1,           1,           1,           1,           1,           1,           1,           1,           1,           1,\n",
       "                  1,           1,           1,           1,           1,           1,           1,           1,           1,           1,           1,           1,           1,           1,           1,           1,           1,           1,           1,           1,           1,           1,           1,\n",
       "                  1,           1,           1,           1,           1,           1,           1,           1,           1,           1,           1,           1,           1,           1,           1,           1,           1,           1,           1,           1,           1,           1,           1,\n",
       "                  1,           1,           1,           1,           1,           1,           1,           1,           1,           1,           1,           1,           1,           1,           1,           1,           1,           1,           1,           1,           1,           1,           1,\n",
       "                  1,           1,           1,           1,           1,           1,           1,           1,           1,           1,           1,           1,           1,           1,           1,           1,           1,           1,           1,           1,           1,           1,           1,\n",
       "                  1,           1,           1,           1,           1,           1,           1,           1,           1,           1,           1,           1,           1,           1,           1,           1,           1,           1,           1,           1,           1,           1,           1,\n",
       "                  1,           1,           1,           1,           1,           1,           1,           1,           1,           1,           1,           1,           1,           1,           1,           1,           1,           1,           1,           1,           1,           1,           1,\n",
       "                  1,           1,           1,           1,           1,     0.99451,     0.99451,     0.99451,     0.99451,     0.99451,     0.99451,     0.99451,     0.99451,     0.99451,     0.99451,     0.99451,     0.99451,     0.99451,     0.99451,     0.99451,     0.99451,     0.99451,     0.99451,\n",
       "            0.99451,     0.99451,     0.99451,     0.99451,     0.99451,     0.99451,     0.99451,     0.99451,     0.99451,     0.99451,     0.99451,     0.99451,     0.99451,     0.99451,     0.99451,     0.99451,     0.99451,     0.99451,     0.99451,     0.99451,     0.99451,     0.99451,     0.99451,\n",
       "            0.99451,     0.99451,     0.99451,     0.99451,     0.99451,     0.99451,     0.99451,     0.99451,     0.99451,     0.99451,     0.99451,     0.99451,     0.99451,     0.99451,     0.99451,     0.99451,     0.99451,     0.99451,     0.99451,     0.99451,     0.99451,     0.99451,     0.99451,\n",
       "            0.99451,     0.99451,     0.99451,     0.99451,     0.99451,     0.99451,     0.99451,     0.99451,     0.99451,     0.99451,     0.99451,     0.99451,     0.99451,     0.99451,     0.99451,     0.99451,     0.99451,     0.99451,     0.99451,     0.99451,     0.99451,     0.99451,     0.99451,\n",
       "            0.99451,     0.99451,     0.99451,     0.99451,     0.99451,     0.99451,     0.99451,     0.99451,     0.99451,     0.99451,     0.99451,     0.99451,     0.99451,     0.99451,     0.99451,     0.99451,     0.99451,     0.99451,     0.99451,     0.99451,     0.99451,     0.99451,     0.99451,\n",
       "            0.99451,     0.99451,     0.99451,     0.99451,     0.99451,     0.99451,     0.99451,     0.99451,     0.99451,     0.99451,     0.99451,     0.99451,     0.99451,     0.99451,     0.99451,     0.99451,     0.99451,     0.99451,     0.99451,     0.99451,     0.99451,     0.99451,     0.99451,\n",
       "            0.99451,     0.99451,     0.99451,     0.99451,     0.99451,     0.99451,     0.99451,     0.99451,     0.99451,     0.99451,     0.99451,     0.99451,     0.99451,     0.99451,     0.99451,     0.99451,     0.99451,     0.99451,     0.99451,     0.99451,     0.99451,     0.99451,     0.99451,\n",
       "            0.99451,     0.99451,     0.99451,     0.99451,     0.99451,     0.99451,     0.99451,     0.99451,     0.99451,     0.99451,     0.99451,     0.99451,     0.99451,     0.99451,     0.99451,     0.99451,     0.99451,     0.99451,     0.99451,     0.99451,     0.99451,     0.99451,     0.99451,\n",
       "            0.99451,     0.99451,     0.99451,     0.99451,     0.99451,     0.99451,     0.99451,     0.99451,     0.99451,     0.99451,     0.99451,     0.99451,     0.99451,     0.99451,     0.99451,     0.99451,     0.99451,     0.99451,     0.99451,     0.99451,     0.99451,     0.99451,     0.99451,\n",
       "            0.99451,     0.99451,     0.99451,     0.99451,     0.99451,     0.99451,     0.99451,     0.99451,     0.99451,     0.99451,     0.99451,     0.99451,     0.99451,     0.99451,     0.99451,     0.99451,     0.99451,     0.99451,     0.99451,     0.99451,     0.99451,     0.99451,     0.99451,\n",
       "            0.99451,     0.99451,     0.99451,     0.99451,     0.99451,     0.99451,     0.99451,     0.99451,     0.99451,     0.99451,     0.99451,     0.99451,     0.99451,     0.99451,     0.99451,     0.99451,     0.99451,     0.99451,     0.99451,     0.99451,     0.99451,     0.99451,     0.99451,\n",
       "            0.99451,     0.99451,     0.99451,     0.99451,     0.99451,     0.99451,     0.99451,     0.99451,     0.99451,     0.99451,     0.99451,     0.99451,     0.99451,     0.99451,     0.99451,     0.99451,     0.99451,     0.99451,     0.99451,     0.99451,     0.99451,     0.99451,     0.99451,\n",
       "            0.99451,     0.99451,     0.99451,     0.99451,     0.99451,     0.99451,     0.99451,     0.99451,     0.99451,     0.99451,     0.99451,     0.99451,     0.99451,     0.99451,     0.99451,     0.99451,     0.99451,     0.99451,     0.99451,     0.99451,     0.99451,     0.99451,     0.99451,\n",
       "            0.99451,     0.99451,     0.99451,     0.99451,     0.99451,     0.99451,     0.99451,     0.99451,     0.99451,     0.99451,     0.99451,     0.99451,     0.99451,     0.99451,     0.99451,     0.99451,     0.99451,     0.99451,     0.99451,     0.99451,     0.99451,     0.99451,     0.99451,\n",
       "            0.99451,     0.99451,     0.99451,     0.99451,     0.99451,     0.99451,     0.99451,     0.99451,     0.99451,     0.99451,     0.99451,     0.99451,     0.99451,        0.99,        0.99,        0.99,        0.99,        0.99,        0.99,        0.99,        0.99,        0.99,        0.99,\n",
       "               0.99,        0.99,        0.99,        0.99,        0.99,        0.99,        0.99,        0.99,        0.99,        0.99,        0.99,        0.99,        0.99,        0.99,        0.99,        0.99,        0.99,        0.99,        0.99,        0.99,        0.99,        0.99,        0.99,\n",
       "               0.99,        0.99,        0.99,        0.99,        0.99,        0.99,        0.99,        0.99,        0.99,        0.99,        0.99,        0.99,        0.99,        0.99,        0.99,        0.99,        0.99,        0.99,        0.99,        0.99,        0.99,        0.99,        0.99,\n",
       "               0.99,        0.99,      0.9881,      0.9881,      0.9881,      0.9881,      0.9881,      0.9881,      0.9881,      0.9881,      0.9881,      0.9881,      0.9881,      0.9881,      0.9881,      0.9881,      0.9881,      0.9881,      0.9881,      0.9881,      0.9881,      0.9881,      0.9881,\n",
       "             0.9881,      0.9881,      0.9881,      0.9881,      0.9881,      0.9881,      0.9881,      0.9881,      0.9881,      0.9881,      0.9881,      0.9881,      0.9881,      0.9881,      0.9881,      0.9881,      0.9881,      0.9881,      0.9881,      0.9881,      0.9881,      0.9881,      0.9881,\n",
       "             0.9881,      0.9881,      0.9881,      0.9881,      0.9881,      0.9881,      0.9881,      0.9881,      0.9881,      0.9881,      0.9881,      0.9881,      0.9881,      0.9881,      0.9881,      0.9881,      0.9881,      0.9881,      0.9881,      0.9881,      0.9881,      0.9881,      0.9881,\n",
       "             0.9881,      0.9881,      0.9881,      0.9881,      0.9881,      0.9881,      0.9881,      0.9881,      0.9881,      0.9881,      0.9881,      0.9881,      0.9881,      0.9881,      0.9881,      0.9881,      0.9881,      0.9881,      0.9881,      0.9881,      0.9881,      0.9881,      0.9881,\n",
       "             0.9881,      0.9881,      0.9881,      0.9881,      0.9881,      0.9881,      0.9881,      0.9881,      0.9881,      0.9881,      0.9881,      0.9881,      0.9881,      0.9881,      0.9881,      0.9881,      0.9881,      0.9881,      0.9881,      0.9881,      0.9881,      0.9881,      0.9881,\n",
       "             0.9881,      0.9881,      0.9881,      0.9881,      0.9881,      0.9881,      0.9881,      0.9881,      0.9881,      0.9881,      0.9881,      0.9881,      0.9881,      0.9881,      0.9881,      0.9881,      0.9881,      0.9881,      0.9881,      0.9881,      0.9881,      0.9881,      0.9881,\n",
       "             0.9881,      0.9881,      0.9881,      0.9881,      0.9881,      0.9881,      0.9881,      0.9881,      0.9881,      0.9881,      0.9881,      0.9881,      0.9881,      0.9881,      0.9881,      0.9881,      0.9881,      0.9881,      0.9881,      0.9881,      0.9881,      0.9881,      0.9881,\n",
       "             0.9881,      0.9881,      0.9881,      0.9881,      0.9881,      0.9881,      0.9881,      0.9881,      0.9881,      0.9881,      0.9881,      0.9881,      0.9881,     0.98444,     0.98444,     0.98444,     0.98444,     0.98444,     0.98444,     0.98444,     0.98444,     0.98444,     0.98444,\n",
       "            0.98444,     0.98444,     0.98444,     0.98099,     0.98099,     0.98099,     0.98099,     0.98099,     0.98099,     0.98099,     0.98099,     0.98099,     0.98099,     0.98099,     0.98099,     0.98099,     0.98099,     0.98099,     0.98099,     0.98099,     0.97388,     0.97388,     0.97388,\n",
       "            0.97388,     0.97388,     0.97388,     0.97388,     0.97388,     0.97388,     0.97388,      0.9708,      0.9708,      0.9708,      0.9708,      0.9708,      0.9708,      0.9708,      0.9708,      0.9708,      0.9708,      0.9708,      0.9708,      0.9708,      0.9708,      0.9708,      0.9708,\n",
       "             0.9708,     0.96403,     0.96403,     0.96403,     0.96403,     0.96403,     0.96403,     0.96403,      0.9507,      0.9507,      0.9507,      0.9507,      0.9507,      0.9507,      0.9507,     0.93772,     0.93772,     0.93772,     0.90066,     0.90066,     0.90066,     0.90066,     0.89803,\n",
       "            0.89803,     0.89803,     0.88961,     0.88961,     0.88961,     0.86478,     0.86478,     0.86478,     0.86478,      0.8625,      0.8625,      0.8625,     0.85494,     0.85494,     0.85494,     0.83483,     0.83483,     0.83483,     0.83483,      0.7686,      0.7686,      0.7686,     0.75881,\n",
       "            0.75881,     0.75881,     0.74406,     0.74406,     0.74406,     0.74406,     0.74406,     0.74406,     0.74406,     0.68029,     0.68029,     0.68029,     0.68029,     0.66981,     0.66981,     0.66981,     0.35572,     0.35572,     0.35572,     0.35572,     0.35572,     0.35572,     0.35572,\n",
       "            0.26974,     0.26974,     0.26974,     0.17877,     0.17877,     0.17877,     0.17877,     0.14831,      0.1426,      0.1369,     0.13119,     0.12549,     0.11979,     0.11408,     0.10838,     0.10267,     0.09697,    0.091266,    0.085561,    0.079857,    0.074153,    0.068449,    0.062745,\n",
       "           0.057041,    0.051337,    0.045633,    0.039929,    0.034225,     0.02852,    0.022816,    0.017112,    0.011408,   0.0057041,           0]]), 'Recall', 'Precision'], [array([          0,    0.001001,    0.002002,    0.003003,    0.004004,    0.005005,    0.006006,    0.007007,    0.008008,    0.009009,     0.01001,    0.011011,    0.012012,    0.013013,    0.014014,    0.015015,    0.016016,    0.017017,    0.018018,    0.019019,     0.02002,    0.021021,    0.022022,    0.023023,\n",
       "          0.024024,    0.025025,    0.026026,    0.027027,    0.028028,    0.029029,     0.03003,    0.031031,    0.032032,    0.033033,    0.034034,    0.035035,    0.036036,    0.037037,    0.038038,    0.039039,     0.04004,    0.041041,    0.042042,    0.043043,    0.044044,    0.045045,    0.046046,    0.047047,\n",
       "          0.048048,    0.049049,     0.05005,    0.051051,    0.052052,    0.053053,    0.054054,    0.055055,    0.056056,    0.057057,    0.058058,    0.059059,     0.06006,    0.061061,    0.062062,    0.063063,    0.064064,    0.065065,    0.066066,    0.067067,    0.068068,    0.069069,     0.07007,    0.071071,\n",
       "          0.072072,    0.073073,    0.074074,    0.075075,    0.076076,    0.077077,    0.078078,    0.079079,     0.08008,    0.081081,    0.082082,    0.083083,    0.084084,    0.085085,    0.086086,    0.087087,    0.088088,    0.089089,     0.09009,    0.091091,    0.092092,    0.093093,    0.094094,    0.095095,\n",
       "          0.096096,    0.097097,    0.098098,    0.099099,      0.1001,      0.1011,      0.1021,      0.1031,      0.1041,     0.10511,     0.10611,     0.10711,     0.10811,     0.10911,     0.11011,     0.11111,     0.11211,     0.11311,     0.11411,     0.11512,     0.11612,     0.11712,     0.11812,     0.11912,\n",
       "           0.12012,     0.12112,     0.12212,     0.12312,     0.12412,     0.12513,     0.12613,     0.12713,     0.12813,     0.12913,     0.13013,     0.13113,     0.13213,     0.13313,     0.13413,     0.13514,     0.13614,     0.13714,     0.13814,     0.13914,     0.14014,     0.14114,     0.14214,     0.14314,\n",
       "           0.14414,     0.14515,     0.14615,     0.14715,     0.14815,     0.14915,     0.15015,     0.15115,     0.15215,     0.15315,     0.15415,     0.15516,     0.15616,     0.15716,     0.15816,     0.15916,     0.16016,     0.16116,     0.16216,     0.16316,     0.16416,     0.16517,     0.16617,     0.16717,\n",
       "           0.16817,     0.16917,     0.17017,     0.17117,     0.17217,     0.17317,     0.17417,     0.17518,     0.17618,     0.17718,     0.17818,     0.17918,     0.18018,     0.18118,     0.18218,     0.18318,     0.18418,     0.18519,     0.18619,     0.18719,     0.18819,     0.18919,     0.19019,     0.19119,\n",
       "           0.19219,     0.19319,     0.19419,      0.1952,      0.1962,      0.1972,      0.1982,      0.1992,      0.2002,      0.2012,      0.2022,      0.2032,      0.2042,     0.20521,     0.20621,     0.20721,     0.20821,     0.20921,     0.21021,     0.21121,     0.21221,     0.21321,     0.21421,     0.21522,\n",
       "           0.21622,     0.21722,     0.21822,     0.21922,     0.22022,     0.22122,     0.22222,     0.22322,     0.22422,     0.22523,     0.22623,     0.22723,     0.22823,     0.22923,     0.23023,     0.23123,     0.23223,     0.23323,     0.23423,     0.23524,     0.23624,     0.23724,     0.23824,     0.23924,\n",
       "           0.24024,     0.24124,     0.24224,     0.24324,     0.24424,     0.24525,     0.24625,     0.24725,     0.24825,     0.24925,     0.25025,     0.25125,     0.25225,     0.25325,     0.25425,     0.25526,     0.25626,     0.25726,     0.25826,     0.25926,     0.26026,     0.26126,     0.26226,     0.26326,\n",
       "           0.26426,     0.26527,     0.26627,     0.26727,     0.26827,     0.26927,     0.27027,     0.27127,     0.27227,     0.27327,     0.27427,     0.27528,     0.27628,     0.27728,     0.27828,     0.27928,     0.28028,     0.28128,     0.28228,     0.28328,     0.28428,     0.28529,     0.28629,     0.28729,\n",
       "           0.28829,     0.28929,     0.29029,     0.29129,     0.29229,     0.29329,     0.29429,      0.2953,      0.2963,      0.2973,      0.2983,      0.2993,      0.3003,      0.3013,      0.3023,      0.3033,      0.3043,     0.30531,     0.30631,     0.30731,     0.30831,     0.30931,     0.31031,     0.31131,\n",
       "           0.31231,     0.31331,     0.31431,     0.31532,     0.31632,     0.31732,     0.31832,     0.31932,     0.32032,     0.32132,     0.32232,     0.32332,     0.32432,     0.32533,     0.32633,     0.32733,     0.32833,     0.32933,     0.33033,     0.33133,     0.33233,     0.33333,     0.33433,     0.33534,\n",
       "           0.33634,     0.33734,     0.33834,     0.33934,     0.34034,     0.34134,     0.34234,     0.34334,     0.34434,     0.34535,     0.34635,     0.34735,     0.34835,     0.34935,     0.35035,     0.35135,     0.35235,     0.35335,     0.35435,     0.35536,     0.35636,     0.35736,     0.35836,     0.35936,\n",
       "           0.36036,     0.36136,     0.36236,     0.36336,     0.36436,     0.36537,     0.36637,     0.36737,     0.36837,     0.36937,     0.37037,     0.37137,     0.37237,     0.37337,     0.37437,     0.37538,     0.37638,     0.37738,     0.37838,     0.37938,     0.38038,     0.38138,     0.38238,     0.38338,\n",
       "           0.38438,     0.38539,     0.38639,     0.38739,     0.38839,     0.38939,     0.39039,     0.39139,     0.39239,     0.39339,     0.39439,      0.3954,      0.3964,      0.3974,      0.3984,      0.3994,      0.4004,      0.4014,      0.4024,      0.4034,      0.4044,     0.40541,     0.40641,     0.40741,\n",
       "           0.40841,     0.40941,     0.41041,     0.41141,     0.41241,     0.41341,     0.41441,     0.41542,     0.41642,     0.41742,     0.41842,     0.41942,     0.42042,     0.42142,     0.42242,     0.42342,     0.42442,     0.42543,     0.42643,     0.42743,     0.42843,     0.42943,     0.43043,     0.43143,\n",
       "           0.43243,     0.43343,     0.43443,     0.43544,     0.43644,     0.43744,     0.43844,     0.43944,     0.44044,     0.44144,     0.44244,     0.44344,     0.44444,     0.44545,     0.44645,     0.44745,     0.44845,     0.44945,     0.45045,     0.45145,     0.45245,     0.45345,     0.45445,     0.45546,\n",
       "           0.45646,     0.45746,     0.45846,     0.45946,     0.46046,     0.46146,     0.46246,     0.46346,     0.46446,     0.46547,     0.46647,     0.46747,     0.46847,     0.46947,     0.47047,     0.47147,     0.47247,     0.47347,     0.47447,     0.47548,     0.47648,     0.47748,     0.47848,     0.47948,\n",
       "           0.48048,     0.48148,     0.48248,     0.48348,     0.48448,     0.48549,     0.48649,     0.48749,     0.48849,     0.48949,     0.49049,     0.49149,     0.49249,     0.49349,     0.49449,      0.4955,      0.4965,      0.4975,      0.4985,      0.4995,      0.5005,      0.5015,      0.5025,      0.5035,\n",
       "            0.5045,     0.50551,     0.50651,     0.50751,     0.50851,     0.50951,     0.51051,     0.51151,     0.51251,     0.51351,     0.51451,     0.51552,     0.51652,     0.51752,     0.51852,     0.51952,     0.52052,     0.52152,     0.52252,     0.52352,     0.52452,     0.52553,     0.52653,     0.52753,\n",
       "           0.52853,     0.52953,     0.53053,     0.53153,     0.53253,     0.53353,     0.53453,     0.53554,     0.53654,     0.53754,     0.53854,     0.53954,     0.54054,     0.54154,     0.54254,     0.54354,     0.54454,     0.54555,     0.54655,     0.54755,     0.54855,     0.54955,     0.55055,     0.55155,\n",
       "           0.55255,     0.55355,     0.55455,     0.55556,     0.55656,     0.55756,     0.55856,     0.55956,     0.56056,     0.56156,     0.56256,     0.56356,     0.56456,     0.56557,     0.56657,     0.56757,     0.56857,     0.56957,     0.57057,     0.57157,     0.57257,     0.57357,     0.57457,     0.57558,\n",
       "           0.57658,     0.57758,     0.57858,     0.57958,     0.58058,     0.58158,     0.58258,     0.58358,     0.58458,     0.58559,     0.58659,     0.58759,     0.58859,     0.58959,     0.59059,     0.59159,     0.59259,     0.59359,     0.59459,      0.5956,      0.5966,      0.5976,      0.5986,      0.5996,\n",
       "            0.6006,      0.6016,      0.6026,      0.6036,      0.6046,     0.60561,     0.60661,     0.60761,     0.60861,     0.60961,     0.61061,     0.61161,     0.61261,     0.61361,     0.61461,     0.61562,     0.61662,     0.61762,     0.61862,     0.61962,     0.62062,     0.62162,     0.62262,     0.62362,\n",
       "           0.62462,     0.62563,     0.62663,     0.62763,     0.62863,     0.62963,     0.63063,     0.63163,     0.63263,     0.63363,     0.63463,     0.63564,     0.63664,     0.63764,     0.63864,     0.63964,     0.64064,     0.64164,     0.64264,     0.64364,     0.64464,     0.64565,     0.64665,     0.64765,\n",
       "           0.64865,     0.64965,     0.65065,     0.65165,     0.65265,     0.65365,     0.65465,     0.65566,     0.65666,     0.65766,     0.65866,     0.65966,     0.66066,     0.66166,     0.66266,     0.66366,     0.66466,     0.66567,     0.66667,     0.66767,     0.66867,     0.66967,     0.67067,     0.67167,\n",
       "           0.67267,     0.67367,     0.67467,     0.67568,     0.67668,     0.67768,     0.67868,     0.67968,     0.68068,     0.68168,     0.68268,     0.68368,     0.68468,     0.68569,     0.68669,     0.68769,     0.68869,     0.68969,     0.69069,     0.69169,     0.69269,     0.69369,     0.69469,      0.6957,\n",
       "            0.6967,      0.6977,      0.6987,      0.6997,      0.7007,      0.7017,      0.7027,      0.7037,      0.7047,     0.70571,     0.70671,     0.70771,     0.70871,     0.70971,     0.71071,     0.71171,     0.71271,     0.71371,     0.71471,     0.71572,     0.71672,     0.71772,     0.71872,     0.71972,\n",
       "           0.72072,     0.72172,     0.72272,     0.72372,     0.72472,     0.72573,     0.72673,     0.72773,     0.72873,     0.72973,     0.73073,     0.73173,     0.73273,     0.73373,     0.73473,     0.73574,     0.73674,     0.73774,     0.73874,     0.73974,     0.74074,     0.74174,     0.74274,     0.74374,\n",
       "           0.74474,     0.74575,     0.74675,     0.74775,     0.74875,     0.74975,     0.75075,     0.75175,     0.75275,     0.75375,     0.75475,     0.75576,     0.75676,     0.75776,     0.75876,     0.75976,     0.76076,     0.76176,     0.76276,     0.76376,     0.76476,     0.76577,     0.76677,     0.76777,\n",
       "           0.76877,     0.76977,     0.77077,     0.77177,     0.77277,     0.77377,     0.77477,     0.77578,     0.77678,     0.77778,     0.77878,     0.77978,     0.78078,     0.78178,     0.78278,     0.78378,     0.78478,     0.78579,     0.78679,     0.78779,     0.78879,     0.78979,     0.79079,     0.79179,\n",
       "           0.79279,     0.79379,     0.79479,      0.7958,      0.7968,      0.7978,      0.7988,      0.7998,      0.8008,      0.8018,      0.8028,      0.8038,      0.8048,     0.80581,     0.80681,     0.80781,     0.80881,     0.80981,     0.81081,     0.81181,     0.81281,     0.81381,     0.81481,     0.81582,\n",
       "           0.81682,     0.81782,     0.81882,     0.81982,     0.82082,     0.82182,     0.82282,     0.82382,     0.82482,     0.82583,     0.82683,     0.82783,     0.82883,     0.82983,     0.83083,     0.83183,     0.83283,     0.83383,     0.83483,     0.83584,     0.83684,     0.83784,     0.83884,     0.83984,\n",
       "           0.84084,     0.84184,     0.84284,     0.84384,     0.84484,     0.84585,     0.84685,     0.84785,     0.84885,     0.84985,     0.85085,     0.85185,     0.85285,     0.85385,     0.85485,     0.85586,     0.85686,     0.85786,     0.85886,     0.85986,     0.86086,     0.86186,     0.86286,     0.86386,\n",
       "           0.86486,     0.86587,     0.86687,     0.86787,     0.86887,     0.86987,     0.87087,     0.87187,     0.87287,     0.87387,     0.87487,     0.87588,     0.87688,     0.87788,     0.87888,     0.87988,     0.88088,     0.88188,     0.88288,     0.88388,     0.88488,     0.88589,     0.88689,     0.88789,\n",
       "           0.88889,     0.88989,     0.89089,     0.89189,     0.89289,     0.89389,     0.89489,      0.8959,      0.8969,      0.8979,      0.8989,      0.8999,      0.9009,      0.9019,      0.9029,      0.9039,      0.9049,     0.90591,     0.90691,     0.90791,     0.90891,     0.90991,     0.91091,     0.91191,\n",
       "           0.91291,     0.91391,     0.91491,     0.91592,     0.91692,     0.91792,     0.91892,     0.91992,     0.92092,     0.92192,     0.92292,     0.92392,     0.92492,     0.92593,     0.92693,     0.92793,     0.92893,     0.92993,     0.93093,     0.93193,     0.93293,     0.93393,     0.93493,     0.93594,\n",
       "           0.93694,     0.93794,     0.93894,     0.93994,     0.94094,     0.94194,     0.94294,     0.94394,     0.94494,     0.94595,     0.94695,     0.94795,     0.94895,     0.94995,     0.95095,     0.95195,     0.95295,     0.95395,     0.95495,     0.95596,     0.95696,     0.95796,     0.95896,     0.95996,\n",
       "           0.96096,     0.96196,     0.96296,     0.96396,     0.96496,     0.96597,     0.96697,     0.96797,     0.96897,     0.96997,     0.97097,     0.97197,     0.97297,     0.97397,     0.97497,     0.97598,     0.97698,     0.97798,     0.97898,     0.97998,     0.98098,     0.98198,     0.98298,     0.98398,\n",
       "           0.98498,     0.98599,     0.98699,     0.98799,     0.98899,     0.98999,     0.99099,     0.99199,     0.99299,     0.99399,     0.99499,       0.996,       0.997,       0.998,       0.999,           1]), array([[    0.26593,     0.26593,     0.38264,     0.45036,     0.49477,     0.53244,     0.56859,     0.58789,     0.60889,     0.62508,     0.64142,     0.65916,      0.6752,     0.68673,     0.69802,     0.70779,     0.71409,     0.72042,      0.7279,     0.73545,     0.74974,     0.75647,     0.75864,\n",
       "            0.76566,     0.76826,     0.77273,     0.77717,     0.78228,     0.78609,     0.78845,     0.78963,     0.79328,     0.79385,     0.79639,     0.80472,     0.80658,     0.81086,     0.81266,     0.81916,     0.82207,     0.82447,     0.82706,     0.82773,     0.82846,     0.82929,     0.83253,\n",
       "            0.83433,     0.83492,     0.83551,     0.83316,     0.83243,     0.83298,     0.83851,     0.83945,     0.84164,     0.84159,     0.84098,     0.84037,     0.84318,     0.84367,     0.84416,     0.84504,     0.84665,     0.84678,      0.8477,     0.84835,     0.84941,     0.85092,      0.8519,\n",
       "             0.8528,     0.85382,      0.8544,     0.85484,     0.85528,     0.85564,     0.85598,     0.85632,     0.85666,     0.86074,     0.86288,      0.8647,     0.86541,     0.86757,     0.86886,     0.86929,     0.86972,     0.87031,     0.87174,     0.87228,     0.87283,      0.8733,     0.87377,\n",
       "             0.8746,     0.87584,     0.87613,     0.87641,      0.8767,       0.877,     0.87757,     0.87814,     0.87889,     0.87995,     0.88169,     0.88235,     0.88296,     0.88355,     0.88377,     0.88324,     0.88271,     0.88218,     0.88387,     0.88423,      0.8846,     0.88497,     0.88536,\n",
       "            0.88575,     0.88615,     0.88656,       0.887,     0.88744,     0.88784,     0.88797,      0.8881,     0.88823,     0.88836,     0.88849,     0.88862,     0.88875,     0.88888,     0.88901,     0.88914,     0.88933,     0.88992,     0.89051,     0.89086,     0.89112,     0.89138,     0.89165,\n",
       "            0.89191,     0.89215,     0.89235,     0.89255,     0.89275,     0.89295,     0.89315,     0.89335,     0.89354,     0.89311,     0.89267,     0.89224,     0.89181,     0.89193,     0.89213,     0.89232,     0.89251,     0.89271,      0.8929,      0.8931,     0.89364,     0.89463,     0.89514,\n",
       "            0.89563,      0.8961,     0.89594,     0.89578,     0.89562,     0.89546,      0.8953,     0.89514,     0.89498,     0.89482,     0.89466,      0.8945,     0.89434,     0.89474,     0.89526,     0.89566,     0.89401,      0.8941,     0.89418,     0.89427,     0.89435,     0.89444,     0.89452,\n",
       "            0.89461,      0.8947,     0.89478,     0.89487,     0.89495,     0.89504,     0.89512,     0.89521,     0.89529,     0.89538,     0.89613,     0.89739,     0.89837,     0.89868,     0.89899,      0.8993,     0.89961,      0.8999,     0.90012,     0.90035,     0.90057,      0.9008,     0.90102,\n",
       "            0.90125,     0.90161,     0.90203,     0.90244,     0.90284,     0.90313,     0.90341,      0.9037,     0.90398,     0.90426,     0.90442,     0.90457,     0.90472,     0.90487,     0.90502,     0.90516,     0.90531,     0.90546,     0.90561,     0.90575,     0.90617,     0.90666,     0.90716,\n",
       "            0.90717,       0.907,     0.90684,     0.90668,     0.90652,     0.90636,      0.9062,     0.90604,     0.90587,     0.90571,     0.90555,     0.90805,     0.90903,     0.90972,     0.90976,     0.90934,     0.90893,     0.90851,     0.90823,     0.90846,     0.90869,     0.90892,     0.90915,\n",
       "            0.90938,     0.90961,     0.90956,     0.90934,     0.90912,      0.9089,     0.90868,     0.90846,     0.90824,     0.90802,     0.90794,     0.90817,     0.90839,     0.90861,     0.90884,     0.90906,     0.90928,     0.90948,     0.90966,     0.90983,        0.91,     0.91018,     0.91035,\n",
       "            0.91053,      0.9107,     0.91087,     0.91106,     0.91124,     0.91143,     0.91161,      0.9118,     0.91198,     0.91217,     0.91235,     0.91312,     0.91403,     0.91412,      0.9142,     0.91429,     0.91437,     0.91446,     0.91454,     0.91463,     0.91471,     0.91479,     0.91488,\n",
       "            0.91496,     0.91505,     0.91513,     0.91522,      0.9153,     0.91538,     0.91547,      0.9156,     0.91597,     0.91635,     0.91672,     0.91709,     0.91743,     0.91776,      0.9181,     0.91843,     0.91888,     0.91952,     0.92016,     0.92031,     0.92043,     0.92054,     0.92066,\n",
       "            0.92077,     0.92088,       0.921,     0.92111,     0.92123,     0.92134,     0.92146,     0.92157,     0.92169,     0.92181,     0.92194,     0.92208,     0.92222,     0.92236,     0.92249,     0.92263,     0.92277,      0.9229,     0.92304,     0.92318,     0.92331,     0.92353,     0.92377,\n",
       "            0.92401,     0.92425,     0.92449,     0.92473,     0.92493,       0.925,     0.92508,     0.92515,     0.92522,     0.92529,     0.92536,     0.92544,     0.92551,     0.92558,     0.92565,     0.92572,      0.9258,     0.92587,     0.92594,     0.92601,     0.92608,     0.92616,     0.92623,\n",
       "             0.9263,     0.92637,     0.92644,     0.92631,     0.92562,     0.92494,     0.92492,     0.92535,     0.92578,     0.92622,     0.92651,     0.92679,     0.92708,     0.92736,     0.92764,     0.92785,     0.92789,     0.92793,     0.92797,     0.92801,     0.92806,      0.9281,     0.92814,\n",
       "            0.92818,     0.92822,     0.92826,     0.92831,     0.92835,     0.92839,     0.92843,     0.92847,     0.92851,     0.92855,      0.9286,     0.92864,     0.92868,     0.92872,     0.92876,      0.9288,     0.92884,     0.92889,     0.92893,     0.92897,     0.92901,     0.92905,     0.92909,\n",
       "            0.92913,     0.92918,     0.92922,     0.92926,      0.9293,     0.92934,     0.92938,     0.92942,     0.92957,     0.92973,      0.9299,     0.93007,     0.93024,     0.93041,     0.93058,     0.93074,     0.93091,     0.93086,     0.93023,      0.9296,     0.92881,     0.92772,     0.92747,\n",
       "            0.92767,     0.92788,     0.92809,     0.92829,      0.9285,      0.9287,     0.92891,     0.92917,     0.92945,     0.92973,        0.93,     0.93028,     0.93055,       0.933,     0.93373,     0.93188,     0.93092,     0.93031,     0.93179,     0.93203,     0.93227,     0.93251,     0.93275,\n",
       "            0.93299,     0.93323,     0.93298,     0.93234,      0.9317,     0.93086,      0.9299,     0.92949,     0.92935,     0.92921,     0.92907,     0.92893,     0.92879,     0.92866,     0.92852,     0.92838,     0.92824,      0.9281,     0.92796,     0.92783,     0.92769,     0.92763,     0.92758,\n",
       "            0.92752,     0.92747,     0.92741,     0.92736,      0.9273,     0.92725,     0.92719,     0.92713,     0.92708,     0.92702,     0.92697,     0.92691,     0.92686,      0.9268,     0.92675,     0.92669,     0.92664,     0.92658,     0.92652,     0.92647,     0.92641,     0.92636,      0.9263,\n",
       "            0.92625,     0.92619,     0.92614,     0.92608,     0.92602,     0.92597,     0.92591,     0.92586,      0.9258,     0.92563,     0.92543,     0.92524,     0.92504,     0.92485,     0.92465,     0.92446,     0.92426,     0.92407,     0.92392,     0.92416,      0.9244,     0.92464,     0.92488,\n",
       "            0.92512,     0.92536,      0.9255,     0.92537,     0.92523,      0.9251,     0.92497,     0.92484,     0.92471,     0.92458,     0.92445,     0.92432,     0.92419,     0.92406,     0.92393,      0.9238,     0.92367,     0.92139,      0.9209,      0.9204,     0.91991,     0.92041,     0.92126,\n",
       "            0.92277,     0.92267,     0.92218,     0.92168,     0.92119,     0.92042,     0.91963,     0.91826,     0.91526,     0.91515,     0.91504,     0.91493,     0.91481,      0.9147,     0.91459,     0.91448,     0.91437,     0.91426,     0.91415,     0.91403,     0.91392,     0.91381,      0.9137,\n",
       "            0.91359,     0.91348,     0.91336,     0.91415,       0.915,      0.9149,      0.9148,     0.91469,     0.91459,     0.91448,     0.91437,     0.91427,     0.91416,     0.91406,     0.91395,     0.91384,     0.91374,     0.91363,     0.91353,     0.91342,     0.91331,     0.91321,      0.9131,\n",
       "            0.91213,      0.9101,     0.90889,     0.90848,     0.90807,     0.90766,     0.90726,     0.90848,     0.90802,     0.90757,     0.90711,     0.90667,     0.90626,     0.90585,     0.90544,     0.90503,     0.90447,     0.90365,     0.90282,     0.90086,     0.89976,     0.89872,     0.89616,\n",
       "            0.89564,     0.89512,     0.89461,     0.89429,     0.89397,     0.89364,     0.89332,       0.893,     0.89267,     0.89181,     0.89075,     0.88826,     0.88755,     0.88684,     0.88628,     0.88595,     0.88563,      0.8853,     0.88497,     0.88464,     0.88431,     0.88392,     0.88354,\n",
       "            0.88315,     0.88276,     0.88237,     0.88183,     0.88122,      0.8806,     0.87987,     0.87879,     0.87778,     0.87692,     0.87605,     0.87405,     0.87285,     0.87176,     0.86874,     0.86786,     0.86483,     0.86395,     0.86305,     0.86194,     0.85865,     0.85753,     0.85635,\n",
       "            0.85486,     0.85142,     0.85029,     0.84442,     0.84267,     0.84037,     0.83832,     0.83678,     0.83629,     0.83596,     0.83562,     0.83529,     0.83496,     0.83463,     0.83421,     0.82959,     0.82472,     0.82212,     0.82093,     0.81948,     0.81796,     0.81676,     0.81561,\n",
       "            0.81465,     0.81369,     0.80844,     0.80804,     0.80763,     0.80722,     0.80682,     0.80641,     0.80307,     0.80209,     0.79836,     0.79683,     0.79792,     0.79538,     0.79438,     0.79317,     0.79091,      0.7899,      0.7889,     0.78431,     0.77802,     0.77603,     0.77552,\n",
       "              0.775,     0.77449,     0.77397,     0.76901,     0.76484,     0.76353,     0.75652,     0.75597,     0.74936,     0.74672,     0.74491,     0.74254,     0.73607,     0.73538,     0.73469,       0.734,     0.73033,     0.72847,     0.72315,     0.72108,     0.71643,     0.71453,     0.71263,\n",
       "            0.70791,     0.70599,     0.70315,     0.70118,     0.69158,      0.6858,      0.6848,     0.68381,     0.68284,     0.68209,     0.68134,     0.68059,     0.67577,     0.66893,     0.66463,     0.66258,     0.65056,     0.64827,     0.64307,     0.64095,      0.6393,      0.6377,     0.63559,\n",
       "            0.63137,     0.62169,     0.61685,     0.61486,     0.61391,     0.61297,     0.60859,     0.60636,     0.60498,     0.60402,     0.60306,     0.60058,      0.5931,     0.59105,     0.58933,     0.58109,     0.57626,     0.57239,     0.56541,     0.55836,     0.55476,     0.55235,     0.54574,\n",
       "            0.53283,     0.52754,     0.51782,      0.5138,     0.51189,     0.50868,     0.49944,     0.49685,     0.47481,     0.46988,     0.46583,     0.45889,     0.45213,     0.44937,     0.44802,     0.44683,     0.44564,     0.44301,     0.43881,     0.42952,     0.42104,     0.41206,     0.40594,\n",
       "            0.39874,     0.38176,     0.37275,     0.36716,     0.36127,     0.34849,     0.33147,     0.32825,     0.32502,      0.3173,     0.31484,     0.31137,     0.30714,     0.30382,     0.29399,       0.279,     0.27558,     0.27118,     0.26369,     0.26107,     0.25733,     0.24243,     0.23707,\n",
       "             0.2252,     0.22023,     0.21748,     0.21516,     0.21295,     0.20481,     0.20108,     0.19294,     0.18493,     0.18194,     0.17965,     0.17004,     0.16125,     0.14947,     0.14087,     0.13487,     0.12586,     0.12046,     0.11924,     0.11801,     0.11678,     0.11555,     0.11356,\n",
       "            0.10945,     0.10531,    0.094341,    0.089814,    0.088409,    0.087002,    0.085593,    0.084182,    0.081048,    0.077653,    0.069943,    0.066713,    0.052477,    0.050834,    0.049188,    0.047539,     0.04557,    0.042258,    0.039415,    0.038083,    0.036749,    0.035413,    0.034076,\n",
       "           0.032528,    0.030611,    0.028691,    0.026766,    0.025601,    0.024475,    0.023348,     0.02222,     0.02109,    0.019999,    0.019284,    0.018569,    0.017853,    0.017137,     0.01642,    0.015703,    0.014985,    0.014266,    0.013547,    0.013172,    0.012868,    0.012564,     0.01226,\n",
       "           0.011956,    0.011652,    0.011347,    0.011043,    0.010739,    0.010434,    0.010129,   0.0098246,   0.0095197,   0.0092148,   0.0089098,   0.0086046,   0.0082994,   0.0079941,   0.0076887,   0.0073832,   0.0070776,   0.0067719,           0,           0,           0,           0,           0,\n",
       "                  0,           0,           0,           0,           0,           0,           0,           0,           0,           0,           0,           0,           0,           0,           0,           0,           0,           0,           0,           0,           0,           0,           0,\n",
       "                  0,           0,           0,           0,           0,           0,           0,           0,           0,           0,           0,           0,           0,           0,           0,           0,           0,           0,           0,           0,           0,           0,           0,\n",
       "                  0,           0,           0,           0,           0,           0,           0,           0,           0,           0,           0,           0,           0,           0,           0,           0,           0,           0,           0,           0,           0,           0,           0,\n",
       "                  0,           0,           0,           0,           0,           0,           0,           0,           0,           0,           0]]), 'Confidence', 'F1'], [array([          0,    0.001001,    0.002002,    0.003003,    0.004004,    0.005005,    0.006006,    0.007007,    0.008008,    0.009009,     0.01001,    0.011011,    0.012012,    0.013013,    0.014014,    0.015015,    0.016016,    0.017017,    0.018018,    0.019019,     0.02002,    0.021021,    0.022022,    0.023023,\n",
       "          0.024024,    0.025025,    0.026026,    0.027027,    0.028028,    0.029029,     0.03003,    0.031031,    0.032032,    0.033033,    0.034034,    0.035035,    0.036036,    0.037037,    0.038038,    0.039039,     0.04004,    0.041041,    0.042042,    0.043043,    0.044044,    0.045045,    0.046046,    0.047047,\n",
       "          0.048048,    0.049049,     0.05005,    0.051051,    0.052052,    0.053053,    0.054054,    0.055055,    0.056056,    0.057057,    0.058058,    0.059059,     0.06006,    0.061061,    0.062062,    0.063063,    0.064064,    0.065065,    0.066066,    0.067067,    0.068068,    0.069069,     0.07007,    0.071071,\n",
       "          0.072072,    0.073073,    0.074074,    0.075075,    0.076076,    0.077077,    0.078078,    0.079079,     0.08008,    0.081081,    0.082082,    0.083083,    0.084084,    0.085085,    0.086086,    0.087087,    0.088088,    0.089089,     0.09009,    0.091091,    0.092092,    0.093093,    0.094094,    0.095095,\n",
       "          0.096096,    0.097097,    0.098098,    0.099099,      0.1001,      0.1011,      0.1021,      0.1031,      0.1041,     0.10511,     0.10611,     0.10711,     0.10811,     0.10911,     0.11011,     0.11111,     0.11211,     0.11311,     0.11411,     0.11512,     0.11612,     0.11712,     0.11812,     0.11912,\n",
       "           0.12012,     0.12112,     0.12212,     0.12312,     0.12412,     0.12513,     0.12613,     0.12713,     0.12813,     0.12913,     0.13013,     0.13113,     0.13213,     0.13313,     0.13413,     0.13514,     0.13614,     0.13714,     0.13814,     0.13914,     0.14014,     0.14114,     0.14214,     0.14314,\n",
       "           0.14414,     0.14515,     0.14615,     0.14715,     0.14815,     0.14915,     0.15015,     0.15115,     0.15215,     0.15315,     0.15415,     0.15516,     0.15616,     0.15716,     0.15816,     0.15916,     0.16016,     0.16116,     0.16216,     0.16316,     0.16416,     0.16517,     0.16617,     0.16717,\n",
       "           0.16817,     0.16917,     0.17017,     0.17117,     0.17217,     0.17317,     0.17417,     0.17518,     0.17618,     0.17718,     0.17818,     0.17918,     0.18018,     0.18118,     0.18218,     0.18318,     0.18418,     0.18519,     0.18619,     0.18719,     0.18819,     0.18919,     0.19019,     0.19119,\n",
       "           0.19219,     0.19319,     0.19419,      0.1952,      0.1962,      0.1972,      0.1982,      0.1992,      0.2002,      0.2012,      0.2022,      0.2032,      0.2042,     0.20521,     0.20621,     0.20721,     0.20821,     0.20921,     0.21021,     0.21121,     0.21221,     0.21321,     0.21421,     0.21522,\n",
       "           0.21622,     0.21722,     0.21822,     0.21922,     0.22022,     0.22122,     0.22222,     0.22322,     0.22422,     0.22523,     0.22623,     0.22723,     0.22823,     0.22923,     0.23023,     0.23123,     0.23223,     0.23323,     0.23423,     0.23524,     0.23624,     0.23724,     0.23824,     0.23924,\n",
       "           0.24024,     0.24124,     0.24224,     0.24324,     0.24424,     0.24525,     0.24625,     0.24725,     0.24825,     0.24925,     0.25025,     0.25125,     0.25225,     0.25325,     0.25425,     0.25526,     0.25626,     0.25726,     0.25826,     0.25926,     0.26026,     0.26126,     0.26226,     0.26326,\n",
       "           0.26426,     0.26527,     0.26627,     0.26727,     0.26827,     0.26927,     0.27027,     0.27127,     0.27227,     0.27327,     0.27427,     0.27528,     0.27628,     0.27728,     0.27828,     0.27928,     0.28028,     0.28128,     0.28228,     0.28328,     0.28428,     0.28529,     0.28629,     0.28729,\n",
       "           0.28829,     0.28929,     0.29029,     0.29129,     0.29229,     0.29329,     0.29429,      0.2953,      0.2963,      0.2973,      0.2983,      0.2993,      0.3003,      0.3013,      0.3023,      0.3033,      0.3043,     0.30531,     0.30631,     0.30731,     0.30831,     0.30931,     0.31031,     0.31131,\n",
       "           0.31231,     0.31331,     0.31431,     0.31532,     0.31632,     0.31732,     0.31832,     0.31932,     0.32032,     0.32132,     0.32232,     0.32332,     0.32432,     0.32533,     0.32633,     0.32733,     0.32833,     0.32933,     0.33033,     0.33133,     0.33233,     0.33333,     0.33433,     0.33534,\n",
       "           0.33634,     0.33734,     0.33834,     0.33934,     0.34034,     0.34134,     0.34234,     0.34334,     0.34434,     0.34535,     0.34635,     0.34735,     0.34835,     0.34935,     0.35035,     0.35135,     0.35235,     0.35335,     0.35435,     0.35536,     0.35636,     0.35736,     0.35836,     0.35936,\n",
       "           0.36036,     0.36136,     0.36236,     0.36336,     0.36436,     0.36537,     0.36637,     0.36737,     0.36837,     0.36937,     0.37037,     0.37137,     0.37237,     0.37337,     0.37437,     0.37538,     0.37638,     0.37738,     0.37838,     0.37938,     0.38038,     0.38138,     0.38238,     0.38338,\n",
       "           0.38438,     0.38539,     0.38639,     0.38739,     0.38839,     0.38939,     0.39039,     0.39139,     0.39239,     0.39339,     0.39439,      0.3954,      0.3964,      0.3974,      0.3984,      0.3994,      0.4004,      0.4014,      0.4024,      0.4034,      0.4044,     0.40541,     0.40641,     0.40741,\n",
       "           0.40841,     0.40941,     0.41041,     0.41141,     0.41241,     0.41341,     0.41441,     0.41542,     0.41642,     0.41742,     0.41842,     0.41942,     0.42042,     0.42142,     0.42242,     0.42342,     0.42442,     0.42543,     0.42643,     0.42743,     0.42843,     0.42943,     0.43043,     0.43143,\n",
       "           0.43243,     0.43343,     0.43443,     0.43544,     0.43644,     0.43744,     0.43844,     0.43944,     0.44044,     0.44144,     0.44244,     0.44344,     0.44444,     0.44545,     0.44645,     0.44745,     0.44845,     0.44945,     0.45045,     0.45145,     0.45245,     0.45345,     0.45445,     0.45546,\n",
       "           0.45646,     0.45746,     0.45846,     0.45946,     0.46046,     0.46146,     0.46246,     0.46346,     0.46446,     0.46547,     0.46647,     0.46747,     0.46847,     0.46947,     0.47047,     0.47147,     0.47247,     0.47347,     0.47447,     0.47548,     0.47648,     0.47748,     0.47848,     0.47948,\n",
       "           0.48048,     0.48148,     0.48248,     0.48348,     0.48448,     0.48549,     0.48649,     0.48749,     0.48849,     0.48949,     0.49049,     0.49149,     0.49249,     0.49349,     0.49449,      0.4955,      0.4965,      0.4975,      0.4985,      0.4995,      0.5005,      0.5015,      0.5025,      0.5035,\n",
       "            0.5045,     0.50551,     0.50651,     0.50751,     0.50851,     0.50951,     0.51051,     0.51151,     0.51251,     0.51351,     0.51451,     0.51552,     0.51652,     0.51752,     0.51852,     0.51952,     0.52052,     0.52152,     0.52252,     0.52352,     0.52452,     0.52553,     0.52653,     0.52753,\n",
       "           0.52853,     0.52953,     0.53053,     0.53153,     0.53253,     0.53353,     0.53453,     0.53554,     0.53654,     0.53754,     0.53854,     0.53954,     0.54054,     0.54154,     0.54254,     0.54354,     0.54454,     0.54555,     0.54655,     0.54755,     0.54855,     0.54955,     0.55055,     0.55155,\n",
       "           0.55255,     0.55355,     0.55455,     0.55556,     0.55656,     0.55756,     0.55856,     0.55956,     0.56056,     0.56156,     0.56256,     0.56356,     0.56456,     0.56557,     0.56657,     0.56757,     0.56857,     0.56957,     0.57057,     0.57157,     0.57257,     0.57357,     0.57457,     0.57558,\n",
       "           0.57658,     0.57758,     0.57858,     0.57958,     0.58058,     0.58158,     0.58258,     0.58358,     0.58458,     0.58559,     0.58659,     0.58759,     0.58859,     0.58959,     0.59059,     0.59159,     0.59259,     0.59359,     0.59459,      0.5956,      0.5966,      0.5976,      0.5986,      0.5996,\n",
       "            0.6006,      0.6016,      0.6026,      0.6036,      0.6046,     0.60561,     0.60661,     0.60761,     0.60861,     0.60961,     0.61061,     0.61161,     0.61261,     0.61361,     0.61461,     0.61562,     0.61662,     0.61762,     0.61862,     0.61962,     0.62062,     0.62162,     0.62262,     0.62362,\n",
       "           0.62462,     0.62563,     0.62663,     0.62763,     0.62863,     0.62963,     0.63063,     0.63163,     0.63263,     0.63363,     0.63463,     0.63564,     0.63664,     0.63764,     0.63864,     0.63964,     0.64064,     0.64164,     0.64264,     0.64364,     0.64464,     0.64565,     0.64665,     0.64765,\n",
       "           0.64865,     0.64965,     0.65065,     0.65165,     0.65265,     0.65365,     0.65465,     0.65566,     0.65666,     0.65766,     0.65866,     0.65966,     0.66066,     0.66166,     0.66266,     0.66366,     0.66466,     0.66567,     0.66667,     0.66767,     0.66867,     0.66967,     0.67067,     0.67167,\n",
       "           0.67267,     0.67367,     0.67467,     0.67568,     0.67668,     0.67768,     0.67868,     0.67968,     0.68068,     0.68168,     0.68268,     0.68368,     0.68468,     0.68569,     0.68669,     0.68769,     0.68869,     0.68969,     0.69069,     0.69169,     0.69269,     0.69369,     0.69469,      0.6957,\n",
       "            0.6967,      0.6977,      0.6987,      0.6997,      0.7007,      0.7017,      0.7027,      0.7037,      0.7047,     0.70571,     0.70671,     0.70771,     0.70871,     0.70971,     0.71071,     0.71171,     0.71271,     0.71371,     0.71471,     0.71572,     0.71672,     0.71772,     0.71872,     0.71972,\n",
       "           0.72072,     0.72172,     0.72272,     0.72372,     0.72472,     0.72573,     0.72673,     0.72773,     0.72873,     0.72973,     0.73073,     0.73173,     0.73273,     0.73373,     0.73473,     0.73574,     0.73674,     0.73774,     0.73874,     0.73974,     0.74074,     0.74174,     0.74274,     0.74374,\n",
       "           0.74474,     0.74575,     0.74675,     0.74775,     0.74875,     0.74975,     0.75075,     0.75175,     0.75275,     0.75375,     0.75475,     0.75576,     0.75676,     0.75776,     0.75876,     0.75976,     0.76076,     0.76176,     0.76276,     0.76376,     0.76476,     0.76577,     0.76677,     0.76777,\n",
       "           0.76877,     0.76977,     0.77077,     0.77177,     0.77277,     0.77377,     0.77477,     0.77578,     0.77678,     0.77778,     0.77878,     0.77978,     0.78078,     0.78178,     0.78278,     0.78378,     0.78478,     0.78579,     0.78679,     0.78779,     0.78879,     0.78979,     0.79079,     0.79179,\n",
       "           0.79279,     0.79379,     0.79479,      0.7958,      0.7968,      0.7978,      0.7988,      0.7998,      0.8008,      0.8018,      0.8028,      0.8038,      0.8048,     0.80581,     0.80681,     0.80781,     0.80881,     0.80981,     0.81081,     0.81181,     0.81281,     0.81381,     0.81481,     0.81582,\n",
       "           0.81682,     0.81782,     0.81882,     0.81982,     0.82082,     0.82182,     0.82282,     0.82382,     0.82482,     0.82583,     0.82683,     0.82783,     0.82883,     0.82983,     0.83083,     0.83183,     0.83283,     0.83383,     0.83483,     0.83584,     0.83684,     0.83784,     0.83884,     0.83984,\n",
       "           0.84084,     0.84184,     0.84284,     0.84384,     0.84484,     0.84585,     0.84685,     0.84785,     0.84885,     0.84985,     0.85085,     0.85185,     0.85285,     0.85385,     0.85485,     0.85586,     0.85686,     0.85786,     0.85886,     0.85986,     0.86086,     0.86186,     0.86286,     0.86386,\n",
       "           0.86486,     0.86587,     0.86687,     0.86787,     0.86887,     0.86987,     0.87087,     0.87187,     0.87287,     0.87387,     0.87487,     0.87588,     0.87688,     0.87788,     0.87888,     0.87988,     0.88088,     0.88188,     0.88288,     0.88388,     0.88488,     0.88589,     0.88689,     0.88789,\n",
       "           0.88889,     0.88989,     0.89089,     0.89189,     0.89289,     0.89389,     0.89489,      0.8959,      0.8969,      0.8979,      0.8989,      0.8999,      0.9009,      0.9019,      0.9029,      0.9039,      0.9049,     0.90591,     0.90691,     0.90791,     0.90891,     0.90991,     0.91091,     0.91191,\n",
       "           0.91291,     0.91391,     0.91491,     0.91592,     0.91692,     0.91792,     0.91892,     0.91992,     0.92092,     0.92192,     0.92292,     0.92392,     0.92492,     0.92593,     0.92693,     0.92793,     0.92893,     0.92993,     0.93093,     0.93193,     0.93293,     0.93393,     0.93493,     0.93594,\n",
       "           0.93694,     0.93794,     0.93894,     0.93994,     0.94094,     0.94194,     0.94294,     0.94394,     0.94494,     0.94595,     0.94695,     0.94795,     0.94895,     0.94995,     0.95095,     0.95195,     0.95295,     0.95395,     0.95495,     0.95596,     0.95696,     0.95796,     0.95896,     0.95996,\n",
       "           0.96096,     0.96196,     0.96296,     0.96396,     0.96496,     0.96597,     0.96697,     0.96797,     0.96897,     0.96997,     0.97097,     0.97197,     0.97297,     0.97397,     0.97497,     0.97598,     0.97698,     0.97798,     0.97898,     0.97998,     0.98098,     0.98198,     0.98298,     0.98398,\n",
       "           0.98498,     0.98599,     0.98699,     0.98799,     0.98899,     0.98999,     0.99099,     0.99199,     0.99299,     0.99399,     0.99499,       0.996,       0.997,       0.998,       0.999,           1]), array([[    0.15401,     0.15401,     0.23835,     0.29361,     0.33252,     0.36845,       0.404,     0.42378,     0.44595,     0.46353,     0.48173,     0.50203,     0.52088,     0.53473,     0.54855,     0.56071,     0.56867,     0.57673,     0.58639,     0.59624,     0.61526,     0.62437,     0.62733,\n",
       "            0.63699,     0.64061,     0.64684,     0.65309,     0.66034,     0.66579,     0.66961,     0.67254,     0.67786,      0.6804,     0.68414,     0.69652,     0.69932,     0.70577,     0.70851,     0.71846,     0.72293,     0.72667,     0.73069,     0.73175,     0.73288,     0.73419,     0.73928,\n",
       "            0.74213,     0.74306,     0.74399,     0.74312,     0.74284,     0.74412,     0.75299,     0.75451,     0.75806,     0.75861,     0.75838,     0.75815,     0.76275,     0.76355,     0.76436,     0.76581,     0.76844,     0.77092,     0.77246,     0.77353,      0.7753,     0.77782,     0.77946,\n",
       "            0.78096,     0.78268,     0.78366,      0.7844,     0.78514,     0.78575,     0.78632,     0.78689,     0.78746,     0.79439,     0.79804,     0.80116,     0.80238,      0.8061,     0.80833,     0.80907,     0.80982,     0.81084,     0.81332,     0.81427,     0.81523,     0.81605,     0.81687,\n",
       "            0.81832,      0.8205,       0.821,      0.8215,     0.82201,     0.82254,     0.82354,     0.82454,     0.82587,     0.82774,     0.83083,       0.832,     0.83308,     0.83413,     0.83479,     0.83464,     0.83449,     0.83434,     0.83738,     0.83804,      0.8387,     0.83936,     0.84007,\n",
       "            0.84078,     0.84149,     0.84223,     0.84302,     0.84382,     0.84454,     0.84478,     0.84501,     0.84525,     0.84548,     0.84572,     0.84595,     0.84619,     0.84642,     0.84666,     0.84689,     0.84725,     0.84832,     0.84938,     0.85003,     0.85051,     0.85098,     0.85146,\n",
       "            0.85194,     0.85239,     0.85275,     0.85312,     0.85349,     0.85385,     0.85422,     0.85458,     0.85494,     0.85483,     0.85472,     0.85461,      0.8545,      0.8548,     0.85516,     0.85552,     0.85587,     0.85623,     0.85659,     0.85694,     0.85795,     0.85978,     0.86071,\n",
       "            0.86163,      0.8625,     0.86246,     0.86242,     0.86238,     0.86234,     0.86231,     0.86227,     0.86223,     0.86219,     0.86215,     0.86211,     0.86208,     0.86287,     0.86384,     0.86475,     0.86444,      0.8646,     0.86476,     0.86492,     0.86508,     0.86524,      0.8654,\n",
       "            0.86556,     0.86572,     0.86588,     0.86604,      0.8662,     0.86636,     0.86652,     0.86668,     0.86684,       0.867,     0.86841,     0.87077,     0.87263,     0.87321,      0.8738,     0.87439,     0.87497,     0.87552,     0.87594,     0.87637,     0.87679,     0.87722,     0.87765,\n",
       "            0.87807,     0.87875,     0.87955,     0.88035,     0.88111,     0.88165,      0.8822,     0.88274,     0.88328,     0.88382,     0.88413,     0.88441,     0.88469,     0.88498,     0.88526,     0.88554,     0.88582,     0.88611,     0.88639,     0.88667,     0.88747,     0.88842,     0.88936,\n",
       "            0.88959,     0.88955,     0.88952,     0.88949,     0.88946,     0.88943,     0.88939,     0.88936,     0.88933,      0.8893,     0.88927,     0.89423,     0.89614,     0.89748,     0.89798,      0.8979,     0.89783,     0.89775,     0.89778,     0.89823,     0.89868,     0.89913,     0.89959,\n",
       "            0.90004,     0.90049,     0.90064,      0.9006,     0.90056,     0.90052,     0.90048,     0.90044,      0.9004,     0.90036,     0.90047,     0.90091,     0.90135,     0.90179,     0.90223,     0.90267,     0.90311,      0.9035,     0.90385,     0.90419,     0.90454,     0.90488,     0.90522,\n",
       "            0.90557,     0.90591,     0.90626,     0.90662,     0.90698,     0.90735,     0.90772,     0.90808,     0.90845,     0.90882,     0.90918,     0.91072,     0.91253,      0.9127,     0.91287,     0.91304,     0.91321,     0.91338,     0.91354,     0.91371,     0.91388,     0.91405,     0.91422,\n",
       "            0.91439,     0.91456,     0.91472,     0.91489,     0.91506,     0.91523,      0.9154,     0.91566,      0.9164,     0.91715,      0.9179,     0.91865,     0.91932,        0.92,     0.92067,     0.92135,     0.92225,     0.92354,     0.92483,     0.92513,     0.92536,      0.9256,     0.92583,\n",
       "            0.92606,     0.92629,     0.92652,     0.92675,     0.92699,     0.92722,     0.92745,     0.92768,     0.92791,     0.92816,     0.92844,     0.92872,     0.92899,     0.92927,     0.92955,     0.92983,     0.93011,     0.93038,     0.93066,     0.93094,     0.93122,     0.93167,     0.93216,\n",
       "            0.93264,     0.93313,     0.93362,     0.93411,     0.93452,     0.93466,     0.93481,     0.93496,     0.93511,     0.93525,      0.9354,     0.93555,     0.93569,     0.93584,     0.93599,     0.93614,     0.93628,     0.93643,     0.93658,     0.93673,     0.93687,     0.93702,     0.93717,\n",
       "            0.93732,     0.93746,     0.93761,     0.93769,     0.93761,     0.93753,     0.93803,     0.93892,     0.93982,     0.94071,     0.94132,      0.9419,     0.94249,     0.94307,     0.94366,     0.94408,     0.94417,     0.94426,     0.94434,     0.94443,     0.94451,      0.9446,     0.94469,\n",
       "            0.94477,     0.94486,     0.94494,     0.94503,     0.94512,      0.9452,     0.94529,     0.94537,     0.94546,     0.94555,     0.94563,     0.94572,      0.9458,     0.94589,     0.94598,     0.94606,     0.94615,     0.94623,     0.94632,      0.9464,     0.94649,     0.94658,     0.94666,\n",
       "            0.94675,     0.94683,     0.94692,     0.94701,     0.94709,     0.94718,     0.94726,     0.94735,     0.94765,       0.948,     0.94835,      0.9487,     0.94905,      0.9494,     0.94975,      0.9501,     0.95045,     0.95069,     0.95063,     0.95057,     0.95049,     0.95039,     0.95063,\n",
       "            0.95107,      0.9515,     0.95193,     0.95237,      0.9528,     0.95323,     0.95367,     0.95423,     0.95481,     0.95539,     0.95597,     0.95655,     0.95714,     0.96232,     0.96402,     0.96389,     0.96383,     0.96429,     0.96747,     0.96798,      0.9685,     0.96902,     0.96954,\n",
       "            0.97005,     0.97057,     0.97078,     0.97075,     0.97071,     0.97066,     0.97061,     0.97058,     0.97057,     0.97057,     0.97056,     0.97055,     0.97054,     0.97054,     0.97053,     0.97052,     0.97051,      0.9705,      0.9705,     0.97049,     0.97048,     0.97048,     0.97047,\n",
       "            0.97047,     0.97047,     0.97046,     0.97046,     0.97046,     0.97045,     0.97045,     0.97045,     0.97044,     0.97044,     0.97044,     0.97043,     0.97043,     0.97043,     0.97043,     0.97042,     0.97042,     0.97042,     0.97041,     0.97041,     0.97041,      0.9704,      0.9704,\n",
       "             0.9704,     0.97039,     0.97039,     0.97039,     0.97038,     0.97038,     0.97038,     0.97037,     0.97037,     0.97036,     0.97035,     0.97034,     0.97033,     0.97032,      0.9703,     0.97029,     0.97028,     0.97027,     0.97032,     0.97085,     0.97138,     0.97191,     0.97244,\n",
       "            0.97297,      0.9735,     0.97388,     0.97387,     0.97387,     0.97386,     0.97385,     0.97385,     0.97384,     0.97383,     0.97383,     0.97382,     0.97381,     0.97381,      0.9738,     0.97379,     0.97379,     0.97367,     0.97364,     0.97362,     0.97359,     0.97499,     0.97688,\n",
       "             0.9803,     0.98097,     0.98095,     0.98094,     0.98092,     0.98089,     0.98086,     0.98081,     0.98069,     0.98069,     0.98068,     0.98068,     0.98068,     0.98067,     0.98067,     0.98066,     0.98066,     0.98065,     0.98065,     0.98065,     0.98064,     0.98064,     0.98063,\n",
       "            0.98063,     0.98062,     0.98062,     0.98246,     0.98442,     0.98443,     0.98443,     0.98443,     0.98442,     0.98442,     0.98442,     0.98441,     0.98441,     0.98441,      0.9844,      0.9844,      0.9844,     0.98439,     0.98439,     0.98439,     0.98438,     0.98438,     0.98438,\n",
       "            0.98435,     0.98428,     0.98425,     0.98423,     0.98422,     0.98421,     0.98419,     0.98809,     0.98808,     0.98807,     0.98806,     0.98805,     0.98804,     0.98803,     0.98802,     0.98801,     0.98799,     0.98797,     0.98795,     0.98791,     0.98788,     0.98785,     0.98779,\n",
       "            0.98778,     0.98777,     0.98775,     0.98775,     0.98774,     0.98773,     0.98772,     0.98771,     0.98771,     0.98769,     0.98766,      0.9876,     0.98758,     0.98756,     0.98755,     0.98754,     0.98753,     0.98752,     0.98752,     0.98751,      0.9875,     0.98749,     0.98748,\n",
       "            0.98747,     0.98746,     0.98745,     0.98744,     0.98742,     0.98741,     0.98739,     0.98736,     0.98733,     0.98731,     0.98729,     0.98724,     0.98721,     0.98718,      0.9871,     0.98708,       0.987,     0.98698,     0.98695,     0.98693,     0.98684,     0.98681,     0.98678,\n",
       "            0.98674,     0.98665,     0.98661,     0.98646,     0.98641,     0.98634,     0.98629,     0.98624,     0.98623,     0.98622,     0.98621,      0.9862,     0.98619,     0.98618,     0.98617,     0.98604,      0.9859,     0.98583,     0.98579,     0.98575,     0.98571,     0.98567,     0.98564,\n",
       "            0.98561,     0.98558,     0.98543,     0.98542,      0.9854,     0.98539,     0.98538,     0.98537,     0.98527,     0.98524,     0.98512,     0.98521,     0.98858,     0.98994,     0.98992,     0.98989,     0.98984,     0.98982,      0.9898,      0.9897,     0.98957,     0.98953,     0.98951,\n",
       "             0.9895,     0.98949,     0.98948,     0.98937,     0.98928,     0.98925,     0.99175,     0.99449,     0.99441,     0.99438,     0.99436,     0.99433,     0.99425,     0.99424,     0.99423,     0.99423,     0.99418,     0.99416,     0.99409,     0.99406,       0.994,     0.99398,     0.99395,\n",
       "            0.99389,     0.99387,     0.99383,      0.9938,     0.99367,     0.99359,     0.99358,     0.99356,     0.99355,     0.99354,     0.99353,     0.99351,     0.99345,     0.99334,     0.99328,     0.99325,     0.99306,     0.99303,     0.99295,     0.99291,     0.99288,     0.99286,     0.99282,\n",
       "            0.99275,     0.99259,     0.99251,     0.99247,     0.99246,     0.99244,     0.99236,     0.99232,      0.9923,     0.99228,     0.99226,     0.99222,     0.99208,     0.99204,       0.992,     0.99185,     0.99175,     0.99167,     0.99153,     0.99138,      0.9913,     0.99125,     0.99111,\n",
       "            0.99081,     0.99069,     0.99045,     0.99035,     0.99031,     0.99023,     0.98999,     0.98992,      0.9893,     0.98915,     0.98903,     0.98882,      0.9886,     0.98851,     0.98847,     0.98843,     0.98839,      0.9883,     0.98816,           1,           1,           1,           1,\n",
       "                  1,           1,           1,           1,           1,           1,           1,           1,           1,           1,           1,           1,           1,           1,           1,           1,           1,           1,           1,           1,           1,           1,           1,\n",
       "                  1,           1,           1,           1,           1,           1,           1,           1,           1,           1,           1,           1,           1,           1,           1,           1,           1,           1,           1,           1,           1,           1,           1,\n",
       "                  1,           1,           1,           1,           1,           1,           1,           1,           1,           1,           1,           1,           1,           1,           1,           1,           1,           1,           1,           1,           1,           1,           1,\n",
       "                  1,           1,           1,           1,           1,           1,           1,           1,           1,           1,           1,           1,           1,           1,           1,           1,           1,           1,           1,           1,           1,           1,           1,\n",
       "                  1,           1,           1,           1,           1,           1,           1,           1,           1,           1,           1,           1,           1,           1,           1,           1,           1,           1,           1,           1,           1,           1,           1,\n",
       "                  1,           1,           1,           1,           1,           1,           1,           1,           1,           1,           1,           1,           1,           1,           1,           1,           1,           1,           1,           1,           1,           1,           1,\n",
       "                  1,           1,           1,           1,           1,           1,           1,           1,           1,           1,           1,           1,           1,           1,           1,           1,           1,           1,           1,           1,           1,           1,           1,\n",
       "                  1,           1,           1,           1,           1,           1,           1,           1,           1,           1,           1,           1,           1,           1,           1,           1,           1,           1,           1,           1,           1,           1,           1,\n",
       "                  1,           1,           1,           1,           1,           1,           1,           1,           1,           1,           1]]), 'Confidence', 'Precision'], [array([          0,    0.001001,    0.002002,    0.003003,    0.004004,    0.005005,    0.006006,    0.007007,    0.008008,    0.009009,     0.01001,    0.011011,    0.012012,    0.013013,    0.014014,    0.015015,    0.016016,    0.017017,    0.018018,    0.019019,     0.02002,    0.021021,    0.022022,    0.023023,\n",
       "          0.024024,    0.025025,    0.026026,    0.027027,    0.028028,    0.029029,     0.03003,    0.031031,    0.032032,    0.033033,    0.034034,    0.035035,    0.036036,    0.037037,    0.038038,    0.039039,     0.04004,    0.041041,    0.042042,    0.043043,    0.044044,    0.045045,    0.046046,    0.047047,\n",
       "          0.048048,    0.049049,     0.05005,    0.051051,    0.052052,    0.053053,    0.054054,    0.055055,    0.056056,    0.057057,    0.058058,    0.059059,     0.06006,    0.061061,    0.062062,    0.063063,    0.064064,    0.065065,    0.066066,    0.067067,    0.068068,    0.069069,     0.07007,    0.071071,\n",
       "          0.072072,    0.073073,    0.074074,    0.075075,    0.076076,    0.077077,    0.078078,    0.079079,     0.08008,    0.081081,    0.082082,    0.083083,    0.084084,    0.085085,    0.086086,    0.087087,    0.088088,    0.089089,     0.09009,    0.091091,    0.092092,    0.093093,    0.094094,    0.095095,\n",
       "          0.096096,    0.097097,    0.098098,    0.099099,      0.1001,      0.1011,      0.1021,      0.1031,      0.1041,     0.10511,     0.10611,     0.10711,     0.10811,     0.10911,     0.11011,     0.11111,     0.11211,     0.11311,     0.11411,     0.11512,     0.11612,     0.11712,     0.11812,     0.11912,\n",
       "           0.12012,     0.12112,     0.12212,     0.12312,     0.12412,     0.12513,     0.12613,     0.12713,     0.12813,     0.12913,     0.13013,     0.13113,     0.13213,     0.13313,     0.13413,     0.13514,     0.13614,     0.13714,     0.13814,     0.13914,     0.14014,     0.14114,     0.14214,     0.14314,\n",
       "           0.14414,     0.14515,     0.14615,     0.14715,     0.14815,     0.14915,     0.15015,     0.15115,     0.15215,     0.15315,     0.15415,     0.15516,     0.15616,     0.15716,     0.15816,     0.15916,     0.16016,     0.16116,     0.16216,     0.16316,     0.16416,     0.16517,     0.16617,     0.16717,\n",
       "           0.16817,     0.16917,     0.17017,     0.17117,     0.17217,     0.17317,     0.17417,     0.17518,     0.17618,     0.17718,     0.17818,     0.17918,     0.18018,     0.18118,     0.18218,     0.18318,     0.18418,     0.18519,     0.18619,     0.18719,     0.18819,     0.18919,     0.19019,     0.19119,\n",
       "           0.19219,     0.19319,     0.19419,      0.1952,      0.1962,      0.1972,      0.1982,      0.1992,      0.2002,      0.2012,      0.2022,      0.2032,      0.2042,     0.20521,     0.20621,     0.20721,     0.20821,     0.20921,     0.21021,     0.21121,     0.21221,     0.21321,     0.21421,     0.21522,\n",
       "           0.21622,     0.21722,     0.21822,     0.21922,     0.22022,     0.22122,     0.22222,     0.22322,     0.22422,     0.22523,     0.22623,     0.22723,     0.22823,     0.22923,     0.23023,     0.23123,     0.23223,     0.23323,     0.23423,     0.23524,     0.23624,     0.23724,     0.23824,     0.23924,\n",
       "           0.24024,     0.24124,     0.24224,     0.24324,     0.24424,     0.24525,     0.24625,     0.24725,     0.24825,     0.24925,     0.25025,     0.25125,     0.25225,     0.25325,     0.25425,     0.25526,     0.25626,     0.25726,     0.25826,     0.25926,     0.26026,     0.26126,     0.26226,     0.26326,\n",
       "           0.26426,     0.26527,     0.26627,     0.26727,     0.26827,     0.26927,     0.27027,     0.27127,     0.27227,     0.27327,     0.27427,     0.27528,     0.27628,     0.27728,     0.27828,     0.27928,     0.28028,     0.28128,     0.28228,     0.28328,     0.28428,     0.28529,     0.28629,     0.28729,\n",
       "           0.28829,     0.28929,     0.29029,     0.29129,     0.29229,     0.29329,     0.29429,      0.2953,      0.2963,      0.2973,      0.2983,      0.2993,      0.3003,      0.3013,      0.3023,      0.3033,      0.3043,     0.30531,     0.30631,     0.30731,     0.30831,     0.30931,     0.31031,     0.31131,\n",
       "           0.31231,     0.31331,     0.31431,     0.31532,     0.31632,     0.31732,     0.31832,     0.31932,     0.32032,     0.32132,     0.32232,     0.32332,     0.32432,     0.32533,     0.32633,     0.32733,     0.32833,     0.32933,     0.33033,     0.33133,     0.33233,     0.33333,     0.33433,     0.33534,\n",
       "           0.33634,     0.33734,     0.33834,     0.33934,     0.34034,     0.34134,     0.34234,     0.34334,     0.34434,     0.34535,     0.34635,     0.34735,     0.34835,     0.34935,     0.35035,     0.35135,     0.35235,     0.35335,     0.35435,     0.35536,     0.35636,     0.35736,     0.35836,     0.35936,\n",
       "           0.36036,     0.36136,     0.36236,     0.36336,     0.36436,     0.36537,     0.36637,     0.36737,     0.36837,     0.36937,     0.37037,     0.37137,     0.37237,     0.37337,     0.37437,     0.37538,     0.37638,     0.37738,     0.37838,     0.37938,     0.38038,     0.38138,     0.38238,     0.38338,\n",
       "           0.38438,     0.38539,     0.38639,     0.38739,     0.38839,     0.38939,     0.39039,     0.39139,     0.39239,     0.39339,     0.39439,      0.3954,      0.3964,      0.3974,      0.3984,      0.3994,      0.4004,      0.4014,      0.4024,      0.4034,      0.4044,     0.40541,     0.40641,     0.40741,\n",
       "           0.40841,     0.40941,     0.41041,     0.41141,     0.41241,     0.41341,     0.41441,     0.41542,     0.41642,     0.41742,     0.41842,     0.41942,     0.42042,     0.42142,     0.42242,     0.42342,     0.42442,     0.42543,     0.42643,     0.42743,     0.42843,     0.42943,     0.43043,     0.43143,\n",
       "           0.43243,     0.43343,     0.43443,     0.43544,     0.43644,     0.43744,     0.43844,     0.43944,     0.44044,     0.44144,     0.44244,     0.44344,     0.44444,     0.44545,     0.44645,     0.44745,     0.44845,     0.44945,     0.45045,     0.45145,     0.45245,     0.45345,     0.45445,     0.45546,\n",
       "           0.45646,     0.45746,     0.45846,     0.45946,     0.46046,     0.46146,     0.46246,     0.46346,     0.46446,     0.46547,     0.46647,     0.46747,     0.46847,     0.46947,     0.47047,     0.47147,     0.47247,     0.47347,     0.47447,     0.47548,     0.47648,     0.47748,     0.47848,     0.47948,\n",
       "           0.48048,     0.48148,     0.48248,     0.48348,     0.48448,     0.48549,     0.48649,     0.48749,     0.48849,     0.48949,     0.49049,     0.49149,     0.49249,     0.49349,     0.49449,      0.4955,      0.4965,      0.4975,      0.4985,      0.4995,      0.5005,      0.5015,      0.5025,      0.5035,\n",
       "            0.5045,     0.50551,     0.50651,     0.50751,     0.50851,     0.50951,     0.51051,     0.51151,     0.51251,     0.51351,     0.51451,     0.51552,     0.51652,     0.51752,     0.51852,     0.51952,     0.52052,     0.52152,     0.52252,     0.52352,     0.52452,     0.52553,     0.52653,     0.52753,\n",
       "           0.52853,     0.52953,     0.53053,     0.53153,     0.53253,     0.53353,     0.53453,     0.53554,     0.53654,     0.53754,     0.53854,     0.53954,     0.54054,     0.54154,     0.54254,     0.54354,     0.54454,     0.54555,     0.54655,     0.54755,     0.54855,     0.54955,     0.55055,     0.55155,\n",
       "           0.55255,     0.55355,     0.55455,     0.55556,     0.55656,     0.55756,     0.55856,     0.55956,     0.56056,     0.56156,     0.56256,     0.56356,     0.56456,     0.56557,     0.56657,     0.56757,     0.56857,     0.56957,     0.57057,     0.57157,     0.57257,     0.57357,     0.57457,     0.57558,\n",
       "           0.57658,     0.57758,     0.57858,     0.57958,     0.58058,     0.58158,     0.58258,     0.58358,     0.58458,     0.58559,     0.58659,     0.58759,     0.58859,     0.58959,     0.59059,     0.59159,     0.59259,     0.59359,     0.59459,      0.5956,      0.5966,      0.5976,      0.5986,      0.5996,\n",
       "            0.6006,      0.6016,      0.6026,      0.6036,      0.6046,     0.60561,     0.60661,     0.60761,     0.60861,     0.60961,     0.61061,     0.61161,     0.61261,     0.61361,     0.61461,     0.61562,     0.61662,     0.61762,     0.61862,     0.61962,     0.62062,     0.62162,     0.62262,     0.62362,\n",
       "           0.62462,     0.62563,     0.62663,     0.62763,     0.62863,     0.62963,     0.63063,     0.63163,     0.63263,     0.63363,     0.63463,     0.63564,     0.63664,     0.63764,     0.63864,     0.63964,     0.64064,     0.64164,     0.64264,     0.64364,     0.64464,     0.64565,     0.64665,     0.64765,\n",
       "           0.64865,     0.64965,     0.65065,     0.65165,     0.65265,     0.65365,     0.65465,     0.65566,     0.65666,     0.65766,     0.65866,     0.65966,     0.66066,     0.66166,     0.66266,     0.66366,     0.66466,     0.66567,     0.66667,     0.66767,     0.66867,     0.66967,     0.67067,     0.67167,\n",
       "           0.67267,     0.67367,     0.67467,     0.67568,     0.67668,     0.67768,     0.67868,     0.67968,     0.68068,     0.68168,     0.68268,     0.68368,     0.68468,     0.68569,     0.68669,     0.68769,     0.68869,     0.68969,     0.69069,     0.69169,     0.69269,     0.69369,     0.69469,      0.6957,\n",
       "            0.6967,      0.6977,      0.6987,      0.6997,      0.7007,      0.7017,      0.7027,      0.7037,      0.7047,     0.70571,     0.70671,     0.70771,     0.70871,     0.70971,     0.71071,     0.71171,     0.71271,     0.71371,     0.71471,     0.71572,     0.71672,     0.71772,     0.71872,     0.71972,\n",
       "           0.72072,     0.72172,     0.72272,     0.72372,     0.72472,     0.72573,     0.72673,     0.72773,     0.72873,     0.72973,     0.73073,     0.73173,     0.73273,     0.73373,     0.73473,     0.73574,     0.73674,     0.73774,     0.73874,     0.73974,     0.74074,     0.74174,     0.74274,     0.74374,\n",
       "           0.74474,     0.74575,     0.74675,     0.74775,     0.74875,     0.74975,     0.75075,     0.75175,     0.75275,     0.75375,     0.75475,     0.75576,     0.75676,     0.75776,     0.75876,     0.75976,     0.76076,     0.76176,     0.76276,     0.76376,     0.76476,     0.76577,     0.76677,     0.76777,\n",
       "           0.76877,     0.76977,     0.77077,     0.77177,     0.77277,     0.77377,     0.77477,     0.77578,     0.77678,     0.77778,     0.77878,     0.77978,     0.78078,     0.78178,     0.78278,     0.78378,     0.78478,     0.78579,     0.78679,     0.78779,     0.78879,     0.78979,     0.79079,     0.79179,\n",
       "           0.79279,     0.79379,     0.79479,      0.7958,      0.7968,      0.7978,      0.7988,      0.7998,      0.8008,      0.8018,      0.8028,      0.8038,      0.8048,     0.80581,     0.80681,     0.80781,     0.80881,     0.80981,     0.81081,     0.81181,     0.81281,     0.81381,     0.81481,     0.81582,\n",
       "           0.81682,     0.81782,     0.81882,     0.81982,     0.82082,     0.82182,     0.82282,     0.82382,     0.82482,     0.82583,     0.82683,     0.82783,     0.82883,     0.82983,     0.83083,     0.83183,     0.83283,     0.83383,     0.83483,     0.83584,     0.83684,     0.83784,     0.83884,     0.83984,\n",
       "           0.84084,     0.84184,     0.84284,     0.84384,     0.84484,     0.84585,     0.84685,     0.84785,     0.84885,     0.84985,     0.85085,     0.85185,     0.85285,     0.85385,     0.85485,     0.85586,     0.85686,     0.85786,     0.85886,     0.85986,     0.86086,     0.86186,     0.86286,     0.86386,\n",
       "           0.86486,     0.86587,     0.86687,     0.86787,     0.86887,     0.86987,     0.87087,     0.87187,     0.87287,     0.87387,     0.87487,     0.87588,     0.87688,     0.87788,     0.87888,     0.87988,     0.88088,     0.88188,     0.88288,     0.88388,     0.88488,     0.88589,     0.88689,     0.88789,\n",
       "           0.88889,     0.88989,     0.89089,     0.89189,     0.89289,     0.89389,     0.89489,      0.8959,      0.8969,      0.8979,      0.8989,      0.8999,      0.9009,      0.9019,      0.9029,      0.9039,      0.9049,     0.90591,     0.90691,     0.90791,     0.90891,     0.90991,     0.91091,     0.91191,\n",
       "           0.91291,     0.91391,     0.91491,     0.91592,     0.91692,     0.91792,     0.91892,     0.91992,     0.92092,     0.92192,     0.92292,     0.92392,     0.92492,     0.92593,     0.92693,     0.92793,     0.92893,     0.92993,     0.93093,     0.93193,     0.93293,     0.93393,     0.93493,     0.93594,\n",
       "           0.93694,     0.93794,     0.93894,     0.93994,     0.94094,     0.94194,     0.94294,     0.94394,     0.94494,     0.94595,     0.94695,     0.94795,     0.94895,     0.94995,     0.95095,     0.95195,     0.95295,     0.95395,     0.95495,     0.95596,     0.95696,     0.95796,     0.95896,     0.95996,\n",
       "           0.96096,     0.96196,     0.96296,     0.96396,     0.96496,     0.96597,     0.96697,     0.96797,     0.96897,     0.96997,     0.97097,     0.97197,     0.97297,     0.97397,     0.97497,     0.97598,     0.97698,     0.97798,     0.97898,     0.97998,     0.98098,     0.98198,     0.98298,     0.98398,\n",
       "           0.98498,     0.98599,     0.98699,     0.98799,     0.98899,     0.98999,     0.99099,     0.99199,     0.99299,     0.99399,     0.99499,       0.996,       0.997,       0.998,       0.999,           1]), array([[    0.97297,     0.97297,     0.96959,     0.96622,     0.96622,     0.95946,     0.95946,     0.95946,     0.95946,     0.95946,     0.95946,     0.95946,     0.95946,     0.95946,     0.95946,     0.95946,     0.95946,     0.95946,     0.95946,     0.95946,     0.95946,     0.95946,     0.95946,\n",
       "            0.95946,     0.95946,     0.95946,     0.95946,     0.95946,     0.95946,     0.95857,     0.95608,     0.95608,      0.9527,      0.9527,      0.9527,      0.9527,      0.9527,      0.9527,      0.9527,      0.9527,      0.9527,      0.9527,      0.9527,      0.9527,      0.9527,      0.9527,\n",
       "             0.9527,      0.9527,      0.9527,     0.94801,     0.94659,     0.94595,     0.94595,     0.94595,     0.94595,     0.94494,     0.94376,     0.94258,     0.94257,     0.94257,     0.94257,     0.94257,     0.94257,     0.93919,     0.93919,     0.93919,     0.93919,     0.93919,     0.93919,\n",
       "            0.93919,     0.93919,     0.93919,     0.93919,     0.93919,     0.93919,     0.93919,     0.93919,     0.93919,     0.93919,     0.93919,     0.93919,     0.93919,     0.93919,     0.93919,     0.93919,     0.93919,     0.93919,     0.93919,     0.93919,     0.93919,     0.93919,     0.93919,\n",
       "            0.93919,     0.93919,     0.93919,     0.93919,     0.93919,     0.93919,     0.93919,     0.93919,     0.93919,     0.93919,     0.93919,     0.93919,     0.93919,     0.93919,     0.93885,     0.93785,     0.93684,     0.93583,     0.93581,     0.93581,     0.93581,     0.93581,     0.93581,\n",
       "            0.93581,     0.93581,     0.93581,     0.93581,     0.93581,     0.93581,     0.93581,     0.93581,     0.93581,     0.93581,     0.93581,     0.93581,     0.93581,     0.93581,     0.93581,     0.93581,     0.93581,     0.93581,     0.93581,     0.93581,     0.93581,     0.93581,     0.93581,\n",
       "            0.93581,     0.93581,     0.93581,     0.93581,     0.93581,     0.93581,     0.93581,     0.93581,     0.93579,     0.93497,     0.93416,     0.93334,     0.93253,     0.93243,     0.93243,     0.93243,     0.93243,     0.93243,     0.93243,     0.93243,     0.93243,     0.93243,     0.93243,\n",
       "            0.93243,     0.93242,     0.93212,     0.93181,     0.93151,     0.93121,     0.93091,     0.93061,     0.93031,     0.93001,     0.92971,     0.92941,      0.9291,     0.92905,     0.92905,     0.92886,     0.92568,     0.92568,     0.92568,     0.92568,     0.92568,     0.92568,     0.92568,\n",
       "            0.92568,     0.92568,     0.92568,     0.92568,     0.92568,     0.92568,     0.92568,     0.92568,     0.92568,     0.92568,     0.92568,     0.92568,     0.92568,     0.92568,     0.92568,     0.92568,     0.92568,     0.92568,     0.92568,     0.92568,     0.92568,     0.92568,     0.92568,\n",
       "            0.92568,     0.92568,     0.92568,     0.92568,     0.92568,     0.92568,     0.92568,     0.92568,     0.92568,     0.92568,     0.92568,     0.92568,     0.92568,     0.92568,     0.92568,     0.92568,     0.92568,     0.92568,     0.92568,     0.92568,     0.92568,     0.92568,     0.92568,\n",
       "            0.92545,     0.92515,     0.92485,     0.92455,     0.92425,     0.92395,     0.92365,     0.92335,     0.92304,     0.92274,     0.92244,      0.9223,      0.9223,      0.9223,     0.92184,     0.92107,      0.9203,     0.91953,     0.91892,     0.91892,     0.91892,     0.91892,     0.91892,\n",
       "            0.91892,     0.91892,     0.91867,     0.91826,     0.91785,     0.91745,     0.91704,     0.91663,     0.91622,     0.91582,     0.91554,     0.91554,     0.91554,     0.91554,     0.91554,     0.91554,     0.91554,     0.91554,     0.91554,     0.91554,     0.91554,     0.91554,     0.91554,\n",
       "            0.91554,     0.91554,     0.91554,     0.91554,     0.91554,     0.91554,     0.91554,     0.91554,     0.91554,     0.91554,     0.91554,     0.91554,     0.91554,     0.91554,     0.91554,     0.91554,     0.91554,     0.91554,     0.91554,     0.91554,     0.91554,     0.91554,     0.91554,\n",
       "            0.91554,     0.91554,     0.91554,     0.91554,     0.91554,     0.91554,     0.91554,     0.91554,     0.91554,     0.91554,     0.91554,     0.91554,     0.91554,     0.91554,     0.91554,     0.91554,     0.91554,     0.91554,     0.91554,     0.91554,     0.91554,     0.91554,     0.91554,\n",
       "            0.91554,     0.91554,     0.91554,     0.91554,     0.91554,     0.91554,     0.91554,     0.91554,     0.91554,     0.91554,     0.91554,     0.91554,     0.91554,     0.91554,     0.91554,     0.91554,     0.91554,     0.91554,     0.91554,     0.91554,     0.91554,     0.91554,     0.91554,\n",
       "            0.91554,     0.91554,     0.91554,     0.91554,     0.91554,     0.91554,     0.91554,     0.91554,     0.91554,     0.91554,     0.91554,     0.91554,     0.91554,     0.91554,     0.91554,     0.91554,     0.91554,     0.91554,     0.91554,     0.91554,     0.91554,     0.91554,     0.91554,\n",
       "            0.91554,     0.91554,     0.91554,     0.91519,     0.91393,     0.91267,     0.91216,     0.91216,     0.91216,     0.91216,     0.91216,     0.91216,     0.91216,     0.91216,     0.91216,     0.91216,     0.91216,     0.91216,     0.91216,     0.91216,     0.91216,     0.91216,     0.91216,\n",
       "            0.91216,     0.91216,     0.91216,     0.91216,     0.91216,     0.91216,     0.91216,     0.91216,     0.91216,     0.91216,     0.91216,     0.91216,     0.91216,     0.91216,     0.91216,     0.91216,     0.91216,     0.91216,     0.91216,     0.91216,     0.91216,     0.91216,     0.91216,\n",
       "            0.91216,     0.91216,     0.91216,     0.91216,     0.91216,     0.91216,     0.91216,     0.91216,     0.91216,     0.91216,     0.91216,     0.91216,     0.91216,     0.91216,     0.91216,     0.91216,     0.91216,     0.91184,     0.91069,     0.90953,     0.90809,     0.90611,     0.90541,\n",
       "            0.90541,     0.90541,     0.90541,     0.90541,     0.90541,     0.90541,     0.90541,     0.90541,     0.90541,     0.90541,     0.90541,     0.90541,     0.90541,     0.90541,     0.90528,     0.90192,     0.90019,     0.89865,     0.89865,     0.89865,     0.89865,     0.89865,     0.89865,\n",
       "            0.89865,     0.89865,     0.89802,     0.89686,     0.89571,     0.89419,     0.89246,     0.89173,     0.89148,     0.89123,     0.89098,     0.89074,     0.89049,     0.89024,     0.88999,     0.88975,      0.8895,     0.88925,     0.88901,     0.88876,     0.88851,     0.88841,     0.88831,\n",
       "            0.88822,     0.88812,     0.88802,     0.88792,     0.88782,     0.88772,     0.88762,     0.88752,     0.88742,     0.88733,     0.88723,     0.88713,     0.88703,     0.88693,     0.88683,     0.88673,     0.88663,     0.88653,     0.88643,     0.88634,     0.88624,     0.88614,     0.88604,\n",
       "            0.88594,     0.88584,     0.88574,     0.88564,     0.88554,     0.88545,     0.88535,     0.88525,     0.88515,     0.88484,     0.88449,     0.88414,      0.8838,     0.88345,      0.8831,     0.88276,     0.88241,     0.88206,     0.88176,     0.88176,     0.88176,     0.88176,     0.88176,\n",
       "            0.88176,     0.88176,     0.88169,     0.88146,     0.88123,       0.881,     0.88077,     0.88054,     0.88031,     0.88008,     0.87984,     0.87961,     0.87938,     0.87915,     0.87892,     0.87869,     0.87846,     0.87444,     0.87357,     0.87271,     0.87184,     0.87162,     0.87162,\n",
       "            0.87162,     0.87091,     0.87005,     0.86918,     0.86832,     0.86697,     0.86559,     0.86321,     0.85801,     0.85782,     0.85763,     0.85743,     0.85724,     0.85705,     0.85686,     0.85666,     0.85647,     0.85628,     0.85609,      0.8559,      0.8557,     0.85551,     0.85532,\n",
       "            0.85513,     0.85493,     0.85474,     0.85473,     0.85473,     0.85455,     0.85437,     0.85418,       0.854,     0.85382,     0.85364,     0.85346,     0.85327,     0.85309,     0.85291,     0.85273,     0.85254,     0.85236,     0.85218,       0.852,     0.85182,     0.85163,     0.85145,\n",
       "            0.84978,     0.84632,     0.84425,     0.84355,     0.84286,     0.84217,     0.84148,     0.84074,     0.83997,      0.8392,     0.83843,     0.83768,     0.83698,     0.83629,      0.8356,     0.83491,     0.83397,     0.83258,      0.8312,      0.8279,     0.82607,     0.82434,     0.82009,\n",
       "            0.81922,     0.81836,     0.81752,     0.81699,     0.81645,     0.81592,     0.81539,     0.81486,     0.81432,      0.8129,     0.81116,     0.80708,     0.80592,     0.80477,     0.80385,     0.80332,     0.80279,     0.80225,     0.80172,     0.80119,     0.80065,     0.80002,     0.79939,\n",
       "            0.79876,     0.79813,      0.7975,     0.79663,     0.79564,     0.79465,     0.79347,     0.79174,     0.79011,     0.78873,     0.78734,     0.78415,     0.78224,      0.7805,     0.77572,     0.77434,     0.76957,     0.76819,     0.76678,     0.76505,     0.75994,     0.75821,     0.75638,\n",
       "            0.75407,     0.74879,     0.74706,     0.73814,      0.7355,     0.73204,     0.72896,     0.72665,     0.72592,     0.72543,     0.72493,     0.72444,     0.72394,     0.72345,     0.72283,     0.71599,     0.70884,     0.70504,     0.70331,      0.7012,       0.699,     0.69727,     0.69562,\n",
       "            0.69423,     0.69285,     0.68535,     0.68477,      0.6842,     0.68362,     0.68304,     0.68246,     0.67775,     0.67636,     0.67113,     0.66892,     0.66892,     0.66474,     0.66335,     0.66168,     0.65856,     0.65717,     0.65579,     0.64952,     0.64099,     0.63832,     0.63762,\n",
       "            0.63693,     0.63624,     0.63555,     0.62893,     0.62341,     0.62168,     0.61149,     0.60974,     0.60121,     0.59782,     0.59551,     0.59251,     0.58434,     0.58347,     0.58261,     0.58174,     0.57715,     0.57485,     0.56827,     0.56572,     0.56004,     0.55773,     0.55542,\n",
       "            0.54973,     0.54742,     0.54403,     0.54168,     0.53034,      0.5236,     0.52245,     0.52129,     0.52017,      0.5193,     0.51844,     0.51757,     0.51204,     0.50424,     0.49939,     0.49709,     0.48372,     0.48121,     0.47552,     0.47321,     0.47142,     0.46969,     0.46741,\n",
       "            0.46288,     0.45257,     0.44749,      0.4454,     0.44441,     0.44342,     0.43886,     0.43656,     0.43514,     0.43415,     0.43316,     0.43061,     0.42299,     0.42091,     0.41918,     0.41091,     0.40612,      0.4023,     0.39546,     0.38862,     0.38515,     0.38284,     0.37654,\n",
       "            0.36439,     0.35948,     0.35054,     0.34688,     0.34515,     0.34225,     0.33396,     0.33166,     0.31237,     0.30813,     0.30466,     0.29877,     0.29309,     0.29078,     0.28965,     0.28866,     0.28767,     0.28549,     0.28203,      0.2735,     0.26666,     0.25949,     0.25466,\n",
       "            0.24902,     0.23591,     0.22907,     0.22486,     0.22046,     0.21101,     0.19866,     0.19635,     0.19404,     0.18856,     0.18683,     0.18439,     0.18143,     0.17912,     0.17233,     0.16212,     0.15981,     0.15686,     0.15187,     0.15013,     0.14766,     0.13794,     0.13447,\n",
       "            0.12689,     0.12374,     0.12201,     0.12055,     0.11916,     0.11409,     0.11178,     0.10677,     0.10189,     0.10007,    0.098688,    0.092919,    0.087696,     0.08077,    0.075773,     0.07231,    0.067158,     0.06409,    0.063398,    0.062705,    0.062013,     0.06132,      0.0602,\n",
       "           0.057891,    0.055583,    0.049506,    0.047018,    0.046249,    0.045479,     0.04471,     0.04394,    0.042236,    0.040395,    0.036239,    0.034507,    0.026945,     0.02608,    0.025214,    0.024348,    0.023316,    0.021585,    0.020104,    0.019411,    0.018718,    0.018026,    0.017333,\n",
       "           0.016533,    0.015544,    0.014554,    0.013565,    0.012966,    0.012389,    0.011812,    0.011235,    0.010658,    0.010101,   0.0097361,   0.0093716,   0.0090071,   0.0086425,    0.008278,   0.0079135,    0.007549,   0.0071845,   0.0068199,   0.0066295,   0.0064756,   0.0063217,   0.0061678,\n",
       "          0.0060139,     0.00586,   0.0057061,   0.0055522,   0.0053983,   0.0052444,   0.0050905,   0.0049365,   0.0047826,   0.0046287,   0.0044748,   0.0043209,    0.004167,   0.0040131,   0.0038592,   0.0037053,   0.0035514,   0.0033975,           0,           0,           0,           0,           0,\n",
       "                  0,           0,           0,           0,           0,           0,           0,           0,           0,           0,           0,           0,           0,           0,           0,           0,           0,           0,           0,           0,           0,           0,           0,\n",
       "                  0,           0,           0,           0,           0,           0,           0,           0,           0,           0,           0,           0,           0,           0,           0,           0,           0,           0,           0,           0,           0,           0,           0,\n",
       "                  0,           0,           0,           0,           0,           0,           0,           0,           0,           0,           0,           0,           0,           0,           0,           0,           0,           0,           0,           0,           0,           0,           0,\n",
       "                  0,           0,           0,           0,           0,           0,           0,           0,           0,           0,           0]]), 'Confidence', 'Recall']]\n",
       "fitness: 0.6733938230956926\n",
       "keys: ['metrics/precision(B)', 'metrics/recall(B)', 'metrics/mAP50(B)', 'metrics/mAP50-95(B)']\n",
       "maps: array([    0.64284])\n",
       "names: {0: 'drone'}\n",
       "plot: True\n",
       "results_dict: {'metrics/precision(B)': 0.9506281152998916, 'metrics/recall(B)': 0.9106860238616995, 'metrics/mAP50(B)': 0.9483885400348955, 'metrics/mAP50-95(B)': 0.6428388545468923, 'fitness': 0.6733938230956926}\n",
       "save_dir: PosixPath('runs/detect/train3')\n",
       "speed: {'preprocess': 0.15347582452437455, 'inference': 1.4758530785055721, 'loss': 0.00019985086777630975, 'postprocess': 0.9156430468839757}\n",
       "task: 'detect'"
      ]
     },
     "execution_count": 1,
     "metadata": {},
     "output_type": "execute_result"
    }
   ],
   "source": [
    "from ultralytics import YOLO\n",
    "\n",
    "model = YOLO(\"yolov8n.pt\")\n",
    "model.train(\n",
    "    data=\"dataset.yaml\",\n",
    "    epochs=100,\n",
    "    imgsz=640,\n",
    "    batch=32,\n",
    "    save_period=1,\n",
    "    patience=10,\n",
    "    save=True,\n",
    ")\n"
   ]
  },
  {
   "cell_type": "code",
   "execution_count": 4,
   "metadata": {},
   "outputs": [
    {
     "name": "stdout",
     "output_type": "stream",
     "text": [
      "Ultralytics 8.3.62 🚀 Python-3.12.3 torch-2.5.1 CUDA:0 (NVIDIA GeForce RTX 3060 Laptop GPU, 5830MiB)\n"
     ]
    },
    {
     "name": "stderr",
     "output_type": "stream",
     "text": [
      "\u001b[34m\u001b[1mval: \u001b[0mScanning /home/arnav_pathak/bhumi_itech/selection_task/yolo/datasets/val/labels.cache... 272 images, 0 backgrounds, 0 corrupt: 100%|██████████| 272/272 [00:00<?, ?it/s]\n",
      "                 Class     Images  Instances      Box(P          R      mAP50  mAP50-95):   0%|          | 0/9 [00:00<?, ?it/s]libpng warning: iCCP: known incorrect sRGB profile\n",
      "                 Class     Images  Instances      Box(P          R      mAP50  mAP50-95):  33%|███▎      | 3/9 [00:02<00:03,  1.54it/s]libpng warning: iCCP: known incorrect sRGB profile\n",
      "                 Class     Images  Instances      Box(P          R      mAP50  mAP50-95): 100%|██████████| 9/9 [00:03<00:00,  2.34it/s]\n",
      "libpng warning: iCCP: known incorrect sRGB profile\n"
     ]
    },
    {
     "name": "stdout",
     "output_type": "stream",
     "text": [
      "                   all        272        296      0.954      0.904      0.948      0.643\n",
      "Speed: 0.4ms preprocess, 2.4ms inference, 0.0ms loss, 1.4ms postprocess per image\n",
      "Results saved to \u001b[1mruns/detect/train34\u001b[0m\n",
      "\n",
      "image 1/272 /home/arnav_pathak/bhumi_itech/selection_task/yolo/datasets/val/images/0032.jpg: 384x640 1 drone, 8.8ms\n",
      "image 2/272 /home/arnav_pathak/bhumi_itech/selection_task/yolo/datasets/val/images/0040.jpg: 320x640 1 drone, 8.8ms\n",
      "image 3/272 /home/arnav_pathak/bhumi_itech/selection_task/yolo/datasets/val/images/0044.jpg: 448x640 1 drone, 8.3ms\n",
      "image 4/272 /home/arnav_pathak/bhumi_itech/selection_task/yolo/datasets/val/images/0046.jpg: 384x640 1 drone, 8.1ms\n",
      "image 5/272 /home/arnav_pathak/bhumi_itech/selection_task/yolo/datasets/val/images/0064.jpg: 384x640 1 drone, 6.4ms\n",
      "image 6/272 /home/arnav_pathak/bhumi_itech/selection_task/yolo/datasets/val/images/0065.jpg: 480x640 1 drone, 8.8ms\n",
      "image 7/272 /home/arnav_pathak/bhumi_itech/selection_task/yolo/datasets/val/images/0071.jpg: 416x640 1 drone, 4.2ms\n",
      "image 8/272 /home/arnav_pathak/bhumi_itech/selection_task/yolo/datasets/val/images/0072.jpg: 416x640 1 drone, 3.2ms\n",
      "image 9/272 /home/arnav_pathak/bhumi_itech/selection_task/yolo/datasets/val/images/0074.jpg: 640x640 1 drone, 3.7ms\n",
      "image 10/272 /home/arnav_pathak/bhumi_itech/selection_task/yolo/datasets/val/images/0082.jpg: 640x640 1 drone, 4.0ms\n",
      "image 11/272 /home/arnav_pathak/bhumi_itech/selection_task/yolo/datasets/val/images/0084.jpg: 640x640 1 drone, 3.3ms\n",
      "image 12/272 /home/arnav_pathak/bhumi_itech/selection_task/yolo/datasets/val/images/0089.jpg: 384x640 1 drone, 3.4ms\n",
      "image 13/272 /home/arnav_pathak/bhumi_itech/selection_task/yolo/datasets/val/images/0091.jpg: 640x640 1 drone, 3.4ms\n",
      "image 14/272 /home/arnav_pathak/bhumi_itech/selection_task/yolo/datasets/val/images/0093.jpg: 640x640 1 drone, 2.9ms\n",
      "image 15/272 /home/arnav_pathak/bhumi_itech/selection_task/yolo/datasets/val/images/0096.jpg: 640x640 1 drone, 2.9ms\n",
      "image 16/272 /home/arnav_pathak/bhumi_itech/selection_task/yolo/datasets/val/images/0216.jpg: 384x640 1 drone, 3.7ms\n",
      "image 17/272 /home/arnav_pathak/bhumi_itech/selection_task/yolo/datasets/val/images/0218.jpg: 448x640 1 drone, 3.6ms\n",
      "image 18/272 /home/arnav_pathak/bhumi_itech/selection_task/yolo/datasets/val/images/0221.jpg: 448x640 1 drone, 3.2ms\n",
      "image 19/272 /home/arnav_pathak/bhumi_itech/selection_task/yolo/datasets/val/images/0226.jpg: 320x640 1 drone, 2.9ms\n",
      "image 20/272 /home/arnav_pathak/bhumi_itech/selection_task/yolo/datasets/val/images/0243.jpg: 480x640 1 drone, 3.7ms\n",
      "image 21/272 /home/arnav_pathak/bhumi_itech/selection_task/yolo/datasets/val/images/0250.jpg: 384x640 1 drone, 5.4ms\n",
      "image 22/272 /home/arnav_pathak/bhumi_itech/selection_task/yolo/datasets/val/images/0256.jpg: 448x640 1 drone, 4.9ms\n",
      "image 23/272 /home/arnav_pathak/bhumi_itech/selection_task/yolo/datasets/val/images/0258.jpg: 416x640 1 drone, 5.0ms\n",
      "image 24/272 /home/arnav_pathak/bhumi_itech/selection_task/yolo/datasets/val/images/0266.jpg: 448x640 1 drone, 5.1ms\n",
      "image 25/272 /home/arnav_pathak/bhumi_itech/selection_task/yolo/datasets/val/images/0271.jpg: 448x640 1 drone, 3.3ms\n",
      "image 26/272 /home/arnav_pathak/bhumi_itech/selection_task/yolo/datasets/val/images/0299.jpg: 640x544 1 drone, 3.8ms\n",
      "image 27/272 /home/arnav_pathak/bhumi_itech/selection_task/yolo/datasets/val/images/0307.jpg: 448x640 1 drone, 3.1ms\n",
      "image 28/272 /home/arnav_pathak/bhumi_itech/selection_task/yolo/datasets/val/images/0313.jpg: 448x640 1 drone, 3.0ms\n",
      "image 29/272 /home/arnav_pathak/bhumi_itech/selection_task/yolo/datasets/val/images/0319.jpg: 384x640 1 drone, 2.9ms\n",
      "image 30/272 /home/arnav_pathak/bhumi_itech/selection_task/yolo/datasets/val/images/0320.jpg: 384x640 1 drone, 2.8ms\n",
      "image 31/272 /home/arnav_pathak/bhumi_itech/selection_task/yolo/datasets/val/images/0331.jpg: 640x640 1 drone, 3.4ms\n",
      "image 32/272 /home/arnav_pathak/bhumi_itech/selection_task/yolo/datasets/val/images/foto00320.jpg: 384x640 1 drone, 3.1ms\n",
      "image 33/272 /home/arnav_pathak/bhumi_itech/selection_task/yolo/datasets/val/images/foto01016.jpg: 384x640 1 drone, 2.6ms\n",
      "image 34/272 /home/arnav_pathak/bhumi_itech/selection_task/yolo/datasets/val/images/foto01074.jpg: 384x640 1 drone, 3.2ms\n",
      "image 35/272 /home/arnav_pathak/bhumi_itech/selection_task/yolo/datasets/val/images/foto01393.jpg: 384x640 1 drone, 2.6ms\n",
      "image 36/272 /home/arnav_pathak/bhumi_itech/selection_task/yolo/datasets/val/images/foto01451.jpg: 384x640 1 drone, 3.0ms\n",
      "image 37/272 /home/arnav_pathak/bhumi_itech/selection_task/yolo/datasets/val/images/foto01683.jpg: 384x640 1 drone, 2.8ms\n",
      "image 38/272 /home/arnav_pathak/bhumi_itech/selection_task/yolo/datasets/val/images/foto01741.jpg: 384x640 2 drones, 2.9ms\n",
      "image 39/272 /home/arnav_pathak/bhumi_itech/selection_task/yolo/datasets/val/images/foto01770.jpg: 384x640 2 drones, 2.7ms\n",
      "image 40/272 /home/arnav_pathak/bhumi_itech/selection_task/yolo/datasets/val/images/foto02060.jpg: 384x640 3 drones, 3.4ms\n",
      "image 41/272 /home/arnav_pathak/bhumi_itech/selection_task/yolo/datasets/val/images/foto02785.jpg: 384x640 1 drone, 3.5ms\n",
      "image 42/272 /home/arnav_pathak/bhumi_itech/selection_task/yolo/datasets/val/images/foto04235.jpg: 384x640 1 drone, 3.2ms\n",
      "image 43/272 /home/arnav_pathak/bhumi_itech/selection_task/yolo/datasets/val/images/foto04293.jpg: 384x640 2 drones, 3.3ms\n",
      "image 44/272 /home/arnav_pathak/bhumi_itech/selection_task/yolo/datasets/val/images/foto04322.jpg: 384x640 1 drone, 3.6ms\n",
      "image 45/272 /home/arnav_pathak/bhumi_itech/selection_task/yolo/datasets/val/images/foto04409.jpg: 384x640 1 drone, 2.8ms\n",
      "image 46/272 /home/arnav_pathak/bhumi_itech/selection_task/yolo/datasets/val/images/foto04438.jpg: 384x640 1 drone, 2.6ms\n",
      "image 47/272 /home/arnav_pathak/bhumi_itech/selection_task/yolo/datasets/val/images/foto04670.jpg: 384x640 1 drone, 2.9ms\n",
      "image 48/272 /home/arnav_pathak/bhumi_itech/selection_task/yolo/datasets/val/images/foto04873.jpg: 384x640 1 drone, 3.0ms\n",
      "image 49/272 /home/arnav_pathak/bhumi_itech/selection_task/yolo/datasets/val/images/foto05018.jpg: 384x640 1 drone, 3.1ms\n",
      "image 50/272 /home/arnav_pathak/bhumi_itech/selection_task/yolo/datasets/val/images/foto05076.jpg: 384x640 1 drone, 2.6ms\n",
      "image 51/272 /home/arnav_pathak/bhumi_itech/selection_task/yolo/datasets/val/images/foto05192.jpg: 384x640 1 drone, 2.8ms\n",
      "image 52/272 /home/arnav_pathak/bhumi_itech/selection_task/yolo/datasets/val/images/foto05337.jpg: 384x640 1 drone, 3.0ms\n",
      "image 53/272 /home/arnav_pathak/bhumi_itech/selection_task/yolo/datasets/val/images/foto05482.jpg: 384x640 1 drone, 3.4ms\n",
      "image 54/272 /home/arnav_pathak/bhumi_itech/selection_task/yolo/datasets/val/images/foto05540.jpg: 384x640 1 drone, 3.3ms\n",
      "image 55/272 /home/arnav_pathak/bhumi_itech/selection_task/yolo/datasets/val/images/foto07425.jpg: 384x640 1 drone, 2.7ms\n",
      "image 56/272 /home/arnav_pathak/bhumi_itech/selection_task/yolo/datasets/val/images/foto14356.jpg: 384x640 1 drone, 2.8ms\n",
      "image 57/272 /home/arnav_pathak/bhumi_itech/selection_task/yolo/datasets/val/images/foto14559.jpg: 384x640 (no detections), 3.5ms\n",
      "image 58/272 /home/arnav_pathak/bhumi_itech/selection_task/yolo/datasets/val/images/foto14588.jpg: 384x640 (no detections), 2.8ms\n",
      "image 59/272 /home/arnav_pathak/bhumi_itech/selection_task/yolo/datasets/val/images/foto14762.jpg: 384x640 1 drone, 2.7ms\n",
      "image 60/272 /home/arnav_pathak/bhumi_itech/selection_task/yolo/datasets/val/images/foto14849.jpg: 384x640 1 drone, 3.0ms\n",
      "image 61/272 /home/arnav_pathak/bhumi_itech/selection_task/yolo/datasets/val/images/foto14936.jpg: 384x640 1 drone, 3.0ms\n",
      "image 62/272 /home/arnav_pathak/bhumi_itech/selection_task/yolo/datasets/val/images/foto15023.jpg: 384x640 3 drones, 3.1ms\n",
      "image 63/272 /home/arnav_pathak/bhumi_itech/selection_task/yolo/datasets/val/images/foto15139.jpg: 384x640 (no detections), 2.7ms\n",
      "image 64/272 /home/arnav_pathak/bhumi_itech/selection_task/yolo/datasets/val/images/pic_004.jpg: 416x640 1 drone, 3.3ms\n",
      "image 65/272 /home/arnav_pathak/bhumi_itech/selection_task/yolo/datasets/val/images/pic_014.jpg: 384x640 1 drone, 3.4ms\n",
      "image 66/272 /home/arnav_pathak/bhumi_itech/selection_task/yolo/datasets/val/images/pic_028.jpg: 640x640 1 drone, 3.8ms\n",
      "image 67/272 /home/arnav_pathak/bhumi_itech/selection_task/yolo/datasets/val/images/pic_037.jpg: 640x640 1 drone, 2.9ms\n",
      "image 68/272 /home/arnav_pathak/bhumi_itech/selection_task/yolo/datasets/val/images/pic_039.jpg: 640x640 1 drone, 3.2ms\n",
      "image 69/272 /home/arnav_pathak/bhumi_itech/selection_task/yolo/datasets/val/images/pic_042.jpg: 384x640 4 drones, 3.3ms\n",
      "image 70/272 /home/arnav_pathak/bhumi_itech/selection_task/yolo/datasets/val/images/pic_047.jpg: 640x640 1 drone, 3.5ms\n",
      "image 71/272 /home/arnav_pathak/bhumi_itech/selection_task/yolo/datasets/val/images/pic_050.jpg: 640x640 1 drone, 3.1ms\n",
      "image 72/272 /home/arnav_pathak/bhumi_itech/selection_task/yolo/datasets/val/images/pic_054.jpg: 352x640 1 drone, 3.6ms\n",
      "image 73/272 /home/arnav_pathak/bhumi_itech/selection_task/yolo/datasets/val/images/pic_056.jpg: 640x640 2 drones, 3.5ms\n",
      "image 74/272 /home/arnav_pathak/bhumi_itech/selection_task/yolo/datasets/val/images/pic_060.jpg: 640x640 1 drone, 3.0ms\n",
      "image 75/272 /home/arnav_pathak/bhumi_itech/selection_task/yolo/datasets/val/images/pic_063.jpg: 640x640 2 drones, 2.9ms\n",
      "image 76/272 /home/arnav_pathak/bhumi_itech/selection_task/yolo/datasets/val/images/pic_066.jpg: 448x640 1 drone, 3.3ms\n",
      "image 77/272 /home/arnav_pathak/bhumi_itech/selection_task/yolo/datasets/val/images/pic_069.jpg: 640x640 2 drones, 3.4ms\n",
      "image 78/272 /home/arnav_pathak/bhumi_itech/selection_task/yolo/datasets/val/images/pic_071.jpg: 384x640 1 drone, 3.0ms\n",
      "image 79/272 /home/arnav_pathak/bhumi_itech/selection_task/yolo/datasets/val/images/pic_096.jpg: 320x640 1 drone, 3.3ms\n",
      "image 80/272 /home/arnav_pathak/bhumi_itech/selection_task/yolo/datasets/val/images/pic_1001.jpg: 640x480 3 drones, 3.5ms\n",
      "image 81/272 /home/arnav_pathak/bhumi_itech/selection_task/yolo/datasets/val/images/pic_1008.jpg: 384x640 (no detections), 3.0ms\n",
      "image 82/272 /home/arnav_pathak/bhumi_itech/selection_task/yolo/datasets/val/images/pic_1025.jpg: 288x640 1 drone, 3.4ms\n",
      "image 83/272 /home/arnav_pathak/bhumi_itech/selection_task/yolo/datasets/val/images/pic_1028.jpg: 480x640 1 drone, 3.1ms\n",
      "image 84/272 /home/arnav_pathak/bhumi_itech/selection_task/yolo/datasets/val/images/pic_1032.jpg: 448x640 (no detections), 3.4ms\n",
      "image 85/272 /home/arnav_pathak/bhumi_itech/selection_task/yolo/datasets/val/images/pic_1033.jpg: 640x640 1 drone, 3.3ms\n",
      "image 86/272 /home/arnav_pathak/bhumi_itech/selection_task/yolo/datasets/val/images/pic_1034.jpg: 480x640 1 drone, 2.9ms\n",
      "image 87/272 /home/arnav_pathak/bhumi_itech/selection_task/yolo/datasets/val/images/pic_1036.jpg: 384x640 1 drone, 3.1ms\n",
      "image 88/272 /home/arnav_pathak/bhumi_itech/selection_task/yolo/datasets/val/images/pic_1043.jpg: 480x640 (no detections), 3.4ms\n",
      "image 89/272 /home/arnav_pathak/bhumi_itech/selection_task/yolo/datasets/val/images/pic_1049.jpg: 320x640 1 drone, 3.5ms\n",
      "image 90/272 /home/arnav_pathak/bhumi_itech/selection_task/yolo/datasets/val/images/pic_1075.jpg: 352x640 1 drone, 2.9ms\n",
      "image 91/272 /home/arnav_pathak/bhumi_itech/selection_task/yolo/datasets/val/images/pic_1105.jpg: 384x640 (no detections), 3.2ms\n",
      "image 92/272 /home/arnav_pathak/bhumi_itech/selection_task/yolo/datasets/val/images/pic_1117.jpg: 352x640 1 drone, 3.4ms\n",
      "image 93/272 /home/arnav_pathak/bhumi_itech/selection_task/yolo/datasets/val/images/pic_1135.jpg: 320x640 1 drone, 3.4ms\n",
      "image 94/272 /home/arnav_pathak/bhumi_itech/selection_task/yolo/datasets/val/images/pic_1139.jpg: 448x640 1 drone, 3.6ms\n",
      "image 95/272 /home/arnav_pathak/bhumi_itech/selection_task/yolo/datasets/val/images/pic_1148.jpg: 320x640 1 drone, 3.4ms\n",
      "image 96/272 /home/arnav_pathak/bhumi_itech/selection_task/yolo/datasets/val/images/pic_1165.jpg: 512x640 2 drones, 4.0ms\n",
      "image 97/272 /home/arnav_pathak/bhumi_itech/selection_task/yolo/datasets/val/images/pic_1197.jpg: 640x512 1 drone, 3.1ms\n",
      "image 98/272 /home/arnav_pathak/bhumi_itech/selection_task/yolo/datasets/val/images/pic_1199.jpg: 352x640 1 drone, 3.1ms\n",
      "image 99/272 /home/arnav_pathak/bhumi_itech/selection_task/yolo/datasets/val/images/pic_121.jpg: 640x608 1 drone, 4.0ms\n",
      "image 100/272 /home/arnav_pathak/bhumi_itech/selection_task/yolo/datasets/val/images/pic_1217.jpg: 448x640 2 drones, 3.5ms\n",
      "image 101/272 /home/arnav_pathak/bhumi_itech/selection_task/yolo/datasets/val/images/pic_122.jpg: 640x576 1 drone, 3.7ms\n",
      "image 102/272 /home/arnav_pathak/bhumi_itech/selection_task/yolo/datasets/val/images/pic_1235.jpg: 448x640 1 drone, 3.3ms\n",
      "image 103/272 /home/arnav_pathak/bhumi_itech/selection_task/yolo/datasets/val/images/pic_124.jpg: 320x640 1 drone, 3.7ms\n",
      "image 104/272 /home/arnav_pathak/bhumi_itech/selection_task/yolo/datasets/val/images/pic_128.jpg: 512x640 1 drone, 3.3ms\n",
      "image 105/272 /home/arnav_pathak/bhumi_itech/selection_task/yolo/datasets/val/images/pic_129.jpg: 640x640 1 drone, 3.5ms\n",
      "image 106/272 /home/arnav_pathak/bhumi_itech/selection_task/yolo/datasets/val/images/pic_140.jpg: 384x640 1 drone, 3.3ms\n",
      "image 107/272 /home/arnav_pathak/bhumi_itech/selection_task/yolo/datasets/val/images/pic_142.jpg: 384x640 1 drone, 3.0ms\n",
      "image 108/272 /home/arnav_pathak/bhumi_itech/selection_task/yolo/datasets/val/images/pic_148.jpg: 640x640 1 drone, 3.3ms\n",
      "image 109/272 /home/arnav_pathak/bhumi_itech/selection_task/yolo/datasets/val/images/pic_155.jpg: 352x640 1 drone, 3.3ms\n",
      "image 110/272 /home/arnav_pathak/bhumi_itech/selection_task/yolo/datasets/val/images/pic_161.jpg: 256x640 1 drone, 3.7ms\n",
      "image 111/272 /home/arnav_pathak/bhumi_itech/selection_task/yolo/datasets/val/images/pic_162.jpg: 416x640 1 drone, 3.2ms\n",
      "image 112/272 /home/arnav_pathak/bhumi_itech/selection_task/yolo/datasets/val/images/pic_164.jpg: 640x640 1 drone, 3.4ms\n",
      "image 113/272 /home/arnav_pathak/bhumi_itech/selection_task/yolo/datasets/val/images/pic_171.jpg: 640x640 1 drone, 2.9ms\n",
      "image 114/272 /home/arnav_pathak/bhumi_itech/selection_task/yolo/datasets/val/images/pic_175.jpg: 384x640 1 drone, 2.9ms\n",
      "image 115/272 /home/arnav_pathak/bhumi_itech/selection_task/yolo/datasets/val/images/pic_176.jpg: 448x640 1 drone, 3.4ms\n",
      "image 116/272 /home/arnav_pathak/bhumi_itech/selection_task/yolo/datasets/val/images/pic_177.jpg: 640x640 1 drone, 3.4ms\n",
      "image 117/272 /home/arnav_pathak/bhumi_itech/selection_task/yolo/datasets/val/images/pic_182.jpg: 640x640 1 drone, 3.3ms\n",
      "image 118/272 /home/arnav_pathak/bhumi_itech/selection_task/yolo/datasets/val/images/pic_183.jpg: 640x640 1 drone, 2.9ms\n",
      "image 119/272 /home/arnav_pathak/bhumi_itech/selection_task/yolo/datasets/val/images/pic_185.jpg: 544x640 1 drone, 3.4ms\n",
      "image 120/272 /home/arnav_pathak/bhumi_itech/selection_task/yolo/datasets/val/images/pic_192.jpg: 384x640 1 drone, 3.5ms\n",
      "image 121/272 /home/arnav_pathak/bhumi_itech/selection_task/yolo/datasets/val/images/pic_212.jpg: 448x640 1 drone, 9.0ms\n",
      "image 122/272 /home/arnav_pathak/bhumi_itech/selection_task/yolo/datasets/val/images/pic_213.jpg: 512x640 1 drone, 3.3ms\n",
      "image 123/272 /home/arnav_pathak/bhumi_itech/selection_task/yolo/datasets/val/images/pic_217.jpg: 640x640 1 drone, 3.3ms\n",
      "image 124/272 /home/arnav_pathak/bhumi_itech/selection_task/yolo/datasets/val/images/pic_218.jpg: 352x640 2 drones, 3.4ms\n",
      "image 125/272 /home/arnav_pathak/bhumi_itech/selection_task/yolo/datasets/val/images/pic_220.jpg: 448x640 1 drone, 4.5ms\n",
      "image 126/272 /home/arnav_pathak/bhumi_itech/selection_task/yolo/datasets/val/images/pic_223.jpg: 480x640 2 drones, 3.5ms\n",
      "image 127/272 /home/arnav_pathak/bhumi_itech/selection_task/yolo/datasets/val/images/pic_225.jpg: 640x640 1 drone, 3.3ms\n",
      "image 128/272 /home/arnav_pathak/bhumi_itech/selection_task/yolo/datasets/val/images/pic_230.jpg: 448x640 1 drone, 3.9ms\n",
      "image 129/272 /home/arnav_pathak/bhumi_itech/selection_task/yolo/datasets/val/images/pic_239.jpg: 480x640 1 drone, 3.2ms\n",
      "image 130/272 /home/arnav_pathak/bhumi_itech/selection_task/yolo/datasets/val/images/pic_241.jpg: 448x640 1 drone, 3.7ms\n",
      "image 131/272 /home/arnav_pathak/bhumi_itech/selection_task/yolo/datasets/val/images/pic_256.jpg: 384x640 1 drone, 3.6ms\n",
      "image 132/272 /home/arnav_pathak/bhumi_itech/selection_task/yolo/datasets/val/images/pic_271.jpg: 288x640 1 drone, 3.2ms\n",
      "image 133/272 /home/arnav_pathak/bhumi_itech/selection_task/yolo/datasets/val/images/pic_272.jpg: 480x640 1 drone, 3.7ms\n",
      "image 134/272 /home/arnav_pathak/bhumi_itech/selection_task/yolo/datasets/val/images/pic_273.jpg: 640x640 1 drone, 3.5ms\n"
     ]
    },
    {
     "name": "stderr",
     "output_type": "stream",
     "text": [
      "libpng warning: iCCP: known incorrect sRGB profile\n"
     ]
    },
    {
     "name": "stdout",
     "output_type": "stream",
     "text": [
      "image 135/272 /home/arnav_pathak/bhumi_itech/selection_task/yolo/datasets/val/images/pic_275.jpg: 448x640 1 drone, 3.1ms\n",
      "image 136/272 /home/arnav_pathak/bhumi_itech/selection_task/yolo/datasets/val/images/pic_280.jpg: 384x640 1 drone, 3.7ms\n",
      "image 137/272 /home/arnav_pathak/bhumi_itech/selection_task/yolo/datasets/val/images/pic_285.jpg: 384x640 1 drone, 3.2ms\n",
      "image 138/272 /home/arnav_pathak/bhumi_itech/selection_task/yolo/datasets/val/images/pic_287.jpg: 640x640 1 drone, 3.6ms\n",
      "image 139/272 /home/arnav_pathak/bhumi_itech/selection_task/yolo/datasets/val/images/pic_289.jpg: 352x640 1 drone, 3.5ms\n",
      "image 140/272 /home/arnav_pathak/bhumi_itech/selection_task/yolo/datasets/val/images/pic_304.jpg: 384x640 1 drone, 3.6ms\n",
      "image 141/272 /home/arnav_pathak/bhumi_itech/selection_task/yolo/datasets/val/images/pic_313.jpg: 384x640 1 drone, 2.5ms\n",
      "image 142/272 /home/arnav_pathak/bhumi_itech/selection_task/yolo/datasets/val/images/pic_320.jpg: 480x640 3 drones, 3.6ms\n",
      "image 143/272 /home/arnav_pathak/bhumi_itech/selection_task/yolo/datasets/val/images/pic_324.jpg: 640x448 1 drone, 4.0ms\n",
      "image 144/272 /home/arnav_pathak/bhumi_itech/selection_task/yolo/datasets/val/images/pic_328.jpg: 384x640 1 drone, 7.5ms\n",
      "image 145/272 /home/arnav_pathak/bhumi_itech/selection_task/yolo/datasets/val/images/pic_337.jpg: 640x640 1 drone, 3.3ms\n",
      "image 146/272 /home/arnav_pathak/bhumi_itech/selection_task/yolo/datasets/val/images/pic_346.jpg: 480x640 1 drone, 3.3ms\n",
      "image 147/272 /home/arnav_pathak/bhumi_itech/selection_task/yolo/datasets/val/images/pic_353.jpg: 384x640 1 drone, 2.9ms\n",
      "image 148/272 /home/arnav_pathak/bhumi_itech/selection_task/yolo/datasets/val/images/pic_357.jpg: 448x640 1 drone, 3.4ms\n",
      "image 149/272 /home/arnav_pathak/bhumi_itech/selection_task/yolo/datasets/val/images/pic_365.jpg: 448x640 1 drone, 2.9ms\n",
      "image 150/272 /home/arnav_pathak/bhumi_itech/selection_task/yolo/datasets/val/images/pic_380.jpg: 416x640 1 drone, 3.4ms\n",
      "image 151/272 /home/arnav_pathak/bhumi_itech/selection_task/yolo/datasets/val/images/pic_393.jpg: 288x640 1 drone, 3.0ms\n",
      "image 152/272 /home/arnav_pathak/bhumi_itech/selection_task/yolo/datasets/val/images/pic_403.jpg: 192x640 1 drone, 3.6ms\n",
      "image 153/272 /home/arnav_pathak/bhumi_itech/selection_task/yolo/datasets/val/images/pic_424.jpg: 640x640 1 drone, 3.5ms\n",
      "image 154/272 /home/arnav_pathak/bhumi_itech/selection_task/yolo/datasets/val/images/pic_426.jpg: 480x640 1 drone, 3.1ms\n",
      "image 155/272 /home/arnav_pathak/bhumi_itech/selection_task/yolo/datasets/val/images/pic_432.jpg: 640x640 1 drone, 3.5ms\n",
      "image 156/272 /home/arnav_pathak/bhumi_itech/selection_task/yolo/datasets/val/images/pic_433.jpg: 640x640 1 drone, 2.8ms\n",
      "image 157/272 /home/arnav_pathak/bhumi_itech/selection_task/yolo/datasets/val/images/pic_436.jpg: 352x640 1 drone, 3.3ms\n",
      "image 158/272 /home/arnav_pathak/bhumi_itech/selection_task/yolo/datasets/val/images/pic_439.jpg: 384x640 1 drone, 3.4ms\n",
      "image 159/272 /home/arnav_pathak/bhumi_itech/selection_task/yolo/datasets/val/images/pic_440.jpg: 224x640 1 drone, 3.3ms\n",
      "image 160/272 /home/arnav_pathak/bhumi_itech/selection_task/yolo/datasets/val/images/pic_443.jpg: 640x640 1 drone, 3.2ms\n",
      "image 161/272 /home/arnav_pathak/bhumi_itech/selection_task/yolo/datasets/val/images/pic_452.jpg: 640x640 1 drone, 2.8ms\n",
      "image 162/272 /home/arnav_pathak/bhumi_itech/selection_task/yolo/datasets/val/images/pic_454.jpg: 352x640 1 drone, 3.0ms\n",
      "image 163/272 /home/arnav_pathak/bhumi_itech/selection_task/yolo/datasets/val/images/pic_460.jpg: 448x640 3 drones, 3.4ms\n",
      "image 164/272 /home/arnav_pathak/bhumi_itech/selection_task/yolo/datasets/val/images/pic_461.jpg: 384x640 1 drone, 3.6ms\n",
      "image 165/272 /home/arnav_pathak/bhumi_itech/selection_task/yolo/datasets/val/images/pic_467.jpg: 640x448 1 drone, 3.8ms\n",
      "image 166/272 /home/arnav_pathak/bhumi_itech/selection_task/yolo/datasets/val/images/pic_474.jpg: 352x640 1 drone, 3.0ms\n",
      "image 167/272 /home/arnav_pathak/bhumi_itech/selection_task/yolo/datasets/val/images/pic_476.jpg: 320x640 1 drone, 3.3ms\n",
      "image 168/272 /home/arnav_pathak/bhumi_itech/selection_task/yolo/datasets/val/images/pic_489.jpg: 320x640 1 drone, 2.7ms\n",
      "image 169/272 /home/arnav_pathak/bhumi_itech/selection_task/yolo/datasets/val/images/pic_495.jpg: 320x640 1 drone, 3.0ms\n",
      "image 170/272 /home/arnav_pathak/bhumi_itech/selection_task/yolo/datasets/val/images/pic_499.jpg: 448x640 1 drone, 3.3ms\n",
      "image 171/272 /home/arnav_pathak/bhumi_itech/selection_task/yolo/datasets/val/images/pic_502.jpg: 448x640 1 drone, 3.0ms\n",
      "image 172/272 /home/arnav_pathak/bhumi_itech/selection_task/yolo/datasets/val/images/pic_510.jpg: 640x640 1 drone, 3.3ms\n",
      "image 173/272 /home/arnav_pathak/bhumi_itech/selection_task/yolo/datasets/val/images/pic_513.jpg: 288x640 1 drone, 3.4ms\n",
      "image 174/272 /home/arnav_pathak/bhumi_itech/selection_task/yolo/datasets/val/images/pic_517.jpg: 352x640 2 drones, 3.1ms\n",
      "image 175/272 /home/arnav_pathak/bhumi_itech/selection_task/yolo/datasets/val/images/pic_535.jpg: 576x640 1 drone, 3.7ms\n",
      "image 176/272 /home/arnav_pathak/bhumi_itech/selection_task/yolo/datasets/val/images/pic_549.jpg: 640x640 1 drone, 3.4ms\n",
      "image 177/272 /home/arnav_pathak/bhumi_itech/selection_task/yolo/datasets/val/images/pic_550.jpg: 640x640 1 drone, 3.4ms\n",
      "image 178/272 /home/arnav_pathak/bhumi_itech/selection_task/yolo/datasets/val/images/pic_567.jpg: 320x640 1 drone, 3.0ms\n",
      "image 179/272 /home/arnav_pathak/bhumi_itech/selection_task/yolo/datasets/val/images/pic_570.jpg: 480x640 1 drone, 3.3ms\n",
      "image 180/272 /home/arnav_pathak/bhumi_itech/selection_task/yolo/datasets/val/images/pic_577.jpg: 448x640 1 drone, 3.7ms\n",
      "image 181/272 /home/arnav_pathak/bhumi_itech/selection_task/yolo/datasets/val/images/pic_578.jpg: 608x640 1 drone, 3.1ms\n",
      "image 182/272 /home/arnav_pathak/bhumi_itech/selection_task/yolo/datasets/val/images/pic_587.jpg: 352x640 1 drone, 3.0ms\n",
      "image 183/272 /home/arnav_pathak/bhumi_itech/selection_task/yolo/datasets/val/images/pic_589.jpg: 384x640 1 drone, 2.9ms\n",
      "image 184/272 /home/arnav_pathak/bhumi_itech/selection_task/yolo/datasets/val/images/pic_594.jpg: 640x640 1 drone, 3.3ms\n",
      "image 185/272 /home/arnav_pathak/bhumi_itech/selection_task/yolo/datasets/val/images/pic_595.jpg: 640x640 1 drone, 3.2ms\n",
      "image 186/272 /home/arnav_pathak/bhumi_itech/selection_task/yolo/datasets/val/images/pic_596.jpg: 640x640 1 drone, 3.1ms\n",
      "image 187/272 /home/arnav_pathak/bhumi_itech/selection_task/yolo/datasets/val/images/pic_604.jpg: 384x640 1 drone, 2.8ms\n",
      "image 188/272 /home/arnav_pathak/bhumi_itech/selection_task/yolo/datasets/val/images/pic_607.jpg: 384x640 1 drone, 2.5ms\n",
      "image 189/272 /home/arnav_pathak/bhumi_itech/selection_task/yolo/datasets/val/images/pic_617.jpg: 576x640 2 drones, 3.8ms\n",
      "image 190/272 /home/arnav_pathak/bhumi_itech/selection_task/yolo/datasets/val/images/pic_625.jpg: 288x640 1 drone, 4.1ms\n",
      "image 191/272 /home/arnav_pathak/bhumi_itech/selection_task/yolo/datasets/val/images/pic_626.jpg: 448x640 1 drone, 3.3ms\n",
      "image 192/272 /home/arnav_pathak/bhumi_itech/selection_task/yolo/datasets/val/images/pic_656.jpg: 384x640 2 drones, 3.1ms\n",
      "image 193/272 /home/arnav_pathak/bhumi_itech/selection_task/yolo/datasets/val/images/pic_657.jpg: 640x640 1 drone, 3.2ms\n",
      "image 194/272 /home/arnav_pathak/bhumi_itech/selection_task/yolo/datasets/val/images/pic_661.jpg: 640x480 1 drone, 3.4ms\n",
      "image 195/272 /home/arnav_pathak/bhumi_itech/selection_task/yolo/datasets/val/images/pic_662.jpg: 640x640 2 drones, 3.4ms\n",
      "image 196/272 /home/arnav_pathak/bhumi_itech/selection_task/yolo/datasets/val/images/pic_668.jpg: 384x640 1 drone, 2.4ms\n",
      "image 197/272 /home/arnav_pathak/bhumi_itech/selection_task/yolo/datasets/val/images/pic_677.jpg: 480x640 1 drone, 2.9ms\n",
      "image 198/272 /home/arnav_pathak/bhumi_itech/selection_task/yolo/datasets/val/images/pic_695.jpg: 384x640 1 drone, 2.6ms\n",
      "image 199/272 /home/arnav_pathak/bhumi_itech/selection_task/yolo/datasets/val/images/pic_696.jpg: 384x640 1 drone, 3.2ms\n",
      "image 200/272 /home/arnav_pathak/bhumi_itech/selection_task/yolo/datasets/val/images/pic_702.jpg: 384x640 1 drone, 3.1ms\n",
      "image 201/272 /home/arnav_pathak/bhumi_itech/selection_task/yolo/datasets/val/images/pic_715.jpg: 288x640 1 drone, 3.5ms\n",
      "image 202/272 /home/arnav_pathak/bhumi_itech/selection_task/yolo/datasets/val/images/pic_717.jpg: 480x640 2 drones, 3.2ms\n",
      "image 203/272 /home/arnav_pathak/bhumi_itech/selection_task/yolo/datasets/val/images/pic_720.jpg: 384x640 1 drone, 2.9ms\n",
      "image 204/272 /home/arnav_pathak/bhumi_itech/selection_task/yolo/datasets/val/images/pic_723.jpg: 384x640 1 drone, 2.9ms\n",
      "image 205/272 /home/arnav_pathak/bhumi_itech/selection_task/yolo/datasets/val/images/pic_729.jpg: 448x640 2 drones, 3.8ms\n",
      "image 206/272 /home/arnav_pathak/bhumi_itech/selection_task/yolo/datasets/val/images/pic_743.jpg: 416x640 1 drone, 3.2ms\n",
      "image 207/272 /home/arnav_pathak/bhumi_itech/selection_task/yolo/datasets/val/images/pic_763.jpg: 480x640 3 drones, 3.7ms\n",
      "image 208/272 /home/arnav_pathak/bhumi_itech/selection_task/yolo/datasets/val/images/pic_767.jpg: 416x640 1 drone, 3.4ms\n",
      "image 209/272 /home/arnav_pathak/bhumi_itech/selection_task/yolo/datasets/val/images/pic_780.jpg: 640x640 1 drone, 3.1ms\n",
      "image 210/272 /home/arnav_pathak/bhumi_itech/selection_task/yolo/datasets/val/images/pic_781.jpg: 384x640 1 drone, 3.3ms\n",
      "image 211/272 /home/arnav_pathak/bhumi_itech/selection_task/yolo/datasets/val/images/pic_782.jpg: 544x640 1 drone, 2.9ms\n",
      "image 212/272 /home/arnav_pathak/bhumi_itech/selection_task/yolo/datasets/val/images/pic_789.jpg: 640x640 1 drone, 3.4ms\n",
      "image 213/272 /home/arnav_pathak/bhumi_itech/selection_task/yolo/datasets/val/images/pic_792.jpg: 384x640 1 drone, 2.6ms\n",
      "image 214/272 /home/arnav_pathak/bhumi_itech/selection_task/yolo/datasets/val/images/pic_798.jpg: 224x640 1 drone, 2.8ms\n",
      "image 215/272 /home/arnav_pathak/bhumi_itech/selection_task/yolo/datasets/val/images/pic_799.jpg: 640x640 1 drone, 3.5ms\n",
      "image 216/272 /home/arnav_pathak/bhumi_itech/selection_task/yolo/datasets/val/images/pic_806.jpg: 480x640 1 drone, 3.1ms\n",
      "image 217/272 /home/arnav_pathak/bhumi_itech/selection_task/yolo/datasets/val/images/pic_808.jpg: 640x640 2 drones, 3.7ms\n",
      "image 218/272 /home/arnav_pathak/bhumi_itech/selection_task/yolo/datasets/val/images/pic_810.jpg: 512x640 1 drone, 3.5ms\n",
      "image 219/272 /home/arnav_pathak/bhumi_itech/selection_task/yolo/datasets/val/images/pic_811.jpg: 448x640 1 drone, 3.5ms\n",
      "image 220/272 /home/arnav_pathak/bhumi_itech/selection_task/yolo/datasets/val/images/pic_818.jpg: 480x640 1 drone, 3.1ms\n",
      "image 221/272 /home/arnav_pathak/bhumi_itech/selection_task/yolo/datasets/val/images/pic_820.jpg: 384x640 1 drone, 3.1ms\n",
      "image 222/272 /home/arnav_pathak/bhumi_itech/selection_task/yolo/datasets/val/images/pic_821.jpg: 640x480 1 drone, 3.3ms\n",
      "image 223/272 /home/arnav_pathak/bhumi_itech/selection_task/yolo/datasets/val/images/pic_826.jpg: 480x640 1 drone, 3.6ms\n",
      "image 224/272 /home/arnav_pathak/bhumi_itech/selection_task/yolo/datasets/val/images/pic_854.jpg: 480x640 (no detections), 2.8ms\n",
      "image 225/272 /home/arnav_pathak/bhumi_itech/selection_task/yolo/datasets/val/images/pic_859.jpg: 640x640 1 drone, 3.1ms\n",
      "image 226/272 /home/arnav_pathak/bhumi_itech/selection_task/yolo/datasets/val/images/pic_869.jpg: 544x640 1 drone, 2.9ms\n",
      "image 227/272 /home/arnav_pathak/bhumi_itech/selection_task/yolo/datasets/val/images/pic_878.jpg: 640x640 1 drone, 3.1ms\n",
      "image 228/272 /home/arnav_pathak/bhumi_itech/selection_task/yolo/datasets/val/images/pic_893.jpg: 384x640 1 drone, 2.5ms\n",
      "image 229/272 /home/arnav_pathak/bhumi_itech/selection_task/yolo/datasets/val/images/pic_896.jpg: 160x640 1 drone, 2.7ms\n",
      "image 230/272 /home/arnav_pathak/bhumi_itech/selection_task/yolo/datasets/val/images/pic_905.jpg: 640x640 1 drone, 3.3ms\n",
      "image 231/272 /home/arnav_pathak/bhumi_itech/selection_task/yolo/datasets/val/images/pic_917.jpg: 384x640 1 drone, 2.8ms\n",
      "image 232/272 /home/arnav_pathak/bhumi_itech/selection_task/yolo/datasets/val/images/pic_921.jpg: 384x640 1 drone, 2.2ms\n",
      "image 233/272 /home/arnav_pathak/bhumi_itech/selection_task/yolo/datasets/val/images/pic_928.jpg: 224x640 3 drones, 2.8ms\n",
      "image 234/272 /home/arnav_pathak/bhumi_itech/selection_task/yolo/datasets/val/images/pic_935.jpg: 640x640 2 drones, 3.1ms\n",
      "image 235/272 /home/arnav_pathak/bhumi_itech/selection_task/yolo/datasets/val/images/pic_937.jpg: 288x640 1 drone, 3.3ms\n",
      "image 236/272 /home/arnav_pathak/bhumi_itech/selection_task/yolo/datasets/val/images/pic_983.jpg: 480x640 3 drones, 2.8ms\n",
      "image 237/272 /home/arnav_pathak/bhumi_itech/selection_task/yolo/datasets/val/images/scene00016.jpg: 384x640 3 drones, 3.1ms\n",
      "image 238/272 /home/arnav_pathak/bhumi_itech/selection_task/yolo/datasets/val/images/scene00061.jpg: 384x640 (no detections), 2.9ms\n",
      "image 239/272 /home/arnav_pathak/bhumi_itech/selection_task/yolo/datasets/val/images/scene00106.jpg: 384x640 1 drone, 2.5ms\n",
      "image 240/272 /home/arnav_pathak/bhumi_itech/selection_task/yolo/datasets/val/images/scene00166.jpg: 384x640 1 drone, 2.3ms\n",
      "image 241/272 /home/arnav_pathak/bhumi_itech/selection_task/yolo/datasets/val/images/scene00286.jpg: 384x640 1 drone, 2.5ms\n",
      "image 242/272 /home/arnav_pathak/bhumi_itech/selection_task/yolo/datasets/val/images/scene00301.jpg: 384x640 1 drone, 2.2ms\n",
      "image 243/272 /home/arnav_pathak/bhumi_itech/selection_task/yolo/datasets/val/images/scene00421.jpg: 384x640 1 drone, 2.2ms\n",
      "image 244/272 /home/arnav_pathak/bhumi_itech/selection_task/yolo/datasets/val/images/scene00511.jpg: 384x640 2 drones, 2.7ms\n",
      "image 245/272 /home/arnav_pathak/bhumi_itech/selection_task/yolo/datasets/val/images/scene00571.jpg: 384x640 1 drone, 2.5ms\n",
      "image 246/272 /home/arnav_pathak/bhumi_itech/selection_task/yolo/datasets/val/images/scene00601.jpg: 384x640 1 drone, 2.3ms\n",
      "image 247/272 /home/arnav_pathak/bhumi_itech/selection_task/yolo/datasets/val/images/scene00646.jpg: 384x640 1 drone, 2.3ms\n",
      "image 248/272 /home/arnav_pathak/bhumi_itech/selection_task/yolo/datasets/val/images/scene00691.jpg: 384x640 2 drones, 2.4ms\n",
      "image 249/272 /home/arnav_pathak/bhumi_itech/selection_task/yolo/datasets/val/images/scene00766.jpg: 384x640 1 drone, 2.3ms\n",
      "image 250/272 /home/arnav_pathak/bhumi_itech/selection_task/yolo/datasets/val/images/scene00811.jpg: 384x640 1 drone, 2.4ms\n",
      "image 251/272 /home/arnav_pathak/bhumi_itech/selection_task/yolo/datasets/val/images/scene00886.jpg: 384x640 1 drone, 2.5ms\n",
      "image 252/272 /home/arnav_pathak/bhumi_itech/selection_task/yolo/datasets/val/images/scene00916.jpg: 384x640 1 drone, 2.8ms\n",
      "image 253/272 /home/arnav_pathak/bhumi_itech/selection_task/yolo/datasets/val/images/yoto00030.jpg: 384x640 1 drone, 2.5ms\n",
      "image 254/272 /home/arnav_pathak/bhumi_itech/selection_task/yolo/datasets/val/images/yoto00291.jpg: 384x640 1 drone, 2.6ms\n",
      "image 255/272 /home/arnav_pathak/bhumi_itech/selection_task/yolo/datasets/val/images/yoto00987.jpg: 384x640 1 drone, 2.6ms\n",
      "image 256/272 /home/arnav_pathak/bhumi_itech/selection_task/yolo/datasets/val/images/yoto01248.jpg: 384x640 1 drone, 2.5ms\n",
      "image 257/272 /home/arnav_pathak/bhumi_itech/selection_task/yolo/datasets/val/images/yoto01335.jpg: 384x640 1 drone, 2.9ms\n",
      "image 258/272 /home/arnav_pathak/bhumi_itech/selection_task/yolo/datasets/val/images/yoto01364.jpg: 384x640 3 drones, 2.3ms\n",
      "image 259/272 /home/arnav_pathak/bhumi_itech/selection_task/yolo/datasets/val/images/yoto01422.jpg: 384x640 2 drones, 2.6ms\n",
      "image 260/272 /home/arnav_pathak/bhumi_itech/selection_task/yolo/datasets/val/images/yoto02611.jpg: 384x640 1 drone, 3.0ms\n",
      "image 261/272 /home/arnav_pathak/bhumi_itech/selection_task/yolo/datasets/val/images/yoto02756.jpg: 384x640 1 drone, 2.8ms\n",
      "image 262/272 /home/arnav_pathak/bhumi_itech/selection_task/yolo/datasets/val/images/yoto02872.jpg: 384x640 1 drone, 2.4ms\n",
      "image 263/272 /home/arnav_pathak/bhumi_itech/selection_task/yolo/datasets/val/images/yoto02988.jpg: 384x640 1 drone, 2.3ms\n",
      "image 264/272 /home/arnav_pathak/bhumi_itech/selection_task/yolo/datasets/val/images/yoto06410.jpg: 384x640 1 drone, 2.3ms\n",
      "image 265/272 /home/arnav_pathak/bhumi_itech/selection_task/yolo/datasets/val/images/yoto06497.jpg: 384x640 1 drone, 2.4ms\n",
      "image 266/272 /home/arnav_pathak/bhumi_itech/selection_task/yolo/datasets/val/images/yoto10499.jpg: 384x640 1 drone, 2.2ms\n",
      "image 267/272 /home/arnav_pathak/bhumi_itech/selection_task/yolo/datasets/val/images/yoto10586.jpg: 384x640 1 drone, 2.3ms\n",
      "image 268/272 /home/arnav_pathak/bhumi_itech/selection_task/yolo/datasets/val/images/yoto10702.jpg: 384x640 1 drone, 2.5ms\n",
      "image 269/272 /home/arnav_pathak/bhumi_itech/selection_task/yolo/datasets/val/images/yoto10789.jpg: 384x640 1 drone, 2.5ms\n",
      "image 270/272 /home/arnav_pathak/bhumi_itech/selection_task/yolo/datasets/val/images/yoto10876.jpg: 384x640 1 drone, 2.6ms\n",
      "image 271/272 /home/arnav_pathak/bhumi_itech/selection_task/yolo/datasets/val/images/yoto10963.jpg: 384x640 1 drone, 2.5ms\n",
      "image 272/272 /home/arnav_pathak/bhumi_itech/selection_task/yolo/datasets/val/images/yoto11050.jpg: 384x640 1 drone, 2.5ms\n",
      "Speed: 1.3ms preprocess, 3.3ms inference, 0.8ms postprocess per image at shape (1, 3, 384, 640)\n",
      "Results saved to \u001b[1mruns/detect/train35\u001b[0m\n",
      "263 labels saved to runs/detect/train35/labels\n"
     ]
    }
   ],
   "source": [
    "results = model.val(\n",
    "    data=\"dataset.yaml\",\n",
    "    imgsz=640,\n",
    "    batch=32,\n",
    ")\n",
    "\n",
    "\n",
    "val_results = model.predict(\n",
    "    source=\"/home/arnav_pathak/bhumi_itech/selection_task/yolo/datasets/val/images\",\n",
    "    save=True,\n",
    "    save_txt=True,\n",
    "    conf=0.25,\n",
    ")\n"
   ]
  },
  {
   "cell_type": "markdown",
   "metadata": {},
   "source": [
    "Run the cell below using `Ctrl+Enter` to view random predictions and their ground truth to validate the model's performance"
   ]
  },
  {
   "cell_type": "code",
   "execution_count": 96,
   "metadata": {},
   "outputs": [
    {
     "name": "stdout",
     "output_type": "stream",
     "text": [
      "\n",
      "0: 384x640 1 drone, 3.6ms\n",
      "Speed: 2.0ms preprocess, 3.6ms inference, 0.7ms postprocess per image at shape (1, 3, 384, 640)\n"
     ]
    },
    {
     "data": {
      "image/png": "[encoded data removed]",
      "text/plain": [
       "<Figure size 1500x700 with 2 Axes>"
      ]
     },
     "metadata": {},
     "output_type": "display_data"
    }
   ],
   "source": [
    "import os\n",
    "import cv2\n",
    "import random\n",
    "import matplotlib.pyplot as plt\n",
    "from ultralytics.utils.plotting import Annotator\n",
    "\n",
    "val_images_dir = (\n",
    "    \"/home/arnav_pathak/bhumi_itech/selection_task/yolo/datasets/val/images\"\n",
    ")\n",
    "val_labels_dir = (\n",
    "    \"/home/arnav_pathak/bhumi_itech/selection_task/yolo/datasets/val/labels\"\n",
    ")\n",
    "\n",
    "image_files = [\n",
    "    f for f in os.listdir(val_images_dir) if f.endswith((\".jpg\", \".png\", \".jpeg\"))\n",
    "]\n",
    "random_image_filename = random.choice(image_files)\n",
    "random_image_path = os.path.join(val_images_dir, random_image_filename)\n",
    "\n",
    "img = cv2.imread(random_image_path)\n",
    "img_height, img_width, _ = img.shape\n",
    "\n",
    "results = model.predict(img, conf=0.25)\n",
    "\n",
    "label_filename = os.path.splitext(random_image_filename)[0] + \".txt\"\n",
    "label_path = os.path.join(val_labels_dir, label_filename)\n",
    "\n",
    "fig, (ax1, ax2) = plt.subplots(1, 2, figsize=(15, 7))\n",
    "\n",
    "pred_img = results[0].plot()\n",
    "ax1.imshow(cv2.cvtColor(pred_img, cv2.COLOR_BGR2RGB))\n",
    "ax1.set_title(\"Model Predictions\")\n",
    "ax1.axis(\"off\")\n",
    "\n",
    "annotator = Annotator(img.copy())\n",
    "if os.path.exists(label_path):\n",
    "    with open(label_path, \"r\") as f:\n",
    "        for line in f:\n",
    "            class_id, x_center, y_center, width, height = map(float, line.split())\n",
    "\n",
    "            x1 = int((x_center - width / 2) * img_width)\n",
    "            y1 = int((y_center - height / 2) * img_height)\n",
    "            x2 = int((x_center + width / 2) * img_width)\n",
    "            y2 = int((y_center + height / 2) * img_height)\n",
    "\n",
    "            annotator.box_label((x1, y1, x2, y2), model.names[int(class_id)])\n",
    "\n",
    "ground_truth_img = annotator.result()\n",
    "ax2.imshow(cv2.cvtColor(ground_truth_img, cv2.COLOR_BGR2RGB))\n",
    "ax2.set_title(\"Ground Truth\")\n",
    "ax2.axis(\"off\")\n",
    "\n",
    "plt.suptitle(f\"Image: {random_image_filename}\")\n",
    "plt.tight_layout()\n",
    "plt.show()\n"
   ]
  },
  {
   "cell_type": "code",
   "execution_count": null,
   "metadata": {},
   "outputs": [],
   "source": []
  }
 ],
 "metadata": {
  "kernelspec": {
   "display_name": "yolo",
   "language": "python",
   "name": "python3"
  },
  "language_info": {
   "codemirror_mode": {
    "name": "ipython",
    "version": 3
   },
   "file_extension": ".py",
   "mimetype": "text/x-python",
   "name": "python",
   "nbconvert_exporter": "python",
   "pygments_lexer": "ipython3",
   "version": "3.12.3"
  }
 },
 "nbformat": 4,
 "nbformat_minor": 2
}
